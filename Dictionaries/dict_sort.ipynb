{
 "cells": [
  {
   "cell_type": "markdown",
   "id": "308e2aa0-bd54-49f0-8032-a84a7a7e180d",
   "metadata": {},
   "source": [
    " \n",
    "##  <span style = \"color:darkred\"> Sorting a Dictionary</span>\n",
    " "
   ]
  },
  {
   "cell_type": "markdown",
   "id": "bf8540e1",
   "metadata": {},
   "source": [
    "https://docs.python.org/3/howto/sorting.html"
   ]
  },
  {
   "cell_type": "code",
   "execution_count": 4,
   "id": "dab20112-5fd2-441e-b4c5-9eacb8705d01",
   "metadata": {},
   "outputs": [
    {
     "data": {
      "text/plain": [
       "{'elephant': 23, 'bear': 20, 'cat': 12, 'dog': 6}"
      ]
     },
     "execution_count": 4,
     "metadata": {},
     "output_type": "execute_result"
    }
   ],
   "source": [
    "myDict = {\"elephant\":23, \"bear\":20, \"cat\":12,\"dog\":6 }\n",
    "myDict"
   ]
  },
  {
   "cell_type": "markdown",
   "id": "1a274544-e6eb-47d6-81a9-60d64be38307",
   "metadata": {},
   "source": [
    "#### **Note**: `sort()` can not be used on a dictionary. Use `sorted()` instead"
   ]
  },
  {
   "cell_type": "code",
   "execution_count": 6,
   "id": "7a868211-e62a-4ecc-8cd3-961d3eaba84a",
   "metadata": {},
   "outputs": [
    {
     "ename": "AttributeError",
     "evalue": "'dict' object has no attribute 'sort'",
     "output_type": "error",
     "traceback": [
      "\u001b[0;31m---------------------------------------------------------------------------\u001b[0m",
      "\u001b[0;31mAttributeError\u001b[0m                            Traceback (most recent call last)",
      "Cell \u001b[0;32mIn[6], line 2\u001b[0m\n\u001b[1;32m      1\u001b[0m \u001b[38;5;66;03m#can't use sort() on a dictionary\u001b[39;00m\n\u001b[0;32m----> 2\u001b[0m myDict\u001b[38;5;241m.\u001b[39msort() \u001b[38;5;66;03m#AttributeError: 'dict' object has no attribute 'sort'\u001b[39;00m\n\u001b[1;32m      3\u001b[0m \u001b[38;5;28mprint\u001b[39m(myDict)\n",
      "\u001b[0;31mAttributeError\u001b[0m: 'dict' object has no attribute 'sort'"
     ]
    }
   ],
   "source": [
    "#can't use sort() on a dictionary\n",
    "myDict.sort() #AttributeError: 'dict' object has no attribute 'sort'\n",
    "print(myDict)"
   ]
  },
  {
   "cell_type": "markdown",
   "id": "3380bbc6-17b9-4ace-9755-7fc8a9207a60",
   "metadata": {
    "lines_to_next_cell": 2,
    "scrolled": true
   },
   "source": [
    "keys = myDict.keys()\n",
    "print(type(keys))\t#returns <class 'dict_keys'>, not <class 'list'>\n",
    "keys.sort()  #causes AttributeError: 'dict_keys' object has no attribute 'sort'\n",
    "print(keys)"
   ]
  },
  {
   "cell_type": "markdown",
   "id": "1b674b90-31e9-4531-86bc-7f6906c0f789",
   "metadata": {
    "lines_to_next_cell": 2
   },
   "source": [
    "### <span style = \"color:darkred\">  Sort **keys** of a dictionary </span>\n",
    "Passing a dictionary to sorted() returns **a sorted list of dictionary keys**."
   ]
  },
  {
   "cell_type": "code",
   "execution_count": 11,
   "id": "174ae3fa",
   "metadata": {},
   "outputs": [
    {
     "name": "stdout",
     "output_type": "stream",
     "text": [
      "['bear', 'cat', 'dog', 'elephant']\n"
     ]
    }
   ],
   "source": [
    "#Generate sorted keys by use of sorted() function. -- 1\n",
    "sortedKeyList = sorted(myDict)  \n",
    "print(sortedKeyList)\n",
    "#Note that sorted(myDict) does not change the myDict, but instead return a sorted list of keys."
   ]
  },
  {
   "cell_type": "code",
   "execution_count": 13,
   "id": "abb1563c",
   "metadata": {},
   "outputs": [
    {
     "name": "stdout",
     "output_type": "stream",
     "text": [
      "['bear', 'cat', 'dog', 'elephant']\n"
     ]
    }
   ],
   "source": [
    "#Generate sorted keys by use of sorted() function. -- 2\n",
    "sortedKeyList = sorted(myDict.keys())   #same as sortedKeyList = sorted(myDict)\n",
    "print(sortedKeyList)"
   ]
  },
  {
   "cell_type": "markdown",
   "id": "7b78b612-9b14-403d-9daf-ce017e692ed8",
   "metadata": {},
   "source": [
    "#### **Note**: `myDict.keys()` does not return a list type"
   ]
  },
  {
   "cell_type": "code",
   "execution_count": 15,
   "id": "569e46b7",
   "metadata": {},
   "outputs": [
    {
     "name": "stdout",
     "output_type": "stream",
     "text": [
      "<class 'dict_keys'>\n"
     ]
    },
    {
     "data": {
      "text/plain": [
       "dict_keys(['elephant', 'bear', 'cat', 'dog'])"
      ]
     },
     "execution_count": 15,
     "metadata": {},
     "output_type": "execute_result"
    }
   ],
   "source": [
    "#generate sorted keys by use of sort() function. Need type casting.\n",
    "print(type(myDict.keys())) \n",
    "myDict.keys()"
   ]
  },
  {
   "cell_type": "markdown",
   "id": "fcfc93a6-8d2f-41a4-80b4-af621c8a2742",
   "metadata": {
    "lines_to_next_cell": 2
   },
   "source": [
    "###  <span style = \"color:darkred\">  Sort **values** of a dictionary </span>"
   ]
  },
  {
   "cell_type": "code",
   "execution_count": 17,
   "id": "9471826e",
   "metadata": {
    "lines_to_next_cell": 2
   },
   "outputs": [
    {
     "name": "stdout",
     "output_type": "stream",
     "text": [
      "type(myDict.vaules()):  <class 'dict_values'>\n",
      "[6, 12, 20, 23]\n"
     ]
    }
   ],
   "source": [
    "#Sort the dictionary (by value) and generate a list of sorted values ----\n",
    "\n",
    "sortedValuesList = sorted(myDict.values())\n",
    "print(\"type(myDict.vaules()): \", type(myDict.values()))\n",
    "print(sortedValuesList)"
   ]
  },
  {
   "cell_type": "markdown",
   "id": "a531a8b6-ade0-43d4-bf7f-a4c99c94a304",
   "metadata": {
    "lines_to_next_cell": 2
   },
   "source": [
    "### <span style = \"color:darkred\">  Sort **key-value pairs** of a dictionary </span>"
   ]
  },
  {
   "cell_type": "code",
   "execution_count": 19,
   "id": "5e973ed7",
   "metadata": {},
   "outputs": [
    {
     "name": "stdout",
     "output_type": "stream",
     "text": [
      "sorted result:  [('bear', 20), ('cat', 12), ('dog', 6), ('elephant', 23)]\n",
      "Type of sorted result:  <class 'list'>\n",
      "original dictionary: {'elephant': 23, 'bear': 20, 'cat': 12, 'dog': 6}\n",
      "Type of original result:  <class 'dict'>\n"
     ]
    }
   ],
   "source": [
    "# 1. Sort the dictionary (by key) and generate a list of sorted <k,v> tuples, \n",
    "\n",
    "sortedTupleList = sorted(myDict.items())#each item is a tuple元组，数组 containing the key and value of the entry\n",
    "\n",
    "#items() 方法返回一个 视图对象（view object），包含字典中的所有键值对。\n",
    "#每个键值对都是一个包含两个元素的元组，形式是 (key, value)，即字典的 键 和 值。\n",
    "\n",
    "print(\"sorted result: \", sortedTupleList)\n",
    "print(\"Type of sorted result: \", type(sortedTupleList))\n",
    "print(\"original dictionary:\", myDict)\n",
    "print(\"Type of original result: \", type(myDict))"
   ]
  },
  {
   "cell_type": "code",
   "execution_count": 21,
   "id": "cb7e43fe-45f9-4af9-949f-71b21d0cac64",
   "metadata": {},
   "outputs": [
    {
     "data": {
      "text/plain": [
       "{'bear': 20, 'cat': 12, 'dog': 6, 'elephant': 23}"
      ]
     },
     "execution_count": 21,
     "metadata": {},
     "output_type": "execute_result"
    }
   ],
   "source": [
    "myDict=dict(sortedTupleList)\n",
    "myDict"
   ]
  },
  {
   "cell_type": "code",
   "execution_count": null,
   "id": "1b145ce2",
   "metadata": {
    "scrolled": true
   },
   "outputs": [],
   "source": [
    "# 2. Save the results to a original dictionary.  \n",
    "\n",
    "myDict = dict(sortedTupleList)\t#create a dict using a list of tuples\n",
    "myDict\n"
   ]
  },
  {
   "cell_type": "markdown",
   "id": "02ba81f5-869b-4363-9fad-52866415a3cd",
   "metadata": {},
   "source": [
    " \n",
    "##  <span style = \"color:orangered\"> Practice</span> <br>\n",
    "\n",
    "Given the following dictionary *fruit_basket*, <br>\n",
    "- print the sorted result in the following format. You don't need to print the bullet symbol.\n",
    "  - Apple: 10\n",
    "  - Banana: 6\n",
    "  - Orange: 8\n",
    "  - Mango: 12\n",
    "  - Grapes: 15\n",
    "  \n",
    "- sort the fruit basket by fruit names and store the sorted result in a new dictionary.\n",
    "\n",
    "- print the sorted result in the same format as shown above."
   ]
  },
  {
   "cell_type": "code",
   "execution_count": 23,
   "id": "0109db43-1d67-411a-a546-27d2547a38fd",
   "metadata": {},
   "outputs": [
    {
     "name": "stdout",
     "output_type": "stream",
     "text": [
      "sorted result:  [('Apple', 10), ('Banana', 6), ('Grapes', 15), ('Mango', 12), ('Orange', 8)]\n",
      "type of sorted result:  <class 'list'>\n"
     ]
    }
   ],
   "source": [
    "# A simple dictionary representing a fruit basket\n",
    "fruit_basket = {\n",
    "    \"Apple\": 10,\n",
    "    \"Banana\": 6,\n",
    "    \"Orange\": 8,\n",
    "    \"Mango\": 12,\n",
    "    \"Grapes\": 15\n",
    "}\n",
    "sorted_fruit_basket = sorted(fruit_basket.items())\n",
    "print(\"sorted result: \",sorted_fruit_basket )\n",
    "print(\"type of sorted result: \",type(sorted_fruit_basket))"
   ]
  },
  {
   "cell_type": "code",
   "execution_count": 25,
   "id": "a61769fd-d88e-4b8e-b515-c0c4d24c4d58",
   "metadata": {},
   "outputs": [
    {
     "name": "stdout",
     "output_type": "stream",
     "text": [
      "Apple:10\n",
      "Banana:6\n",
      "Orange:8\n",
      "Mango:12\n",
      "Grapes:15\n"
     ]
    }
   ],
   "source": [
    "for (name,quantity) in fruit_basket.items():\n",
    "    print(f\"{name}:{quantity}\")"
   ]
  },
  {
   "cell_type": "code",
   "execution_count": 27,
   "id": "81276ec9-8cbc-4dc9-ad14-270cb9979ebe",
   "metadata": {},
   "outputs": [
    {
     "name": "stdout",
     "output_type": "stream",
     "text": [
      "Banana: 6\n",
      "Orange: 8\n",
      "Apple: 10\n",
      "Mango: 12\n",
      "Grapes: 15\n"
     ]
    }
   ],
   "source": [
    "#错误示范\n",
    "#for (name,quantity) in （fruit_basket.items()，key=lambda item:item[1]）:\n",
    "   # print(f\"{name}:{quantity}\")\n",
    "\n",
    "#正确示范\n",
    "for (name, quantity) in sorted(fruit_basket.items(), key=lambda item: item[1]): #根据数字排列\n",
    "    print(f\"{name}: {quantity}\")\n",
    "\n",
    "#lambda item: item[1] 是一个匿名函数（lambda 函数），\n",
    "#表示我们希望按照字典项（即 (name, quantity) 元组）的第二个元素进行排序（即 quantity）。\n",
    "#item[1]====(name, quantity) 元组 的第二个元素进行排序\n",
    "\n",
    "    #key 参数是 sorted() 函数中的一个重要参数，它决定了排序的依据。\n",
    "#key 接受一个函数，这个函数会被应用到每个待排序的元素上，然后根据函数的返回值进行排序。"
   ]
  },
  {
   "cell_type": "code",
   "execution_count": null,
   "id": "da839141-12bb-4269-b0ed-81281264b1ee",
   "metadata": {},
   "outputs": [],
   "source": [
    "#解释一下lamba函数\n",
    "# 定义一个lambda函数，计算两个数的和\n",
    "add = lambda x, y: x + y\n",
    "\n",
    "# 使用lambda函数\n",
    "result = add(3, 5)\n",
    "print(result)  # 输出 8\n"
   ]
  },
  {
   "cell_type": "code",
   "execution_count": null,
   "id": "b012f226-daa2-4387-977d-14325119713a",
   "metadata": {},
   "outputs": [],
   "source": []
  },
  {
   "cell_type": "markdown",
   "id": "ff907ef6-ceca-430f-b608-d651884a5e3b",
   "metadata": {},
   "source": [
    " \n",
    "##  <span style = \"color:darkred\"> Use a Lambda Function in Dictionary Sorting</span>\n",
    " "
   ]
  },
  {
   "cell_type": "markdown",
   "id": "5b2afba6-645f-4e45-8340-b792b1ddf79d",
   "metadata": {},
   "source": [
    "### Example 1"
   ]
  },
  {
   "cell_type": "code",
   "execution_count": 41,
   "id": "e8f9a3ca",
   "metadata": {},
   "outputs": [
    {
     "ename": "TypeError",
     "evalue": "'value' is an invalid keyword argument for sort()",
     "output_type": "error",
     "traceback": [
      "\u001b[0;31m---------------------------------------------------------------------------\u001b[0m",
      "\u001b[0;31mTypeError\u001b[0m                                 Traceback (most recent call last)",
      "Cell \u001b[0;32mIn[41], line 4\u001b[0m\n\u001b[1;32m      1\u001b[0m \u001b[38;5;66;03m# Sort the dictionary (by value) and generate a list of sorted <k,v> tuples, \u001b[39;00m\n\u001b[1;32m      2\u001b[0m \u001b[38;5;66;03m# and save the results to a new dictionary \u001b[39;00m\n\u001b[0;32m----> 4\u001b[0m sortedTupleList \u001b[38;5;241m=\u001b[39m \u001b[38;5;28msorted\u001b[39m(myDict\u001b[38;5;241m.\u001b[39mitems(), value \u001b[38;5;241m=\u001b[39m \u001b[38;5;28;01mlambda\u001b[39;00m item:(item[\u001b[38;5;241m1\u001b[39m])) \n\u001b[1;32m      5\u001b[0m \u001b[38;5;66;03m#item is a typical item in the dictionary, i.e., a (key ,value) pair\u001b[39;00m\n\u001b[1;32m      6\u001b[0m \u001b[38;5;28mprint\u001b[39m(\u001b[38;5;28mtype\u001b[39m(sortedTupleList))\n",
      "\u001b[0;31mTypeError\u001b[0m: 'value' is an invalid keyword argument for sort()"
     ]
    }
   ],
   "source": [
    "# Sort the dictionary (by value) and generate a list of sorted <k,v> tuples, \n",
    "# and save the results to a new dictionary \n",
    " \n",
    "sortedTupleList = sorted(myDict.items(), key = lambda item:(item[1])) \n",
    "#item is a typical item in the dictionary, i.e., a (key ,value) pair\n",
    "print(type(sortedTupleList))\n",
    "print(\"Sorted result:\", sortedTupleList) #输出为list"
   ]
  },
  {
   "cell_type": "code",
   "execution_count": 31,
   "id": "659cb77c",
   "metadata": {},
   "outputs": [
    {
     "name": "stdout",
     "output_type": "stream",
     "text": [
      "<class 'dict'>\n",
      "{'dog': 6, 'cat': 12, 'bear': 20, 'elephant': 23}\n"
     ]
    }
   ],
   "source": [
    "sortedDict = dict(sortedTupleList)\t#create a dict using a list of tuples\n",
    "print(type(sortedDict))\n",
    "print(sortedDict) #输出为dict"
   ]
  },
  {
   "cell_type": "markdown",
   "id": "3afa530f-1a73-4a77-b5d0-6c74647477c2",
   "metadata": {},
   "source": [
    "### Example 2"
   ]
  },
  {
   "cell_type": "code",
   "execution_count": 39,
   "id": "5b10395b",
   "metadata": {},
   "outputs": [
    {
     "name": "stdout",
     "output_type": "stream",
     "text": [
      "{'Boston, MA': 68, 'Glenside, PA': 73, 'Los Angeles, CA': 80, 'New York, NY': 70, 'Philadelphia, PA': 75}\n"
     ]
    }
   ],
   "source": [
    "# Sort the dictionary (by lower case of the key string) and \n",
    "#\t    save the results to a new dictionary \n",
    "dTemperature= {\"Glenside, PA\": 73, \"New York, NY\":70, \n",
    "               \"Los Angeles, CA\":80, \"Boston, MA\":68,\"Philadelphia, PA\":75 }\n",
    "sortedTupleList = sorted(dTemperature.items(), key = lambda k: (k[0]).lower() )\n",
    "sortedDict = dict(sortedTupleList)\n",
    "print(sortedDict)"
   ]
  },
  {
   "cell_type": "code",
   "execution_count": null,
   "id": "f3391809-efc6-4141-ae2a-8acb6a517b2b",
   "metadata": {},
   "outputs": [],
   "source": [
    "\"Glenside,PA\".lower()"
   ]
  },
  {
   "cell_type": "code",
   "execution_count": null,
   "id": "e61c44a3-9805-478d-ac42-f7647c30131d",
   "metadata": {},
   "outputs": [],
   "source": []
  }
 ],
 "metadata": {
  "jupytext": {
   "cell_metadata_filter": "-all",
   "encoding": "# -*- coding: utf-8 -*-",
   "executable": "/usr/bin/env python3",
   "main_language": "python",
   "notebook_metadata_filter": "-all"
  },
  "kernelspec": {
   "display_name": "Python [conda env:base] *",
   "language": "python",
   "name": "conda-base-py"
  },
  "language_info": {
   "codemirror_mode": {
    "name": "ipython",
    "version": 3
   },
   "file_extension": ".py",
   "mimetype": "text/x-python",
   "name": "python",
   "nbconvert_exporter": "python",
   "pygments_lexer": "ipython3",
   "version": "3.12.4"
  }
 },
 "nbformat": 4,
 "nbformat_minor": 5
}
