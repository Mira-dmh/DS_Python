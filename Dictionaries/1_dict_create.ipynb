{
 "cells": [
  {
   "cell_type": "markdown",
   "id": "d5fc086e-f7bb-486a-9eb3-e6f70156036e",
   "metadata": {},
   "source": [
    " \n",
    "### <span style = \"color:darkred\"> Dictionary Construction </span>\n",
    " "
   ]
  },
  {
   "cell_type": "markdown",
   "id": "ae42b394",
   "metadata": {},
   "source": [
    "#### Method one"
   ]
  },
  {
   "cell_type": "code",
   "execution_count": 15,
   "id": "cd62d5bb",
   "metadata": {},
   "outputs": [
    {
     "name": "stdout",
     "output_type": "stream",
     "text": [
      "{'one': 'uno', 'two': 'dos', 'three': 'tres'}\n"
     ]
    },
    {
     "data": {
      "text/plain": [
       "{'two': 'dos', 'one': 'uno', 'three': 'tres'}"
      ]
     },
     "execution_count": 15,
     "metadata": {},
     "output_type": "execute_result"
    }
   ],
   "source": [
    "#method one:\n",
    "eng2sp_A = {'one': 'uno', 'two': 'dos', 'three':'tres'}\n",
    "eng2sp_B = {'two': 'dos','one': 'uno',  'three':'tres'} #order does not matter\n",
    "print(eng2sp_A)\n",
    "eng2sp_B"
   ]
  },
  {
   "cell_type": "code",
   "execution_count": 6,
   "id": "3fbebda0-f6b7-4f64-bc28-fd9c1176d886",
   "metadata": {},
   "outputs": [
    {
     "data": {
      "text/plain": [
       "{'Amelia': '1000$', 'Mira': '2000$', 'Joyce': '3000$'}"
      ]
     },
     "execution_count": 6,
     "metadata": {},
     "output_type": "execute_result"
    }
   ],
   "source": [
    "student_income = {'Amelia': '1000$', 'Mira': '2000$', 'Joyce':'3000$'}\n",
    "student_income"
   ]
  },
  {
   "cell_type": "markdown",
   "id": "6f46f494",
   "metadata": {},
   "source": [
    "#### Method two"
   ]
  },
  {
   "cell_type": "code",
   "execution_count": 4,
   "id": "68ac6513",
   "metadata": {},
   "outputs": [
    {
     "data": {
      "text/plain": [
       "{'one': 'uno', 'two': 'dos', 'three': 'tres'}"
      ]
     },
     "execution_count": 4,
     "metadata": {},
     "output_type": "execute_result"
    }
   ],
   "source": [
    "#method two \n",
    "eng2sp_C = {}\n",
    "eng2sp_C['one'] = 'uno'\n",
    "eng2sp_C['two'] = 'dos'\n",
    "eng2sp_C['three'] = 'tres'\n",
    "eng2sp_C"
   ]
  },
  {
   "cell_type": "code",
   "execution_count": 14,
   "id": "56522468",
   "metadata": {},
   "outputs": [
    {
     "name": "stdout",
     "output_type": "stream",
     "text": [
      "['uno']\n"
     ]
    }
   ],
   "source": [
    "numList = []  # 空列表\n",
    "numList.append('uno')  # 使用 append() 方法添加元素\n",
    "print(numList)  # 输出: ['uno']"
   ]
  },
  {
   "cell_type": "code",
   "execution_count": 16,
   "id": "65806ac2-517c-44e3-a0d3-78d24df7230e",
   "metadata": {},
   "outputs": [
    {
     "name": "stdout",
     "output_type": "stream",
     "text": [
      "['tres', 'dos']\n"
     ]
    }
   ],
   "source": [
    "numList = ['uno', 'dos']\n",
    "numList[0] = 'tres'  # 修改索引 0 处的元素\n",
    "print(numList)  # 输出: ['tres', 'dos']"
   ]
  },
  {
   "cell_type": "markdown",
   "id": "94e7bff4",
   "metadata": {},
   "source": [
    "#### Method three: \n",
    "zip two lists together to make a dictionary"
   ]
  },
  {
   "cell_type": "code",
   "execution_count": 2,
   "id": "b34cede0",
   "metadata": {},
   "outputs": [
    {
     "data": {
      "text/plain": [
       "{'one': 'uno', 'two': 'dos', 'three': 'tres'}"
      ]
     },
     "execution_count": 2,
     "metadata": {},
     "output_type": "execute_result"
    }
   ],
   "source": [
    "#method three: zip two lists together to make a dictionary\n",
    "engList = ['one','two','three']\n",
    "spList = ['uno','dos','tres']\n",
    "eng2sp_D = dict(zip(engList, spList))\n",
    "eng2sp_D"
   ]
  },
  {
   "cell_type": "markdown",
   "id": "fcc88bbc",
   "metadata": {},
   "source": [
    "#### Method four: \n",
    "Use the constructor method dict() to construct a dictionary from a list of tuples."
   ]
  },
  {
   "cell_type": "code",
   "execution_count": 18,
   "id": "2a8509f5",
   "metadata": {},
   "outputs": [
    {
     "data": {
      "text/plain": [
       "{'one': 'uno', 'two': 'dos', 'three': 'tres'}"
      ]
     },
     "execution_count": 18,
     "metadata": {},
     "output_type": "execute_result"
    }
   ],
   "source": [
    "#method three: use the constructor method dict() to construct \n",
    "#               a dictionary from a list of tuples.\n",
    "eng2sp_E = dict([('one','uno'), ('two','dos'), ('three','tres')])\n",
    "eng2sp_E"
   ]
  },
  {
   "cell_type": "code",
   "execution_count": 19,
   "id": "29a6f3e4",
   "metadata": {},
   "outputs": [
    {
     "name": "stdout",
     "output_type": "stream",
     "text": [
      "True\n"
     ]
    }
   ],
   "source": [
    "#check to see if these generated dictionaries hold the same content\n",
    "print (eng2sp_A == eng2sp_B == eng2sp_C == eng2sp_D == eng2sp_E)"
   ]
  },
  {
   "attachments": {},
   "cell_type": "markdown",
   "id": "05951907-0318-423f-b8b1-6883ef50fe7f",
   "metadata": {},
   "source": [
    " \n",
    "\n",
    "### <span style = \"color:orangered\"> Practice </span> <br>\n",
    "\n",
    "Use one or two methods to create a dictionary called **dictMeals**, mapping what you ate for dinner in the last three days. <br>\n",
    "\n",
    "For example, <br>\n",
    "- ’02/02/2025’: ‘pizza’\n",
    "- ’02/03/2025’: ‘soup and salad’\n",
    "- ’02/04/2025’: ‘chicken sandwidth’"
   ]
  },
  {
   "cell_type": "code",
   "execution_count": 23,
   "id": "5ce9efc8",
   "metadata": {},
   "outputs": [
    {
     "name": "stdout",
     "output_type": "stream",
     "text": [
      "{'02/02/2025': 'pizza', '02/03/2025': 'soup and salad', '02/04/2025': 'chicken sandwidth'}\n"
     ]
    }
   ],
   "source": [
    "dictMeals = {'02/02/2025': 'pizza', '02/03/2025': 'soup and salad', '02/04/2025':'chicken sandwidth'}\n",
    "print(dictMeals)"
   ]
  },
  {
   "cell_type": "code",
   "execution_count": 20,
   "id": "451f0b7f-ad5b-4597-9ff8-b61881abf501",
   "metadata": {},
   "outputs": [
    {
     "data": {
      "text/plain": [
       "{'02/02/2025': 'pizza',\n",
       " '02/03/2025': 'soup and salad',\n",
       " '02/04/2025': 'chicken sandwidth'}"
      ]
     },
     "execution_count": 20,
     "metadata": {},
     "output_type": "execute_result"
    }
   ],
   "source": [
    "dictMeals = dict([('02/02/2025','pizza'), ('02/03/2025','soup and salad'), ('02/04/2025','chicken sandwidth')])\n",
    "dictMeals"
   ]
  },
  {
   "cell_type": "code",
   "execution_count": 25,
   "id": "47932aa9-3b36-4fc7-bd5c-9165ada07d0c",
   "metadata": {},
   "outputs": [
    {
     "data": {
      "text/plain": [
       "{'02/02/2025': 'pizza',\n",
       " '02/03/2025': 'soup and salad',\n",
       " '02/04/2025': 'chicken sandwidth'}"
      ]
     },
     "execution_count": 25,
     "metadata": {},
     "output_type": "execute_result"
    }
   ],
   "source": [
    "dictMeals_time = ['02/02/2025','02/03/2025','02/04/2025']\n",
    "dictMeals_food = ['pizza','soup and salad','chicken sandwidth']\n",
    "dictMeals = dict(zip(dictMeals_time, dictMeals_food))\n",
    "dictMeals"
   ]
  },
  {
   "cell_type": "code",
   "execution_count": null,
   "id": "d287ecb0-dc11-4dca-97ff-8be47b23a8c6",
   "metadata": {},
   "outputs": [],
   "source": []
  }
 ],
 "metadata": {
  "jupytext": {
   "cell_metadata_filter": "-all",
   "executable": "/usr/bin/env python3",
   "main_language": "python",
   "notebook_metadata_filter": "-all"
  },
  "kernelspec": {
   "display_name": "Python [conda env:base] *",
   "language": "python",
   "name": "conda-base-py"
  },
  "language_info": {
   "codemirror_mode": {
    "name": "ipython",
    "version": 3
   },
   "file_extension": ".py",
   "mimetype": "text/x-python",
   "name": "python",
   "nbconvert_exporter": "python",
   "pygments_lexer": "ipython3",
   "version": "3.12.4"
  }
 },
 "nbformat": 4,
 "nbformat_minor": 5
}
