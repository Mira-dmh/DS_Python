{
 "cells": [
  {
   "cell_type": "markdown",
   "id": "e033b7c2-a9d4-49d4-8c4f-86693856de60",
   "metadata": {},
   "source": [
    " \n",
    "### <span style = \"color:darkred\"> Dictionary Adding and Deleting </span>\n",
    " "
   ]
  },
  {
   "cell_type": "code",
   "execution_count": 7,
   "id": "c2fe25a5",
   "metadata": {},
   "outputs": [
    {
     "data": {
      "text/plain": [
       "{'New York': 'Albany', 'Pennsylvania': 'Harrisburg', 'New Jersey': 'Trenton'}"
      ]
     },
     "execution_count": 7,
     "metadata": {},
     "output_type": "execute_result"
    }
   ],
   "source": [
    "stateCapital= {}\n",
    "#assigning a value to a key that does not exist in the dictionary is valid.\n",
    "stateCapital['New York'] = 'Albany'\n",
    "stateCapital['Pennsylvania'] = 'Harrisburg'\n",
    "stateCapital['New Jersey'] = 'Trenton' \n",
    "stateCapital"
   ]
  },
  {
   "cell_type": "code",
   "execution_count": 9,
   "id": "8e765c7a",
   "metadata": {},
   "outputs": [
    {
     "name": "stdout",
     "output_type": "stream",
     "text": [
      "{'New York': 'Albany', 'Pennsylvania': 'Harrisburg', 'New Jersey': 'Trenton'}\n",
      "{'New York': 'Albany', 'Pennsylvania': 'Harrisburg'}\n"
     ]
    }
   ],
   "source": [
    "print (stateCapital)\n",
    "del (stateCapital['New Jersey'])\n",
    "print (stateCapital)"
   ]
  },
  {
   "cell_type": "code",
   "execution_count": 13,
   "id": "7e094e16",
   "metadata": {
    "lines_to_next_cell": 2
   },
   "outputs": [
    {
     "name": "stdout",
     "output_type": "stream",
     "text": [
      "['CS203', 'MA230']\n",
      "new prereq:  {'CS202': ['CS101', 'MA100'], 'CS285': 'CS201', 'CS317': ['CS203', 'MA230']}\n"
     ]
    }
   ],
   "source": [
    "prerequisites = {'CS202': 'CS201', 'CS285': 'CS201', 'CS317': ['CS203', 'MA230'] }\n",
    "print(prerequisites['CS317']) # values do not have to be of the same type.\n",
    "#update an entry\n",
    "prerequisites['CS202'] = ['CS101', 'MA100']\n",
    "print('new prereq: ', prerequisites)"
   ]
  },
  {
   "cell_type": "markdown",
   "id": "4cb62c00-07d0-4c85-903e-b00d4a4e32d3",
   "metadata": {},
   "source": [
    "#### <span style = \"color:red\"> Note that you can't use similar format to add a new item to a list. </span>"
   ]
  },
  {
   "cell_type": "code",
   "execution_count": 15,
   "id": "aa57679f",
   "metadata": {},
   "outputs": [
    {
     "ename": "IndexError",
     "evalue": "list assignment index out of range",
     "output_type": "error",
     "traceback": [
      "\u001b[0;31m---------------------------------------------------------------------------\u001b[0m",
      "\u001b[0;31mIndexError\u001b[0m                                Traceback (most recent call last)",
      "Cell \u001b[0;32mIn[15], line 2\u001b[0m\n\u001b[1;32m      1\u001b[0m courseList \u001b[38;5;241m=\u001b[39m [\u001b[38;5;124m'\u001b[39m\u001b[38;5;124mCS201\u001b[39m\u001b[38;5;124m'\u001b[39m,\u001b[38;5;124m'\u001b[39m\u001b[38;5;124mCS301\u001b[39m\u001b[38;5;124m'\u001b[39m,\u001b[38;5;124m'\u001b[39m\u001b[38;5;124mCS202\u001b[39m\u001b[38;5;124m'\u001b[39m]\n\u001b[0;32m----> 2\u001b[0m courseList[\u001b[38;5;241m3\u001b[39m] \u001b[38;5;241m=\u001b[39m \u001b[38;5;124m'\u001b[39m\u001b[38;5;124mCS317\u001b[39m\u001b[38;5;124m'\u001b[39m\n\u001b[1;32m      3\u001b[0m \u001b[38;5;28mprint\u001b[39m(courseList)\n",
      "\u001b[0;31mIndexError\u001b[0m: list assignment index out of range"
     ]
    }
   ],
   "source": [
    "courseList = ['CS201','CS301','CS202']\n",
    "courseList[3] = 'CS317'\n",
    "print(courseList)"
   ]
  },
  {
   "cell_type": "code",
   "execution_count": 17,
   "id": "9928ae05-1f12-4cce-954a-5d51c28c28fc",
   "metadata": {},
   "outputs": [
    {
     "name": "stdout",
     "output_type": "stream",
     "text": [
      "['CS201', 'CS301', 'CS202', 'CS317']\n"
     ]
    }
   ],
   "source": [
    "courseList = ['CS201', 'CS301', 'CS202']\n",
    "courseList.append('CS317')  # Adds 'CS317' to the end of the list， use append()\n",
    "print(courseList)"
   ]
  },
  {
   "cell_type": "markdown",
   "id": "a811c383",
   "metadata": {},
   "source": [
    "assigning to an index that does not exist in a list causes IndexError\n",
    "courseList[3] = 'CS317'  "
   ]
  },
  {
   "cell_type": "code",
   "execution_count": null,
   "id": "1502a4de",
   "metadata": {
    "lines_to_next_cell": 2
   },
   "outputs": [],
   "source": []
  },
  {
   "attachments": {},
   "cell_type": "markdown",
   "id": "2ff1dcdb-f77c-4e9d-aa32-795eee7e8698",
   "metadata": {},
   "source": [
    " \n",
    "### <span style = \"color:orangered\"> Practice </span> <br>\n",
    "\n",
    "Based on the diction dictMeals that you created earlier;\n",
    "- add an entry for what you plan to eat for tonight (09/09/2024).\n",
    "- change the meal for 09/06/2020 to something else."
   ]
  },
  {
   "cell_type": "code",
   "execution_count": 16,
   "id": "154b75df-e1b0-41a4-9141-eec9258756d8",
   "metadata": {},
   "outputs": [
    {
     "name": "stdout",
     "output_type": "stream",
     "text": [
      "new meals: {'09/06/2024': 'pizza', '09/07/2024': 'soup and salad', '09/08/2024': 'chicken sandwidth', '02/03/2025': ['02/03/2025', 'fruit']}\n"
     ]
    }
   ],
   "source": [
    "#create dictMeals\n",
    "dictMeals = {'09/06/2024': 'pizza', \n",
    "         '09/07/2024': 'soup and salad',\n",
    "         '09/08/2024': 'chicken sandwidth'}\n",
    "dictMeals['02/03/2025']=['02/03/2025','fruit']\n",
    "print('new meals:',dictMeals)"
   ]
  },
  {
   "cell_type": "code",
   "execution_count": null,
   "id": "2a1a558b-2c3c-4941-8e74-9db39349e534",
   "metadata": {},
   "outputs": [],
   "source": []
  }
 ],
 "metadata": {
  "jupytext": {
   "cell_metadata_filter": "-all",
   "encoding": "# -*- coding: utf-8 -*-",
   "executable": "/usr/bin/env python3",
   "main_language": "python",
   "notebook_metadata_filter": "-all"
  },
  "kernelspec": {
   "display_name": "Python [conda env:base] *",
   "language": "python",
   "name": "conda-base-py"
  },
  "language_info": {
   "codemirror_mode": {
    "name": "ipython",
    "version": 3
   },
   "file_extension": ".py",
   "mimetype": "text/x-python",
   "name": "python",
   "nbconvert_exporter": "python",
   "pygments_lexer": "ipython3",
   "version": "3.12.4"
  }
 },
 "nbformat": 4,
 "nbformat_minor": 5
}
