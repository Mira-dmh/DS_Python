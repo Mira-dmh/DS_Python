{
 "cells": [
  {
   "cell_type": "markdown",
   "id": "9f9b3ac5-d13e-41ad-a7d6-71eba9394da5",
   "metadata": {},
   "source": [
    " \n",
    "##  <span style = \"color:darkred\"> Two ways to get values from a dictionary</span>\n",
    " "
   ]
  },
  {
   "cell_type": "code",
   "execution_count": 4,
   "id": "c70437f1",
   "metadata": {},
   "outputs": [
    {
     "name": "stdout",
     "output_type": "stream",
     "text": [
      "dict_values([12, 6, 23, 20])\n",
      "dict_keys(['cat', 'dog', 'elephant', 'bear'])\n"
     ]
    }
   ],
   "source": [
    "myPetDict = {\"cat\":12, \"dog\":6, \"elephant\":23, \"bear\":20}\n",
    "print(myPetDict.values())\n",
    "print(myPetDict.keys())"
   ]
  },
  {
   "cell_type": "code",
   "execution_count": 6,
   "id": "c9044ced-9855-4b61-9e10-a18ae6eee4f6",
   "metadata": {},
   "outputs": [
    {
     "name": "stdout",
     "output_type": "stream",
     "text": [
      "My cat's age is: 12\n"
     ]
    }
   ],
   "source": [
    "print (\"My cat's age is:\",myPetDict['cat'])"
   ]
  },
  {
   "cell_type": "code",
   "execution_count": 16,
   "id": "6eb1d0ed-3eee-4b0c-9f3d-c9207685167b",
   "metadata": {},
   "outputs": [
    {
     "name": "stdout",
     "output_type": "stream",
     "text": [
      "My cat's age is: 12\n"
     ]
    }
   ],
   "source": [
    "print (\"My cat's age is:\",myPetDict['cat'])"
   ]
  },
  {
   "cell_type": "code",
   "execution_count": 10,
   "id": "67247565-41aa-4c82-b3e8-ca18aede00fb",
   "metadata": {},
   "outputs": [
    {
     "name": "stdout",
     "output_type": "stream",
     "text": [
      "My cat's age is: 12\n"
     ]
    }
   ],
   "source": [
    "print (\"My cat's age is:\",myPetDict.get('cat'))"
   ]
  },
  {
   "cell_type": "code",
   "execution_count": 12,
   "id": "475f868b-2b45-4250-9a1f-3abadcec6905",
   "metadata": {},
   "outputs": [
    {
     "name": "stdout",
     "output_type": "stream",
     "text": [
      "My parrot's age is: None\n"
     ]
    }
   ],
   "source": [
    "print (\"My parrot's age is:\",myPetDict.get('parrot'))"
   ]
  },
  {
   "cell_type": "code",
   "execution_count": 14,
   "id": "ee94e687-d950-4e33-8a31-8908257a618c",
   "metadata": {},
   "outputs": [
    {
     "name": "stdout",
     "output_type": "stream",
     "text": [
      "My parrot's age is: -1\n"
     ]
    }
   ],
   "source": [
    "print (\"My parrot's age is:\",myPetDict.get('parrot',-1))"
   ]
  },
  {
   "cell_type": "code",
   "execution_count": null,
   "id": "830bfab1-ff0e-4d0b-8fec-de17ed4452d8",
   "metadata": {},
   "outputs": [],
   "source": []
  },
  {
   "attachments": {},
   "cell_type": "markdown",
   "id": "cc870d7c-1306-48dd-8dc1-7ac007d70940",
   "metadata": {},
   "source": [
    " \n",
    "### <span style = \"color:orangered\"> Practice </span> <br>\n",
    "\n",
    "Based on the following diction dictMeals that you created earlier;\n",
    "- print the meal for 09/07/2024 and 09/09/2024, using two different ways for each case"
   ]
  },
  {
   "cell_type": "code",
   "execution_count": null,
   "id": "05a8bb19-e382-483d-be61-3c08435b57cf",
   "metadata": {},
   "outputs": [],
   "source": [
    "#create dictMeals\n",
    "dictMeals = {'09/06/2024': 'pizza', \n",
    "         '09/07/2024': 'soup and salad',\n",
    "         '09/08/2024': 'chicken sandwidth'}\n",
    "dictMeals"
   ]
  },
  {
   "cell_type": "code",
   "execution_count": null,
   "id": "88cbd8a7-6239-4ddb-8c00-8d60387a6c8f",
   "metadata": {},
   "outputs": [],
   "source": []
  }
 ],
 "metadata": {
  "jupytext": {
   "cell_metadata_filter": "-all",
   "encoding": "# -*- coding: utf-8 -*-",
   "executable": "/usr/bin/env python3",
   "main_language": "python",
   "notebook_metadata_filter": "-all"
  },
  "kernelspec": {
   "display_name": "Python [conda env:base] *",
   "language": "python",
   "name": "conda-base-py"
  },
  "language_info": {
   "codemirror_mode": {
    "name": "ipython",
    "version": 3
   },
   "file_extension": ".py",
   "mimetype": "text/x-python",
   "name": "python",
   "nbconvert_exporter": "python",
   "pygments_lexer": "ipython3",
   "version": "3.12.4"
  }
 },
 "nbformat": 4,
 "nbformat_minor": 5
}
