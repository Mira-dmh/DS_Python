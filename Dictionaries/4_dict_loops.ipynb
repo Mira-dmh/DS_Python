{
 "cells": [
  {
   "cell_type": "markdown",
   "id": "7b9f3cb4-7843-4732-a160-97831ff91935",
   "metadata": {},
   "source": [
    " \n",
    "##  <span style = \"color:darkred\"> Operator *in* </span>\n",
    " "
   ]
  },
  {
   "cell_type": "code",
   "execution_count": 4,
   "id": "c70437f1",
   "metadata": {},
   "outputs": [
    {
     "name": "stdout",
     "output_type": "stream",
     "text": [
      "dict_keys(['cat', 'dog', 'elephant', 'bear'])\n"
     ]
    }
   ],
   "source": [
    "myPetDict = {\"cat\":12, \"dog\":6, \"elephant\":23, \"bear\":20}\n",
    "print(myPetDict.keys())"
   ]
  },
  {
   "cell_type": "code",
   "execution_count": 6,
   "id": "ea79f0fe-0be1-4dab-80e4-97d11e87cc7e",
   "metadata": {},
   "outputs": [
    {
     "data": {
      "text/plain": [
       "True"
      ]
     },
     "execution_count": 6,
     "metadata": {},
     "output_type": "execute_result"
    }
   ],
   "source": [
    "'cat' in myPetDict"
   ]
  },
  {
   "cell_type": "code",
   "execution_count": 8,
   "id": "c28b85ba-9324-4759-b36d-d5184869303f",
   "metadata": {},
   "outputs": [
    {
     "data": {
      "text/plain": [
       "False"
      ]
     },
     "execution_count": 8,
     "metadata": {},
     "output_type": "execute_result"
    }
   ],
   "source": [
    "20 not in myPetDict.values()"
   ]
  },
  {
   "cell_type": "markdown",
   "id": "9f9b3ac5-d13e-41ad-a7d6-71eba9394da5",
   "metadata": {},
   "source": [
    " \n",
    "##  <span style = \"color:darkred\"> Two ways to get values from a dictionary</span>\n",
    " "
   ]
  },
  {
   "cell_type": "code",
   "execution_count": 11,
   "id": "c9044ced-9855-4b61-9e10-a18ae6eee4f6",
   "metadata": {},
   "outputs": [
    {
     "name": "stdout",
     "output_type": "stream",
     "text": [
      "My cat's age is: 12\n"
     ]
    }
   ],
   "source": [
    "print (\"My cat's age is:\",myPetDict['cat'])"
   ]
  },
  {
   "cell_type": "code",
   "execution_count": 13,
   "id": "6eb1d0ed-3eee-4b0c-9f3d-c9207685167b",
   "metadata": {},
   "outputs": [
    {
     "name": "stdout",
     "output_type": "stream",
     "text": [
      "My cat's age is: 20\n"
     ]
    }
   ],
   "source": [
    "print (\"My cat's age is:\",myPetDict['bear'])"
   ]
  },
  {
   "cell_type": "code",
   "execution_count": 15,
   "id": "67247565-41aa-4c82-b3e8-ca18aede00fb",
   "metadata": {},
   "outputs": [
    {
     "name": "stdout",
     "output_type": "stream",
     "text": [
      "My cat's age is: 12\n"
     ]
    }
   ],
   "source": [
    "print (\"My cat's age is:\",myPetDict.get('cat'))"
   ]
  },
  {
   "cell_type": "code",
   "execution_count": 17,
   "id": "475f868b-2b45-4250-9a1f-3abadcec6905",
   "metadata": {},
   "outputs": [
    {
     "name": "stdout",
     "output_type": "stream",
     "text": [
      "My parrot's age is: None\n"
     ]
    }
   ],
   "source": [
    "print (\"My parrot's age is:\",myPetDict.get('parrot'))"
   ]
  },
  {
   "cell_type": "code",
   "execution_count": 19,
   "id": "ee94e687-d950-4e33-8a31-8908257a618c",
   "metadata": {},
   "outputs": [
    {
     "name": "stdout",
     "output_type": "stream",
     "text": [
      "My parrot's age is: -1\n"
     ]
    }
   ],
   "source": [
    "print (\"My parrot's age is:\",myPetDict.get('parrot',-1))"
   ]
  },
  {
   "cell_type": "code",
   "execution_count": null,
   "id": "830bfab1-ff0e-4d0b-8fec-de17ed4452d8",
   "metadata": {},
   "outputs": [],
   "source": []
  },
  {
   "cell_type": "markdown",
   "id": "4f6d5ee7-68d1-4614-b0d0-ddd19e8c50cb",
   "metadata": {},
   "source": [
    " \n",
    "## <span style = \"color:darkred\"> Two ways to iterate over dictionary keys </span>\n",
    " "
   ]
  },
  {
   "cell_type": "code",
   "execution_count": 23,
   "id": "675fe01e-ca86-4e55-ac63-566b3b200292",
   "metadata": {},
   "outputs": [
    {
     "name": "stdout",
     "output_type": "stream",
     "text": [
      "My cat is 12 years old\n",
      "My dog is 6 years old\n",
      "My elephant is 23 years old\n",
      "My bear is 20 years old\n"
     ]
    }
   ],
   "source": [
    "#iterate over a dictionary by keys \n",
    "for k in myPetDict:\n",
    "    print ('My', k, 'is', str(myPetDict[k]), 'years old')"
   ]
  },
  {
   "cell_type": "code",
   "execution_count": 25,
   "id": "c154ef04-a74a-4dd8-93a2-f7d007d17c00",
   "metadata": {},
   "outputs": [
    {
     "name": "stdout",
     "output_type": "stream",
     "text": [
      "My cat is 12 years old\n",
      "My dog is 6 years old\n",
      "My elephant is 23 years old\n",
      "My bear is 20 years old\n"
     ]
    }
   ],
   "source": [
    "#iterate over a dictionary by keys \n",
    "for k in myPetDict:\n",
    "    print (f'My {k} is {myPetDict[k]} years old') #f-string, string interpolation"
   ]
  },
  {
   "cell_type": "code",
   "execution_count": 27,
   "id": "c773393b-2481-4e42-8ca9-bf93fd8f6aee",
   "metadata": {},
   "outputs": [
    {
     "name": "stdout",
     "output_type": "stream",
     "text": [
      "My cat is 12 years old\n",
      "My dog is 6 years old\n",
      "My elephant is 23 years old\n",
      "My bear is 20 years old\n"
     ]
    }
   ],
   "source": [
    "#iterate over a dictionary by keys \n",
    "for k in myPetDict.keys():\n",
    "    print (f'My {k} is {myPetDict[k]} years old')\n"
   ]
  },
  {
   "cell_type": "code",
   "execution_count": 29,
   "id": "677606ae-997e-4a07-8520-a704eb5f8ef0",
   "metadata": {},
   "outputs": [
    {
     "name": "stdout",
     "output_type": "stream",
     "text": [
      "My cat is 12 years old\n",
      "My dog is 6 years old\n",
      "My elephant is 23 years old\n",
      "My bear is 20 years old\n"
     ]
    }
   ],
   "source": [
    "for k,v in myPetDict.items():\n",
    "    print (f'My {k} is {v} years old')"
   ]
  },
  {
   "attachments": {},
   "cell_type": "markdown",
   "id": "e83d004b-874a-4846-9308-f26d33f449cc",
   "metadata": {},
   "source": [
    " \n",
    "### <span style = \"color:orangered\"> Practice  </span> <br>\n",
    "\n",
    "Based on the above diction dictMeals that you created earlier, print the following information: <br>\n",
    "- ’02/02/2025’ --> ‘pizza’\n",
    "- ’02/03/2025’ --> ‘soup and salad’\n",
    "- ’02/04/2025’ --> ‘chicken sandwidth’"
   ]
  },
  {
   "cell_type": "code",
   "execution_count": 64,
   "id": "2fc8d7c6",
   "metadata": {},
   "outputs": [
    {
     "name": "stdout",
     "output_type": "stream",
     "text": [
      "dict_keys(['02/02/2025', '02/03/2025', '02/04/2025'])\n",
      "The date: 02/02/2025 ,the food is pizza\n",
      "The date: 02/03/2025 ,the food is soup and salad\n",
      "The date: 02/04/2025 ,the food is chicken sandwidth\n"
     ]
    }
   ],
   "source": [
    "dictMeals = {\"02/02/2025\":\"pizza\", \"02/03/2025\":\"soup and salad\", \"02/04/2025\":\"chicken sandwidth\"}\n",
    "print(dictMeals.keys())\n",
    "for k in dictMeals.keys():\n",
    "    print (f'The date: {k} ,the food is {dictMeals[k]}')"
   ]
  },
  {
   "cell_type": "markdown",
   "id": "a822c725-9973-41ac-a3e4-29b3c838c445",
   "metadata": {},
   "source": [
    " \n",
    "## <span style = \"color:darkred\"> Loops over keys, values, and items </span>\n",
    " "
   ]
  },
  {
   "cell_type": "code",
   "execution_count": 15,
   "id": "e08b3c24",
   "metadata": {},
   "outputs": [
    {
     "name": "stdout",
     "output_type": "stream",
     "text": [
      "cat\n",
      "dog\n",
      "elephant\n",
      "bear\n"
     ]
    }
   ],
   "source": [
    "#iterate over a dictionary by keys \n",
    "for k in myPetDict:\n",
    "    print (k)\n"
   ]
  },
  {
   "cell_type": "code",
   "execution_count": 16,
   "id": "5e9f5e03",
   "metadata": {},
   "outputs": [
    {
     "name": "stdout",
     "output_type": "stream",
     "text": [
      "cat\n",
      "dog\n",
      "elephant\n",
      "bear\n"
     ]
    }
   ],
   "source": [
    "#iterate over a dictionary by keys \n",
    "for k in myPetDict.keys():\n",
    "    print (k)\n",
    " "
   ]
  },
  {
   "cell_type": "code",
   "execution_count": 17,
   "id": "ca9c99d6",
   "metadata": {},
   "outputs": [
    {
     "name": "stdout",
     "output_type": "stream",
     "text": [
      "12\n",
      "6\n",
      "23\n",
      "20\n"
     ]
    }
   ],
   "source": [
    "#iterate over a dictionary by values  \n",
    "for v in myPetDict.values():\n",
    "    print (v)\n"
   ]
  },
  {
   "cell_type": "code",
   "execution_count": 18,
   "id": "f442a33c",
   "metadata": {},
   "outputs": [
    {
     "name": "stdout",
     "output_type": "stream",
     "text": [
      "('cat', 12)\n",
      "('dog', 6)\n",
      "('elephant', 23)\n",
      "('bear', 20)\n"
     ]
    }
   ],
   "source": [
    "#iterate over a dictionary by items, i.e., (k,v) tuple   \n",
    "for item  in myPetDict.items():\n",
    "    print (item)\n"
   ]
  },
  {
   "cell_type": "code",
   "execution_count": 28,
   "id": "89dd64cb",
   "metadata": {},
   "outputs": [
    {
     "name": "stdout",
     "output_type": "stream",
     "text": [
      "cat's age is 12\n",
      "dog's age is 6\n",
      "elephant's age is 23\n",
      "bear's age is 20\n"
     ]
    }
   ],
   "source": [
    "#iterate over a dictionary by items \n",
    "for (k,v) in myPetDict.items():\n",
    "    #print(k,\"'s age is\",v)\n",
    "    #print ( (f\"{k}'s age is {v}\") )\n",
    "    print(f\"{k}'s age is {v}\")"
   ]
  },
  {
   "cell_type": "code",
   "execution_count": null,
   "id": "806847aa-ae29-4361-81fe-1b4b55a3b328",
   "metadata": {},
   "outputs": [],
   "source": []
  }
 ],
 "metadata": {
  "jupytext": {
   "cell_metadata_filter": "-all",
   "encoding": "# -*- coding: utf-8 -*-",
   "executable": "/usr/bin/env python3",
   "main_language": "python",
   "notebook_metadata_filter": "-all"
  },
  "kernelspec": {
   "display_name": "Python [conda env:base] *",
   "language": "python",
   "name": "conda-base-py"
  },
  "language_info": {
   "codemirror_mode": {
    "name": "ipython",
    "version": 3
   },
   "file_extension": ".py",
   "mimetype": "text/x-python",
   "name": "python",
   "nbconvert_exporter": "python",
   "pygments_lexer": "ipython3",
   "version": "3.12.4"
  }
 },
 "nbformat": 4,
 "nbformat_minor": 5
}
