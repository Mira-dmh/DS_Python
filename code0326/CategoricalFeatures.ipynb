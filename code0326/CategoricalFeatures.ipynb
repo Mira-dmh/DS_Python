{
 "cells": [
  {
   "cell_type": "markdown",
   "id": "9a3394ef",
   "metadata": {},
   "source": [
    "## Visualizing a Single Categorical Feature\n",
    "- count plots\n",
    "- bar plots"
   ]
  },
  {
   "cell_type": "code",
   "execution_count": 8,
   "id": "98ecb6c7",
   "metadata": {},
   "outputs": [],
   "source": [
    "# Import packages\n",
    "import pandas as pd\n",
    "import seaborn as sns\n",
    "import matplotlib.pyplot as plt"
   ]
  },
  {
   "cell_type": "code",
   "execution_count": 9,
   "id": "84660009-92fc-4add-afb1-efe888a835d6",
   "metadata": {},
   "outputs": [
    {
     "data": {
      "text/html": [
       "<div>\n",
       "<style scoped>\n",
       "    .dataframe tbody tr th:only-of-type {\n",
       "        vertical-align: middle;\n",
       "    }\n",
       "\n",
       "    .dataframe tbody tr th {\n",
       "        vertical-align: top;\n",
       "    }\n",
       "\n",
       "    .dataframe thead th {\n",
       "        text-align: right;\n",
       "    }\n",
       "</style>\n",
       "<table border=\"1\" class=\"dataframe\">\n",
       "  <thead>\n",
       "    <tr style=\"text-align: right;\">\n",
       "      <th></th>\n",
       "      <th>Country</th>\n",
       "      <th>Continent</th>\n",
       "      <th>Years</th>\n",
       "      <th>Internet access</th>\n",
       "      <th>Emissions range</th>\n",
       "      <th>Fertility</th>\n",
       "      <th>Emissions</th>\n",
       "      <th>Internet</th>\n",
       "    </tr>\n",
       "  </thead>\n",
       "  <tbody>\n",
       "    <tr>\n",
       "      <th>0</th>\n",
       "      <td>Afghanistan</td>\n",
       "      <td>Asia</td>\n",
       "      <td>3.8</td>\n",
       "      <td>Low</td>\n",
       "      <td>Low</td>\n",
       "      <td>4.33</td>\n",
       "      <td>0.254</td>\n",
       "      <td>16.8</td>\n",
       "    </tr>\n",
       "    <tr>\n",
       "      <th>1</th>\n",
       "      <td>Albania</td>\n",
       "      <td>Europe</td>\n",
       "      <td>10.0</td>\n",
       "      <td>Moderate</td>\n",
       "      <td>Low</td>\n",
       "      <td>1.71</td>\n",
       "      <td>1.590</td>\n",
       "      <td>65.4</td>\n",
       "    </tr>\n",
       "    <tr>\n",
       "      <th>2</th>\n",
       "      <td>Algeria</td>\n",
       "      <td>Africa</td>\n",
       "      <td>8.0</td>\n",
       "      <td>Low</td>\n",
       "      <td>Moderate</td>\n",
       "      <td>2.64</td>\n",
       "      <td>3.690</td>\n",
       "      <td>49.0</td>\n",
       "    </tr>\n",
       "    <tr>\n",
       "      <th>3</th>\n",
       "      <td>Angola</td>\n",
       "      <td>Africa</td>\n",
       "      <td>5.1</td>\n",
       "      <td>Low</td>\n",
       "      <td>Low</td>\n",
       "      <td>5.55</td>\n",
       "      <td>1.120</td>\n",
       "      <td>29.0</td>\n",
       "    </tr>\n",
       "    <tr>\n",
       "      <th>4</th>\n",
       "      <td>Argentina</td>\n",
       "      <td>Americas</td>\n",
       "      <td>9.9</td>\n",
       "      <td>High</td>\n",
       "      <td>Moderate</td>\n",
       "      <td>2.26</td>\n",
       "      <td>4.410</td>\n",
       "      <td>77.7</td>\n",
       "    </tr>\n",
       "    <tr>\n",
       "      <th>...</th>\n",
       "      <td>...</td>\n",
       "      <td>...</td>\n",
       "      <td>...</td>\n",
       "      <td>...</td>\n",
       "      <td>...</td>\n",
       "      <td>...</td>\n",
       "      <td>...</td>\n",
       "      <td>...</td>\n",
       "    </tr>\n",
       "    <tr>\n",
       "      <th>146</th>\n",
       "      <td>Uruguay</td>\n",
       "      <td>Americas</td>\n",
       "      <td>8.7</td>\n",
       "      <td>High</td>\n",
       "      <td>Moderate</td>\n",
       "      <td>1.97</td>\n",
       "      <td>2.010</td>\n",
       "      <td>80.7</td>\n",
       "    </tr>\n",
       "    <tr>\n",
       "      <th>147</th>\n",
       "      <td>Uzbekistan</td>\n",
       "      <td>Asia</td>\n",
       "      <td>11.5</td>\n",
       "      <td>Moderate</td>\n",
       "      <td>Moderate</td>\n",
       "      <td>2.23</td>\n",
       "      <td>2.810</td>\n",
       "      <td>55.2</td>\n",
       "    </tr>\n",
       "    <tr>\n",
       "      <th>148</th>\n",
       "      <td>Vietnam</td>\n",
       "      <td>Asia</td>\n",
       "      <td>8.2</td>\n",
       "      <td>Moderate</td>\n",
       "      <td>Moderate</td>\n",
       "      <td>1.95</td>\n",
       "      <td>2.160</td>\n",
       "      <td>69.8</td>\n",
       "    </tr>\n",
       "    <tr>\n",
       "      <th>149</th>\n",
       "      <td>Zambia</td>\n",
       "      <td>Africa</td>\n",
       "      <td>7.0</td>\n",
       "      <td>Low</td>\n",
       "      <td>Low</td>\n",
       "      <td>4.87</td>\n",
       "      <td>0.302</td>\n",
       "      <td>14.3</td>\n",
       "    </tr>\n",
       "    <tr>\n",
       "      <th>150</th>\n",
       "      <td>Zimbabwe</td>\n",
       "      <td>Africa</td>\n",
       "      <td>8.2</td>\n",
       "      <td>Low</td>\n",
       "      <td>Low</td>\n",
       "      <td>3.61</td>\n",
       "      <td>0.850</td>\n",
       "      <td>25.0</td>\n",
       "    </tr>\n",
       "  </tbody>\n",
       "</table>\n",
       "<p>151 rows × 8 columns</p>\n",
       "</div>"
      ],
      "text/plain": [
       "         Country Continent  Years Internet access Emissions range  Fertility  \\\n",
       "0    Afghanistan      Asia    3.8             Low             Low       4.33   \n",
       "1        Albania    Europe   10.0        Moderate             Low       1.71   \n",
       "2        Algeria    Africa    8.0             Low        Moderate       2.64   \n",
       "3         Angola    Africa    5.1             Low             Low       5.55   \n",
       "4      Argentina  Americas    9.9            High        Moderate       2.26   \n",
       "..           ...       ...    ...             ...             ...        ...   \n",
       "146      Uruguay  Americas    8.7            High        Moderate       1.97   \n",
       "147   Uzbekistan      Asia   11.5        Moderate        Moderate       2.23   \n",
       "148      Vietnam      Asia    8.2        Moderate        Moderate       1.95   \n",
       "149       Zambia    Africa    7.0             Low             Low       4.87   \n",
       "150     Zimbabwe    Africa    8.2             Low             Low       3.61   \n",
       "\n",
       "     Emissions  Internet  \n",
       "0        0.254      16.8  \n",
       "1        1.590      65.4  \n",
       "2        3.690      49.0  \n",
       "3        1.120      29.0  \n",
       "4        4.410      77.7  \n",
       "..         ...       ...  \n",
       "146      2.010      80.7  \n",
       "147      2.810      55.2  \n",
       "148      2.160      69.8  \n",
       "149      0.302      14.3  \n",
       "150      0.850      25.0  \n",
       "\n",
       "[151 rows x 8 columns]"
      ]
     },
     "execution_count": 9,
     "metadata": {},
     "output_type": "execute_result"
    }
   ],
   "source": [
    "# Load dataset\n",
    "df_country = pd.read_csv('country_complete.csv')\n",
    "df_country"
   ]
  },
  {
   "cell_type": "code",
   "execution_count": 10,
   "id": "59d26237-671e-4e62-81b7-78978089f7c1",
   "metadata": {},
   "outputs": [
    {
     "data": {
      "text/plain": [
       "Index(['Country', 'Continent', 'Years', 'Internet access', 'Emissions range',\n",
       "       'Fertility', 'Emissions', 'Internet'],\n",
       "      dtype='object')"
      ]
     },
     "execution_count": 10,
     "metadata": {},
     "output_type": "execute_result"
    }
   ],
   "source": [
    "df_country.columns"
   ]
  },
  {
   "cell_type": "markdown",
   "id": "e9734642-8648-4e03-a912-df6bef1b3b23",
   "metadata": {},
   "source": [
    "### Use `pandas.seaborn.hisplot()` to plot a bar chart\n",
    "https://seaborn.pydata.org/generated/seaborn.histplot.html"
   ]
  },
  {
   "cell_type": "code",
   "execution_count": 12,
   "id": "fa61671d-dbf3-4b12-bada-6ac49bc56504",
   "metadata": {
    "scrolled": true
   },
   "outputs": [
    {
     "data": {
      "image/png": "[encoded data removed]",
      "text/plain": [
       "<Figure size 500x300 with 1 Axes>"
      ]
     },
     "metadata": {},
     "output_type": "display_data"
    }
   ],
   "source": [
    "# Create a barplot for the number of countries in each continent using histplot\n",
    "plt.figure(figsize=(5,3))\n",
    "sns.histplot(x='Continent', data=df_country, shrink=0.8)\n",
    "plt.show()"
   ]
  },
  {
   "cell_type": "markdown",
   "id": "2203a7ef-f58a-478f-8cda-3098bda2bbb4",
   "metadata": {},
   "source": [
    "### Use `pandas.seaborn.countplot()` to plot a bar chart -- one categorical variable\n",
    "#### Only x is needed.  "
   ]
  },
  {
   "cell_type": "code",
   "execution_count": 14,
   "id": "dc6927a6-c05a-413c-aa44-383c2238d4db",
   "metadata": {
    "scrolled": true
   },
   "outputs": [
    {
     "data": {
      "text/plain": [
       "Text(0, 0.5, 'Count')"
      ]
     },
     "execution_count": 14,
     "metadata": {},
     "output_type": "execute_result"
    },
    {
     "data": {
      "image/png": "[encoded data removed]",
      "text/plain": [
       "<Figure size 500x300 with 1 Axes>"
      ]
     },
     "metadata": {},
     "output_type": "display_data"
    }
   ],
   "source": [
    "# Create a barplot for the number of countries in each continent using countplot\n",
    "plt.figure(figsize=(5,3))\n",
    "sns.countplot(x='Continent', data=df_country)\n",
    "plt.ylabel(\"Count\")"
   ]
  },
  {
   "cell_type": "markdown",
   "id": "7ee59e2d",
   "metadata": {},
   "source": [
    "### Use `pandas.seaborn.countplot()` to plot a bar chart -- two categorical variables (using `hue`)"
   ]
  },
  {
   "cell_type": "code",
   "execution_count": 16,
   "id": "5b46ace5",
   "metadata": {},
   "outputs": [
    {
     "data": {
      "text/plain": [
       "Text(0, 0.5, 'Count')"
      ]
     },
     "execution_count": 16,
     "metadata": {},
     "output_type": "execute_result"
    },
    {
     "data": {
      "image/png": "[encoded data removed]",
      "text/plain": [
       "<Figure size 500x300 with 1 Axes>"
      ]
     },
     "metadata": {},
     "output_type": "display_data"
    }
   ],
   "source": [
    "legend\n",
    "# Create a barplot for the number of countries in each continent using countplot\n",
    "plt.figure(figsize=(5,3))\n",
    "sns.countplot(x='Continent', data=df_country, hue = 'Internet access')\n",
    "plt.ylabel(\"Count\")"
   ]
  },
  {
   "cell_type": "code",
   "execution_count": 17,
   "id": "8f72de8f-230a-4e1a-9231-91d0fc0746fd",
   "metadata": {},
   "outputs": [
    {
     "data": {
      "text/plain": [
       "Text(0, 0.5, 'Count')"
      ]
     },
     "execution_count": 17,
     "metadata": {},
     "output_type": "execute_result"
    },
    {
     "data": {
      "image/png": "[encoded data removed]",
      "text/plain": [
       "<Figure size 500x300 with 1 Axes>"
      ]
     },
     "metadata": {},
     "output_type": "display_data"
    }
   ],
   "source": [
    "plt.figure(figsize=(5,3))\n",
    "sns.countplot(x='Continent', data=df_country, hue = 'Emissions range')\n",
    "plt.ylabel(\"Count\")"
   ]
  },
  {
   "cell_type": "markdown",
   "id": "2f09f6ab-8ad6-4928-8544-a556f86b5837",
   "metadata": {},
   "source": [
    "### Use `pandas.seaborn.barplot()` to plot a bar chart\n",
    "#### Both x and y are needed. One is categorical and the other is numerical. The numerical value can be count, mean, or other quantities."
   ]
  },
  {
   "cell_type": "code",
   "execution_count": 19,
   "id": "2fb58c4f-df8f-4704-872c-49be23b92ca7",
   "metadata": {},
   "outputs": [
    {
     "data": {
      "text/html": [
       "<div>\n",
       "<style scoped>\n",
       "    .dataframe tbody tr th:only-of-type {\n",
       "        vertical-align: middle;\n",
       "    }\n",
       "\n",
       "    .dataframe tbody tr th {\n",
       "        vertical-align: top;\n",
       "    }\n",
       "\n",
       "    .dataframe thead th {\n",
       "        text-align: right;\n",
       "    }\n",
       "</style>\n",
       "<table border=\"1\" class=\"dataframe\">\n",
       "  <thead>\n",
       "    <tr style=\"text-align: right;\">\n",
       "      <th></th>\n",
       "      <th>Country</th>\n",
       "      <th>Years</th>\n",
       "      <th>Internet access</th>\n",
       "      <th>Emissions range</th>\n",
       "      <th>Fertility</th>\n",
       "      <th>Emissions</th>\n",
       "      <th>Internet</th>\n",
       "    </tr>\n",
       "    <tr>\n",
       "      <th>Continent</th>\n",
       "      <th></th>\n",
       "      <th></th>\n",
       "      <th></th>\n",
       "      <th></th>\n",
       "      <th></th>\n",
       "      <th></th>\n",
       "      <th></th>\n",
       "    </tr>\n",
       "  </thead>\n",
       "  <tbody>\n",
       "    <tr>\n",
       "      <th>Africa</th>\n",
       "      <td>45</td>\n",
       "      <td>45</td>\n",
       "      <td>45</td>\n",
       "      <td>45</td>\n",
       "      <td>45</td>\n",
       "      <td>45</td>\n",
       "      <td>45</td>\n",
       "    </tr>\n",
       "    <tr>\n",
       "      <th>Americas</th>\n",
       "      <td>26</td>\n",
       "      <td>26</td>\n",
       "      <td>26</td>\n",
       "      <td>26</td>\n",
       "      <td>26</td>\n",
       "      <td>26</td>\n",
       "      <td>26</td>\n",
       "    </tr>\n",
       "    <tr>\n",
       "      <th>Asia</th>\n",
       "      <td>40</td>\n",
       "      <td>40</td>\n",
       "      <td>40</td>\n",
       "      <td>40</td>\n",
       "      <td>40</td>\n",
       "      <td>40</td>\n",
       "      <td>40</td>\n",
       "    </tr>\n",
       "    <tr>\n",
       "      <th>Europe</th>\n",
       "      <td>36</td>\n",
       "      <td>36</td>\n",
       "      <td>36</td>\n",
       "      <td>36</td>\n",
       "      <td>36</td>\n",
       "      <td>36</td>\n",
       "      <td>36</td>\n",
       "    </tr>\n",
       "    <tr>\n",
       "      <th>Oceania</th>\n",
       "      <td>4</td>\n",
       "      <td>4</td>\n",
       "      <td>4</td>\n",
       "      <td>4</td>\n",
       "      <td>4</td>\n",
       "      <td>4</td>\n",
       "      <td>4</td>\n",
       "    </tr>\n",
       "  </tbody>\n",
       "</table>\n",
       "</div>"
      ],
      "text/plain": [
       "           Country  Years  Internet access  Emissions range  Fertility  \\\n",
       "Continent                                                                \n",
       "Africa          45     45               45               45         45   \n",
       "Americas        26     26               26               26         26   \n",
       "Asia            40     40               40               40         40   \n",
       "Europe          36     36               36               36         36   \n",
       "Oceania          4      4                4                4          4   \n",
       "\n",
       "           Emissions  Internet  \n",
       "Continent                       \n",
       "Africa            45        45  \n",
       "Americas          26        26  \n",
       "Asia              40        40  \n",
       "Europe            36        36  \n",
       "Oceania            4         4  "
      ]
     },
     "execution_count": 19,
     "metadata": {},
     "output_type": "execute_result"
    }
   ],
   "source": [
    "continent_counts = df_country.groupby('Continent').count()\n",
    "continent_counts"
   ]
  },
  {
   "cell_type": "code",
   "execution_count": 20,
   "id": "4530af99-0e1f-4f34-930a-c902c2b36303",
   "metadata": {},
   "outputs": [
    {
     "data": {
      "text/html": [
       "<div>\n",
       "<style scoped>\n",
       "    .dataframe tbody tr th:only-of-type {\n",
       "        vertical-align: middle;\n",
       "    }\n",
       "\n",
       "    .dataframe tbody tr th {\n",
       "        vertical-align: top;\n",
       "    }\n",
       "\n",
       "    .dataframe thead th {\n",
       "        text-align: right;\n",
       "    }\n",
       "</style>\n",
       "<table border=\"1\" class=\"dataframe\">\n",
       "  <thead>\n",
       "    <tr style=\"text-align: right;\">\n",
       "      <th></th>\n",
       "      <th>Country</th>\n",
       "    </tr>\n",
       "    <tr>\n",
       "      <th>Continent</th>\n",
       "      <th></th>\n",
       "    </tr>\n",
       "  </thead>\n",
       "  <tbody>\n",
       "    <tr>\n",
       "      <th>Africa</th>\n",
       "      <td>45</td>\n",
       "    </tr>\n",
       "    <tr>\n",
       "      <th>Americas</th>\n",
       "      <td>26</td>\n",
       "    </tr>\n",
       "    <tr>\n",
       "      <th>Asia</th>\n",
       "      <td>40</td>\n",
       "    </tr>\n",
       "    <tr>\n",
       "      <th>Europe</th>\n",
       "      <td>36</td>\n",
       "    </tr>\n",
       "    <tr>\n",
       "      <th>Oceania</th>\n",
       "      <td>4</td>\n",
       "    </tr>\n",
       "  </tbody>\n",
       "</table>\n",
       "</div>"
      ],
      "text/plain": [
       "           Country\n",
       "Continent         \n",
       "Africa          45\n",
       "Americas        26\n",
       "Asia            40\n",
       "Europe          36\n",
       "Oceania          4"
      ]
     },
     "execution_count": 20,
     "metadata": {},
     "output_type": "execute_result"
    }
   ],
   "source": [
    "continent_counts = df_country.groupby('Continent').count()[['Country']]\n",
    "continent_counts"
   ]
  },
  {
   "cell_type": "code",
   "execution_count": 21,
   "id": "f7583861-57b1-4779-b0ee-b339775819ad",
   "metadata": {},
   "outputs": [
    {
     "data": {
      "text/html": [
       "<div>\n",
       "<style scoped>\n",
       "    .dataframe tbody tr th:only-of-type {\n",
       "        vertical-align: middle;\n",
       "    }\n",
       "\n",
       "    .dataframe tbody tr th {\n",
       "        vertical-align: top;\n",
       "    }\n",
       "\n",
       "    .dataframe thead th {\n",
       "        text-align: right;\n",
       "    }\n",
       "</style>\n",
       "<table border=\"1\" class=\"dataframe\">\n",
       "  <thead>\n",
       "    <tr style=\"text-align: right;\">\n",
       "      <th></th>\n",
       "      <th>Continent</th>\n",
       "      <th>Country</th>\n",
       "    </tr>\n",
       "  </thead>\n",
       "  <tbody>\n",
       "    <tr>\n",
       "      <th>0</th>\n",
       "      <td>Africa</td>\n",
       "      <td>45</td>\n",
       "    </tr>\n",
       "    <tr>\n",
       "      <th>1</th>\n",
       "      <td>Americas</td>\n",
       "      <td>26</td>\n",
       "    </tr>\n",
       "    <tr>\n",
       "      <th>2</th>\n",
       "      <td>Asia</td>\n",
       "      <td>40</td>\n",
       "    </tr>\n",
       "    <tr>\n",
       "      <th>3</th>\n",
       "      <td>Europe</td>\n",
       "      <td>36</td>\n",
       "    </tr>\n",
       "    <tr>\n",
       "      <th>4</th>\n",
       "      <td>Oceania</td>\n",
       "      <td>4</td>\n",
       "    </tr>\n",
       "  </tbody>\n",
       "</table>\n",
       "</div>"
      ],
      "text/plain": [
       "  Continent  Country\n",
       "0    Africa       45\n",
       "1  Americas       26\n",
       "2      Asia       40\n",
       "3    Europe       36\n",
       "4   Oceania        4"
      ]
     },
     "execution_count": 21,
     "metadata": {},
     "output_type": "execute_result"
    }
   ],
   "source": [
    "continent_counts = df_country.groupby('Continent', as_index = False).count()[['Continent', 'Country']]  \n",
    "continent_counts"
   ]
  },
  {
   "cell_type": "code",
   "execution_count": 22,
   "id": "87e242e0-1716-48bd-b03b-ef8884987d35",
   "metadata": {},
   "outputs": [
    {
     "data": {
      "text/plain": [
       "<Axes: xlabel='Continent', ylabel='Country'>"
      ]
     },
     "execution_count": 22,
     "metadata": {},
     "output_type": "execute_result"
    },
    {
     "data": {
      "image/png": "[encoded data removed]",
      "text/plain": [
       "<Figure size 500x300 with 1 Axes>"
      ]
     },
     "metadata": {},
     "output_type": "display_data"
    }
   ],
   "source": [
    "plt.figure(figsize = (5,3))\n",
    "sns.barplot(x='Continent', y='Country', data=continent_counts, width=0.5) \n"
   ]
  },
  {
   "cell_type": "markdown",
   "id": "ef87cddc-6ac4-4f84-8261-2c4778d61b6f",
   "metadata": {},
   "source": [
    "### Use `pandas.DataFrame.plot()` to plot a bar chart"
   ]
  },
  {
   "cell_type": "code",
   "execution_count": 24,
   "id": "e89bd267-0e79-4f8b-b8a9-b9be8d8a8613",
   "metadata": {},
   "outputs": [
    {
     "data": {
      "text/html": [
       "<div>\n",
       "<style scoped>\n",
       "    .dataframe tbody tr th:only-of-type {\n",
       "        vertical-align: middle;\n",
       "    }\n",
       "\n",
       "    .dataframe tbody tr th {\n",
       "        vertical-align: top;\n",
       "    }\n",
       "\n",
       "    .dataframe thead th {\n",
       "        text-align: right;\n",
       "    }\n",
       "</style>\n",
       "<table border=\"1\" class=\"dataframe\">\n",
       "  <thead>\n",
       "    <tr style=\"text-align: right;\">\n",
       "      <th></th>\n",
       "      <th>Continent</th>\n",
       "      <th>Country</th>\n",
       "    </tr>\n",
       "  </thead>\n",
       "  <tbody>\n",
       "    <tr>\n",
       "      <th>0</th>\n",
       "      <td>Africa</td>\n",
       "      <td>45</td>\n",
       "    </tr>\n",
       "    <tr>\n",
       "      <th>1</th>\n",
       "      <td>Americas</td>\n",
       "      <td>26</td>\n",
       "    </tr>\n",
       "    <tr>\n",
       "      <th>2</th>\n",
       "      <td>Asia</td>\n",
       "      <td>40</td>\n",
       "    </tr>\n",
       "    <tr>\n",
       "      <th>3</th>\n",
       "      <td>Europe</td>\n",
       "      <td>36</td>\n",
       "    </tr>\n",
       "    <tr>\n",
       "      <th>4</th>\n",
       "      <td>Oceania</td>\n",
       "      <td>4</td>\n",
       "    </tr>\n",
       "  </tbody>\n",
       "</table>\n",
       "</div>"
      ],
      "text/plain": [
       "  Continent  Country\n",
       "0    Africa       45\n",
       "1  Americas       26\n",
       "2      Asia       40\n",
       "3    Europe       36\n",
       "4   Oceania        4"
      ]
     },
     "execution_count": 24,
     "metadata": {},
     "output_type": "execute_result"
    }
   ],
   "source": [
    "\n",
    "continent_counts"
   ]
  },
  {
   "cell_type": "code",
   "execution_count": 25,
   "id": "7af07cef-0b22-4be1-9802-24dfbf414a2f",
   "metadata": {},
   "outputs": [
    {
     "data": {
      "image/png": "[encoded data removed]",
      "text/plain": [
       "<Figure size 500x300 with 1 Axes>"
      ]
     },
     "metadata": {},
     "output_type": "display_data"
    }
   ],
   "source": [
    "# Creating the bar plot\n",
    "continent_counts.plot(kind='bar', color='skyblue', figsize = (5,3))\n",
    "\n",
    "# Adding title and labels\n",
    "plt.title('Number of Countries per Continent')\n",
    "plt.xlabel('Continent')\n",
    "plt.ylabel('Number of Countries')\n",
    "plt.xticks(rotation=45)  # Rotating the continent names for better visibility\n",
    "\n",
    "# Showing the plot\n",
    "plt.show()"
   ]
  }
 ],
 "metadata": {
  "kernelspec": {
   "display_name": "Python [conda env:base] *",
   "language": "python",
   "name": "conda-base-py"
  },
  "language_info": {
   "codemirror_mode": {
    "name": "ipython",
    "version": 3
   },
   "file_extension": ".py",
   "mimetype": "text/x-python",
   "name": "python",
   "nbconvert_exporter": "python",
   "pygments_lexer": "ipython3",
   "version": "3.12.4"
  }
 },
 "nbformat": 4,
 "nbformat_minor": 5
}
