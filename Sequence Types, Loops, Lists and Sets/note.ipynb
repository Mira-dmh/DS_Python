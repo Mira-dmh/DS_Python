{
 "cells": [
  {
   "cell_type": "markdown",
   "id": "c32368fc-6c97-4bd6-b504-3ce4cbd867ef",
   "metadata": {},
   "source": [
    "**Welcome to My Notebook!**"
   ]
  },
  {
   "cell_type": "markdown",
   "id": "cd2f1cb9-02ca-401d-b7bd-eef2e7077898",
   "metadata": {},
   "source": [
    "## *Introduction*"
   ]
  },
  {
   "cell_type": "code",
   "execution_count": 21,
   "id": "7c46a82e-874f-4716-b210-a6b34c3b6fee",
   "metadata": {},
   "outputs": [
    {
     "name": "stdout",
     "output_type": "stream",
     "text": [
      "mira's fav food\n"
     ]
    },
    {
     "data": {
      "text/plain": [
       "['a', 'b', 'c']"
      ]
     },
     "execution_count": 21,
     "metadata": {},
     "output_type": "execute_result"
    }
   ],
   "source": [
    "print(\"mira's fav food\")\n",
    "foodList=['a','b','c']\n",
    "foodList"
   ]
  },
  {
   "cell_type": "code",
   "execution_count": 19,
   "id": "02b077cc-30b6-400e-bfbd-6073dabff590",
   "metadata": {},
   "outputs": [
    {
     "name": "stdout",
     "output_type": "stream",
     "text": [
      "a\n",
      "b\n",
      "c\n"
     ]
    }
   ],
   "source": [
    "for eachFood in foodList:\n",
    "    print(eachFood)"
   ]
  },
  {
   "cell_type": "code",
   "execution_count": 50,
   "id": "fedb8d96-5589-499f-9064-ab65437571cb",
   "metadata": {},
   "outputs": [
    {
     "name": "stdout",
     "output_type": "stream",
     "text": [
      "H\n",
      "a\n",
      "v\n",
      "e\n",
      " \n",
      "a\n",
      " \n",
      "g\n",
      "r\n",
      "e\n",
      "a\n",
      "t\n",
      " \n",
      "d\n",
      "a\n",
      "y\n"
     ]
    }
   ],
   "source": [
    "for c in \"Have a great day\":\n",
    "    print(c)"
   ]
  },
  {
   "cell_type": "code",
   "execution_count": null,
   "id": "72f988a2-7c82-4b4e-9223-4698f1597ae7",
   "metadata": {},
   "outputs": [],
   "source": []
  },
  {
   "cell_type": "code",
   "execution_count": 23,
   "id": "11519194-adeb-4eea-b902-f6255457711c",
   "metadata": {},
   "outputs": [
    {
     "name": "stdout",
     "output_type": "stream",
     "text": [
      "['aa', 'bb', 'cc', 'dd']\n"
     ]
    }
   ],
   "source": [
    "strList=['aa','bb','cc','dd']\n",
    "for s in range(len(strList)):\n",
    "    newList.append(s)\n",
    "print(strList)\n",
    "#append 用于将一个元素添加到列表的末尾"
   ]
  },
  {
   "cell_type": "code",
   "execution_count": 4,
   "id": "b0931898-10c9-4bf8-bb2e-7b1e312a4230",
   "metadata": {},
   "outputs": [
    {
     "name": "stdout",
     "output_type": "stream",
     "text": [
      "['*aa*', '*bb*', '*cc*', '*dd*']\n"
     ]
    }
   ],
   "source": [
    "strList=['aa','bb','cc','dd']\n",
    "newList=[]\n",
    "for s in strList:\n",
    "    newList.append('*'+s+'*')\n",
    "#print(strList)\n",
    "print(newList)"
   ]
  },
  {
   "cell_type": "code",
   "execution_count": 10,
   "id": "0b3f9496-2641-4dcd-b580-c027c158cc40",
   "metadata": {},
   "outputs": [
    {
     "name": "stdout",
     "output_type": "stream",
     "text": [
      "[0, 1, 4, 9, 16, 25, 36, 49, 64, 81]\n"
     ]
    }
   ],
   "source": [
    "squareList = []\n",
    "for n in range(10):\n",
    "    squareList.append(n**2)\n",
    "print(squareList)\n",
    "#squareList=[n**2 for n in range(10)]"
   ]
  },
  {
   "cell_type": "code",
   "execution_count": 2,
   "id": "1c641fad-7ee6-4b47-add0-33ec1d37d4e1",
   "metadata": {},
   "outputs": [
    {
     "name": "stdin",
     "output_type": "stream",
     "text": [
      "please input a name Ding\n"
     ]
    },
    {
     "data": {
      "text/plain": [
       "'Ding'"
      ]
     },
     "execution_count": 2,
     "metadata": {},
     "output_type": "execute_result"
    }
   ],
   "source": [
    "name=input(\"please input a name\")\n",
    "name"
   ]
  },
  {
   "cell_type": "code",
   "execution_count": 4,
   "id": "e0d6197d-6b53-46c8-9b5d-28b53c4453ff",
   "metadata": {},
   "outputs": [
    {
     "name": "stdin",
     "output_type": "stream",
     "text": [
      "please input a month 2\n"
     ]
    },
    {
     "data": {
      "text/plain": [
       "'2'"
      ]
     },
     "execution_count": 4,
     "metadata": {},
     "output_type": "execute_result"
    }
   ],
   "source": [
    "month=input(\"please input a month\")\n",
    "month"
   ]
  },
  {
   "cell_type": "code",
   "execution_count": 6,
   "id": "840a843d-54f5-4fa0-a96f-e57a6edc574f",
   "metadata": {},
   "outputs": [
    {
     "data": {
      "text/plain": [
       "2"
      ]
     },
     "execution_count": 6,
     "metadata": {},
     "output_type": "execute_result"
    }
   ],
   "source": [
    "int(month)"
   ]
  },
  {
   "cell_type": "code",
   "execution_count": 8,
   "id": "3f01fcd6-e2a0-4aad-b9e5-f5892ab12b5c",
   "metadata": {},
   "outputs": [
    {
     "data": {
      "text/plain": [
       "{2, 3, 6, 10}"
      ]
     },
     "execution_count": 8,
     "metadata": {},
     "output_type": "execute_result"
    }
   ],
   "source": [
    "set1={3,6,2,3,2,10}\n",
    "set1"
   ]
  },
  {
   "cell_type": "code",
   "execution_count": 10,
   "id": "0f7d517e-6a44-45fd-91bf-e62fc74d7ab6",
   "metadata": {},
   "outputs": [
    {
     "data": {
      "text/plain": [
       "{2, 3, 10}"
      ]
     },
     "execution_count": 10,
     "metadata": {},
     "output_type": "execute_result"
    }
   ],
   "source": [
    "set1.remove(6)\n",
    "set1"
   ]
  },
  {
   "cell_type": "code",
   "execution_count": 12,
   "id": "2af17b91-673d-479d-af83-701a48e24ad7",
   "metadata": {},
   "outputs": [
    {
     "data": {
      "text/plain": [
       "{1, 2, 3}"
      ]
     },
     "execution_count": 12,
     "metadata": {},
     "output_type": "execute_result"
    }
   ],
   "source": [
    "set2={1,2,3}\n",
    "set2"
   ]
  },
  {
   "cell_type": "code",
   "execution_count": 14,
   "id": "f17bdb0d-c556-4d83-b138-f315f4386874",
   "metadata": {},
   "outputs": [
    {
     "data": {
      "text/plain": [
       "{1, 2, 3, 10}"
      ]
     },
     "execution_count": 14,
     "metadata": {},
     "output_type": "execute_result"
    }
   ],
   "source": [
    "set1.union(set2)"
   ]
  },
  {
   "cell_type": "code",
   "execution_count": 16,
   "id": "b08ab1b8-c098-4f94-86d7-e5acd7b74165",
   "metadata": {},
   "outputs": [
    {
     "data": {
      "text/plain": [
       "{2, 3}"
      ]
     },
     "execution_count": 16,
     "metadata": {},
     "output_type": "execute_result"
    }
   ],
   "source": [
    "set1.intersection(set2)"
   ]
  },
  {
   "cell_type": "code",
   "execution_count": 18,
   "id": "20d2ba61-3c69-4ba5-be90-cf325d7b52e9",
   "metadata": {},
   "outputs": [
    {
     "name": "stdout",
     "output_type": "stream",
     "text": [
      "[1, 3, 4, 9]\n"
     ]
    }
   ],
   "source": [
    "number=[4,1,9,3]\n",
    "number.sort()\n",
    "print(number)"
   ]
  },
  {
   "cell_type": "code",
   "execution_count": null,
   "id": "ba3febb7-6a1e-42a2-88aa-fbd04d7494c8",
   "metadata": {},
   "outputs": [],
   "source": []
  }
 ],
 "metadata": {
  "kernelspec": {
   "display_name": "Python [conda env:base] *",
   "language": "python",
   "name": "conda-base-py"
  },
  "language_info": {
   "codemirror_mode": {
    "name": "ipython",
    "version": 3
   },
   "file_extension": ".py",
   "mimetype": "text/x-python",
   "name": "python",
   "nbconvert_exporter": "python",
   "pygments_lexer": "ipython3",
   "version": "3.12.4"
  }
 },
 "nbformat": 4,
 "nbformat_minor": 5
}
