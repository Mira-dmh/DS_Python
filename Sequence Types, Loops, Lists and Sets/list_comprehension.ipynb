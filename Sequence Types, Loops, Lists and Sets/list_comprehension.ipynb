{
 "cells": [
  {
   "cell_type": "markdown",
   "id": "bfbafa35-9f04-4fc5-954e-46f0d2271ab6",
   "metadata": {
    "editable": true,
    "slideshow": {
     "slide_type": ""
    },
    "tags": []
   },
   "source": [
    "### <span style=\"color:darkred\"> List Comprehension (1)</span>"
   ]
  },
  {
   "cell_type": "markdown",
   "id": "2f0ec094-52bf-4163-8559-181d818a5d2e",
   "metadata": {},
   "source": [
    "#### Example 1"
   ]
  },
  {
   "cell_type": "code",
   "execution_count": 5,
   "id": "c35d42d8-a0c7-4246-964b-7e3d0010e1dd",
   "metadata": {},
   "outputs": [
    {
     "data": {
      "text/plain": [
       "[0, 1, 4, 9, 16, 25, 36, 49, 64, 81]"
      ]
     },
     "execution_count": 5,
     "metadata": {},
     "output_type": "execute_result"
    }
   ],
   "source": [
    "# a loop to create a new list\n",
    "squareList = []\n",
    "for n in range(10):\n",
    "        squareList.append(n ** 2)\n",
    "squareList"
   ]
  },
  {
   "cell_type": "code",
   "execution_count": 6,
   "id": "18435781",
   "metadata": {},
   "outputs": [
    {
     "data": {
      "text/plain": [
       "[0, 1, 4, 9, 16, 25, 36, 49, 64, 81]"
      ]
     },
     "execution_count": 6,
     "metadata": {},
     "output_type": "execute_result"
    }
   ],
   "source": [
    "#Rewrite the above using list comprehension\n",
    "squareList = [n**2 for n in range (10) ]\n",
    "squareList"
   ]
  },
  {
   "cell_type": "markdown",
   "id": "f9073c4b",
   "metadata": {},
   "source": [
    "### <span style=\"color:orangered\"> Practice(1) </span>"
   ]
  },
  {
   "cell_type": "code",
   "execution_count": null,
   "id": "de6689d4",
   "metadata": {},
   "outputs": [],
   "source": [
    "# Try it out:\n",
    "# Given list\n",
    "strList = ['aa', 'bb', 'cc', 'dd']\n",
    "# Write a list comprehension to create the following list:\n",
    "# ['*aa', '*bb', '*cc', '*dd']\n",
    "\n",
    "newList = ['*' + s for s in strList]"
   ]
  },
  {
   "cell_type": "markdown",
   "id": "1d31845a",
   "metadata": {},
   "source": [
    "### <span style=\"color:darkred\"> List Comprehension (2) (with a condition) </span>"
   ]
  },
  {
   "cell_type": "markdown",
   "id": "a5906430",
   "metadata": {},
   "source": [
    "#### Example 2 "
   ]
  },
  {
   "cell_type": "code",
   "execution_count": 1,
   "id": "afb74097",
   "metadata": {},
   "outputs": [
    {
     "data": {
      "text/plain": [
       "[0, 1, 4, 9, 16, 25]"
      ]
     },
     "execution_count": 1,
     "metadata": {},
     "output_type": "execute_result"
    }
   ],
   "source": [
    "\n",
    "squareList = [n**2 for n in range (10) if n <= 5]\n",
    "squareList"
   ]
  },
  {
   "cell_type": "markdown",
   "id": "321670ab",
   "metadata": {},
   "source": [
    "The above code is equivalent to the following for loop"
   ]
  },
  {
   "cell_type": "code",
   "execution_count": null,
   "id": "ff6a3007",
   "metadata": {},
   "outputs": [
    {
     "data": {
      "text/plain": [
       "[0, 1, 4, 9, 16, 25]"
      ]
     },
     "metadata": {},
     "output_type": "display_data"
    }
   ],
   "source": [
    "# a loop to create a new list\n",
    "squareList = []\n",
    "for n in range(10):\n",
    "    if n <= 5:\n",
    "        squareList.append(n ** 2)\n",
    "squareList"
   ]
  },
  {
   "cell_type": "markdown",
   "id": "cdce8bec-5afb-4735-940f-e45ea96701fe",
   "metadata": {},
   "source": [
    "#### Example 3\n",
    "\n",
    "Find all vowels in the following sentence.\n",
    "\n",
    "```python\n",
    "sentence = 'The rocket came back from mars in 2025.\n",
    "\n"
   ]
  },
  {
   "cell_type": "code",
   "execution_count": 3,
   "id": "2dbf1895",
   "metadata": {},
   "outputs": [
    {
     "name": "stdout",
     "output_type": "stream",
     "text": [
      "The vowels are:\n",
      "['e', 'o', 'e', 'a', 'e', 'a', 'o', 'a', 'i']\n"
     ]
    }
   ],
   "source": [
    "#Use a for loop.\n",
    "sentence = 'The rocket came back from mars in 2025.'\n",
    "vowels = []\n",
    "for char in sentence: #Note: char is a str type.\n",
    "    if char in 'aeiou':\n",
    "        vowels.append(char)\n",
    " \n",
    "print(\"The vowels are:\")\n",
    "print(vowels)"
   ]
  },
  {
   "cell_type": "code",
   "execution_count": 4,
   "id": "56e7b775",
   "metadata": {},
   "outputs": [
    {
     "name": "stdout",
     "output_type": "stream",
     "text": [
      "The vowels are:\n",
      "['e', 'o', 'e', 'a', 'e', 'a', 'o', 'a', 'i']\n"
     ]
    }
   ],
   "source": [
    "#Use list comprehension with conditions \n",
    "sentence = 'The rocket landed on mars in 2021.'\n",
    "vowels = [char for char in sentence if char in 'aeiou'] #Note: char is a str type.\n",
    "print(\"The vowels are:\")\n",
    "print(vowels)"
   ]
  },
  {
   "cell_type": "markdown",
   "id": "8f763c95-cf2d-4089-b23a-4a75329d284d",
   "metadata": {},
   "source": [
    "### <span style=\"color:orangered\"> Practice (2) </span>\n",
    " \n",
    "Find all digits in the above string *sentence*. <br>\n",
    "String methods:\n",
    "[https://docs.python.org/3/library/stdtypes.html#text-sequence-type-str](https://docs.python.org/3/library/stdtypes.html#text-sequence-type-str) <br>\n",
    "Hints: Consider **str.isdigit()** method"
   ]
  },
  {
   "cell_type": "code",
   "execution_count": 12,
   "id": "19b1072f",
   "metadata": {
    "editable": true,
    "slideshow": {
     "slide_type": ""
    },
    "tags": []
   },
   "outputs": [
    {
     "name": "stdout",
     "output_type": "stream",
     "text": [
      "The vowels are:\n",
      "['2', '0', '2', '5']\n"
     ]
    }
   ],
   "source": [
    "#Use a for loop.\n",
    "sentence = 'The rocket came back from mars in 2025.'\n",
    "digit = []\n",
    "for char in sentence: #Note: char is a str type.\\\n",
    "    if char in '0123456789':\n",
    "        digit.append(char)\n",
    " \n",
    "print(\"The vowels are:\")\n",
    "print(digit)"
   ]
  },
  {
   "cell_type": "code",
   "execution_count": 14,
   "id": "b52cc2ed",
   "metadata": {},
   "outputs": [
    {
     "name": "stdout",
     "output_type": "stream",
     "text": [
      "The vowels are:\n",
      "['2', '0', '2', '1']\n"
     ]
    }
   ],
   "source": [
    "#Use list comprehension with conditions \n",
    "sentence = 'The rocket landed on mars in 2021.'\n",
    "digit = [char for char in sentence if char.isdigit()] #Note: char is a str type.\n",
    "print(\"The vowels are:\")\n",
    "print(digit)"
   ]
  },
  {
   "cell_type": "markdown",
   "id": "695acda0",
   "metadata": {},
   "source": [
    "### <span style=\"color:orangered\"> Practice (3) </span>\n",
    "Write a Python program that takes a list of words and uses list comprehension to create a new list containing only the words that have more than 4 letters. \n",
    "\n",
    "Example input:\n",
    "\n",
    "*words = [\"cat\", \"elephant\", \"dog\", \"giraffe\", \"fish\", \"tiger\"]*\n",
    "\n",
    "Expected output:\n",
    "\n",
    "*[\"elephant\", \"giraffe\", \"tiger\"]*\n",
    " "
   ]
  },
  {
   "cell_type": "code",
   "execution_count": 18,
   "id": "d068414a-aa66-4410-817e-092d2957ca62",
   "metadata": {},
   "outputs": [
    {
     "name": "stdout",
     "output_type": "stream",
     "text": [
      "The words that have more than 4 letters:\n",
      "['elephant', 'giraffe', 'tiger']\n"
     ]
    }
   ],
   "source": [
    "words = [\"cat\", \"elephant\", \"dog\", \"giraffe\", \"fish\", \"tiger\"]\n",
    "words_morethan4 = [char for char in words if len(char) > 4]\n",
    "print(\"The words that have more than 4 letters:\")\n",
    "print(words_morethan4)"
   ]
  },
  {
   "cell_type": "markdown",
   "id": "4816e0a3-2c49-418f-8b29-d57bd99142c7",
   "metadata": {},
   "source": [
    "### <span style=\"color:darkred\"> List Aliasing vs Cloning </span>\n",
    "listB = listA #aliasing <br>\n",
    "listB = listA.copy() #cloning<br>\n",
    "listB = listA\\[:\\] #cloning, applies to other sequence types<br>"
   ]
  },
  {
   "cell_type": "code",
   "execution_count": 20,
   "id": "844cd10b-61ee-463d-bd43-271742325e76",
   "metadata": {},
   "outputs": [
    {
     "name": "stdout",
     "output_type": "stream",
     "text": [
      "[5, 82, 83]\n",
      "[5, 82, 83]\n",
      "True\n"
     ]
    }
   ],
   "source": [
    "a = [81, 82, 83]\n",
    "b = a # list aliasing\n",
    "b[0] = 5 #change list b\n",
    "print(a)  #list b is also changed!\n",
    "print(b)\n",
    "print(a==b) # compare the content of list a and list b"
   ]
  },
  {
   "cell_type": "code",
   "execution_count": 24,
   "id": "54c1bfce-1bec-432c-82b5-77cb0b2292af",
   "metadata": {},
   "outputs": [
    {
     "name": "stdout",
     "output_type": "stream",
     "text": [
      "[81, 82, 83]\n",
      "[5, 82, 83]\n",
      "False\n"
     ]
    }
   ],
   "source": [
    "a = [81, 82, 83]\n",
    "b = a.copy() #list cloning\n",
    "b[0] = 5 #change list b\n",
    "print(a) #list a stays the same\n",
    "print(b) \n",
    "print(a==b) # compare the content of lists a and b"
   ]
  },
  {
   "cell_type": "code",
   "execution_count": 22,
   "id": "3980771e-a7cd-492f-b025-7a15d8bd79ff",
   "metadata": {},
   "outputs": [
    {
     "name": "stdout",
     "output_type": "stream",
     "text": [
      "[100, 2, 3]\n",
      "[1, 2, 3]\n",
      "False\n"
     ]
    }
   ],
   "source": [
    "a = [1, 2, 3]\n",
    "b = a[:] #list cloning\n",
    "a[0] = 100 #change list a\n",
    "print(a)\n",
    "print(b) #list b stays the same\n",
    "print(a==b) # compare the content of lists a and b"
   ]
  },
  {
   "cell_type": "markdown",
   "id": "6f96ad35",
   "metadata": {},
   "source": [
    "#### Another string method **str.split()**"
   ]
  },
  {
   "cell_type": "code",
   "execution_count": null,
   "id": "c36cf605",
   "metadata": {},
   "outputs": [
    {
     "name": "stdout",
     "output_type": "stream",
     "text": [
      "['The', 'rocket', 'landed', 'on', 'mars', 'in', '2021.']\n"
     ]
    }
   ],
   "source": [
    "#Given a sentence, create a list of words by using the str.split() function.\n",
    "#Use list comprehension to construct a new list with words containing letter 'o'. \n",
    "sentence = 'The rocket landed on mars in 2021.'\n",
    "strList = sentence.split()\n",
    "print(strList)\n"
   ]
  },
  {
   "cell_type": "markdown",
   "id": "243af45a",
   "metadata": {},
   "source": [
    "<span style = \"color:darkred\"> ### More String Methods: </span>\n",
    "\n",
    "https://www.w3schools.com/python/python_strings_methods.asp \n"
   ]
  }
 ],
 "metadata": {
  "jupytext": {
   "cell_metadata_filter": "-all",
   "main_language": "python",
   "notebook_metadata_filter": "-all"
  },
  "kernelspec": {
   "display_name": "Python [conda env:base] *",
   "language": "python",
   "name": "conda-base-py"
  },
  "language_info": {
   "codemirror_mode": {
    "name": "ipython",
    "version": 3
   },
   "file_extension": ".py",
   "mimetype": "text/x-python",
   "name": "python",
   "nbconvert_exporter": "python",
   "pygments_lexer": "ipython3",
   "version": "3.12.7"
  }
 },
 "nbformat": 4,
 "nbformat_minor": 5
}
