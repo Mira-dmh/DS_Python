{
 "cells": [
  {
   "cell_type": "code",
   "execution_count": 5,
   "id": "dc2efc8b-a6d8-44b9-9429-46a8395ecc0a",
   "metadata": {},
   "outputs": [],
   "source": [
    "# Load the pandas package\n",
    "import pandas as pd"
   ]
  },
  {
   "cell_type": "code",
   "execution_count": 7,
   "id": "421d7620-920d-4369-97dc-7a49328a841c",
   "metadata": {},
   "outputs": [],
   "source": [
    "# Load the country.csv data\n",
    "country = pd.read_csv('country.csv')"
   ]
  },
  {
   "cell_type": "code",
   "execution_count": 3,
   "id": "daaf9e9e-fa34-49e3-bc07-5c4823ebcc27",
   "metadata": {
    "scrolled": true
   },
   "outputs": [
    {
     "data": {
      "text/html": [
       "<div>\n",
       "<style scoped>\n",
       "    .dataframe tbody tr th:only-of-type {\n",
       "        vertical-align: middle;\n",
       "    }\n",
       "\n",
       "    .dataframe tbody tr th {\n",
       "        vertical-align: top;\n",
       "    }\n",
       "\n",
       "    .dataframe thead th {\n",
       "        text-align: right;\n",
       "    }\n",
       "</style>\n",
       "<table border=\"1\" class=\"dataframe\">\n",
       "  <thead>\n",
       "    <tr style=\"text-align: right;\">\n",
       "      <th></th>\n",
       "      <th>Country</th>\n",
       "      <th>Continent</th>\n",
       "      <th>SurfaceArea</th>\n",
       "      <th>Population</th>\n",
       "      <th>Density</th>\n",
       "      <th>IndependenceDate</th>\n",
       "      <th>OfficialLanguage</th>\n",
       "      <th>Percentage</th>\n",
       "    </tr>\n",
       "  </thead>\n",
       "  <tbody>\n",
       "    <tr>\n",
       "      <th>0</th>\n",
       "      <td>China</td>\n",
       "      <td>Asia</td>\n",
       "      <td>9572900</td>\n",
       "      <td>1277558000</td>\n",
       "      <td>133</td>\n",
       "      <td>1949-10-01</td>\n",
       "      <td>Mandarin</td>\n",
       "      <td>0.81</td>\n",
       "    </tr>\n",
       "    <tr>\n",
       "      <th>1</th>\n",
       "      <td>Bangladesh</td>\n",
       "      <td>Asia</td>\n",
       "      <td>143998</td>\n",
       "      <td>129155000</td>\n",
       "      <td>897</td>\n",
       "      <td>1905-05-24</td>\n",
       "      <td>Bengali</td>\n",
       "      <td>0.98</td>\n",
       "    </tr>\n",
       "    <tr>\n",
       "      <th>2</th>\n",
       "      <td>Brazil</td>\n",
       "      <td>South America</td>\n",
       "      <td>8547403</td>\n",
       "      <td>170115000</td>\n",
       "      <td>20</td>\n",
       "      <td>1822-09-07</td>\n",
       "      <td>Portuguese</td>\n",
       "      <td>0.98</td>\n",
       "    </tr>\n",
       "    <tr>\n",
       "      <th>3</th>\n",
       "      <td>India</td>\n",
       "      <td>Asia</td>\n",
       "      <td>3287263</td>\n",
       "      <td>1013662000</td>\n",
       "      <td>308</td>\n",
       "      <td>1905-04-30</td>\n",
       "      <td>Hindi</td>\n",
       "      <td>0.40</td>\n",
       "    </tr>\n",
       "    <tr>\n",
       "      <th>4</th>\n",
       "      <td>Norway</td>\n",
       "      <td>Europe</td>\n",
       "      <td>385207</td>\n",
       "      <td>5379000</td>\n",
       "      <td>14</td>\n",
       "      <td>1905-05-17</td>\n",
       "      <td>Norwegian</td>\n",
       "      <td>0.97</td>\n",
       "    </tr>\n",
       "    <tr>\n",
       "      <th>5</th>\n",
       "      <td>United States</td>\n",
       "      <td>North America</td>\n",
       "      <td>9363520</td>\n",
       "      <td>278357000</td>\n",
       "      <td>30</td>\n",
       "      <td>1776-07-04</td>\n",
       "      <td>English</td>\n",
       "      <td>0.86</td>\n",
       "    </tr>\n",
       "  </tbody>\n",
       "</table>\n",
       "</div>"
      ],
      "text/plain": [
       "         Country      Continent  SurfaceArea  Population  Density  \\\n",
       "0          China           Asia      9572900  1277558000      133   \n",
       "1     Bangladesh           Asia       143998   129155000      897   \n",
       "2         Brazil  South America      8547403   170115000       20   \n",
       "3          India           Asia      3287263  1013662000      308   \n",
       "4         Norway         Europe       385207     5379000       14   \n",
       "5  United States  North America      9363520   278357000       30   \n",
       "\n",
       "  IndependenceDate OfficialLanguage  Percentage  \n",
       "0       1949-10-01         Mandarin        0.81  \n",
       "1       1905-05-24          Bengali        0.98  \n",
       "2       1822-09-07       Portuguese        0.98  \n",
       "3       1905-04-30            Hindi        0.40  \n",
       "4       1905-05-17        Norwegian        0.97  \n",
       "5       1776-07-04          English        0.86  "
      ]
     },
     "execution_count": 3,
     "metadata": {},
     "output_type": "execute_result"
    }
   ],
   "source": [
    "# Display the country dataframe\n",
    "country"
   ]
  },
  {
   "cell_type": "markdown",
   "id": "48f95d53-ea3f-4c19-bbe3-ab2453354d07",
   "metadata": {},
   "source": [
    "## <span style= \"color:orangered\"> Practice 1 </span>\n",
    "\n",
    "### show all continents."
   ]
  },
  {
   "cell_type": "code",
   "execution_count": null,
   "id": "c06c4621-f839-4ccb-bd11-05cf2786c8b3",
   "metadata": {
    "scrolled": true
   },
   "outputs": [],
   "source": [
    " "
   ]
  },
  {
   "cell_type": "markdown",
   "id": "16adbc58-9700-425d-b468-9f92600a89c5",
   "metadata": {},
   "source": [
    "### <span style= \"color:blue\"> Show unique values of the continents </span>\n"
   ]
  },
  {
   "cell_type": "code",
   "execution_count": 4,
   "id": "c9dc58f0",
   "metadata": {},
   "outputs": [
    {
     "data": {
      "text/plain": [
       "['Asia', 'South America', 'Europe', 'North America']"
      ]
     },
     "execution_count": 4,
     "metadata": {},
     "output_type": "execute_result"
    }
   ],
   "source": [
    "pd.unique(country['Continent']).tolist()"
   ]
  },
  {
   "cell_type": "markdown",
   "id": "5d12d325",
   "metadata": {},
   "source": [
    "### <span style= \"color:blue\"> Create a filter </span>\n",
    "- A filter can be created for generating rows meeting a certain condition. \n",
    "- relational operators: `==`, `!=`, `>`, `<`, `>=`, and `<=`  \n",
    "- Use logical operators, `!`, `&` and `|`, to create compound conditions\n",
    "    - remember to use () to ensure logical operators are evaluated first before logical operators, e.g., use `(a > b) & (c < d) ` instead of `a > b & c < d`\n"
   ]
  },
  {
   "cell_type": "code",
   "execution_count": 5,
   "id": "aa1b7d24-45c9-42af-a69e-2baf49ad5cc0",
   "metadata": {},
   "outputs": [
    {
     "data": {
      "text/html": [
       "<div>\n",
       "<style scoped>\n",
       "    .dataframe tbody tr th:only-of-type {\n",
       "        vertical-align: middle;\n",
       "    }\n",
       "\n",
       "    .dataframe tbody tr th {\n",
       "        vertical-align: top;\n",
       "    }\n",
       "\n",
       "    .dataframe thead th {\n",
       "        text-align: right;\n",
       "    }\n",
       "</style>\n",
       "<table border=\"1\" class=\"dataframe\">\n",
       "  <thead>\n",
       "    <tr style=\"text-align: right;\">\n",
       "      <th></th>\n",
       "      <th>Country</th>\n",
       "      <th>Continent</th>\n",
       "      <th>SurfaceArea</th>\n",
       "      <th>Population</th>\n",
       "      <th>Density</th>\n",
       "      <th>IndependenceDate</th>\n",
       "      <th>OfficialLanguage</th>\n",
       "      <th>Percentage</th>\n",
       "    </tr>\n",
       "  </thead>\n",
       "  <tbody>\n",
       "    <tr>\n",
       "      <th>2</th>\n",
       "      <td>Brazil</td>\n",
       "      <td>South America</td>\n",
       "      <td>8547403</td>\n",
       "      <td>170115000</td>\n",
       "      <td>20</td>\n",
       "      <td>1822-09-07</td>\n",
       "      <td>Portuguese</td>\n",
       "      <td>0.98</td>\n",
       "    </tr>\n",
       "  </tbody>\n",
       "</table>\n",
       "</div>"
      ],
      "text/plain": [
       "  Country      Continent  SurfaceArea  Population  Density IndependenceDate  \\\n",
       "2  Brazil  South America      8547403   170115000       20       1822-09-07   \n",
       "\n",
       "  OfficialLanguage  Percentage  \n",
       "2       Portuguese        0.98  "
      ]
     },
     "execution_count": 5,
     "metadata": {},
     "output_type": "execute_result"
    }
   ],
   "source": [
    "# Select rows where the Continent is South America\n",
    "filter = country['Continent'] == 'South America'\n",
    "country[filter]"
   ]
  },
  {
   "cell_type": "code",
   "execution_count": 6,
   "id": "1ad8c647-f84e-4e3d-95b6-3edde524e7b4",
   "metadata": {},
   "outputs": [
    {
     "data": {
      "text/html": [
       "<div>\n",
       "<style scoped>\n",
       "    .dataframe tbody tr th:only-of-type {\n",
       "        vertical-align: middle;\n",
       "    }\n",
       "\n",
       "    .dataframe tbody tr th {\n",
       "        vertical-align: top;\n",
       "    }\n",
       "\n",
       "    .dataframe thead th {\n",
       "        text-align: right;\n",
       "    }\n",
       "</style>\n",
       "<table border=\"1\" class=\"dataframe\">\n",
       "  <thead>\n",
       "    <tr style=\"text-align: right;\">\n",
       "      <th></th>\n",
       "      <th>Country</th>\n",
       "      <th>Continent</th>\n",
       "      <th>SurfaceArea</th>\n",
       "      <th>Population</th>\n",
       "      <th>Density</th>\n",
       "      <th>IndependenceDate</th>\n",
       "      <th>OfficialLanguage</th>\n",
       "      <th>Percentage</th>\n",
       "    </tr>\n",
       "  </thead>\n",
       "  <tbody>\n",
       "    <tr>\n",
       "      <th>2</th>\n",
       "      <td>Brazil</td>\n",
       "      <td>South America</td>\n",
       "      <td>8547403</td>\n",
       "      <td>170115000</td>\n",
       "      <td>20</td>\n",
       "      <td>1822-09-07</td>\n",
       "      <td>Portuguese</td>\n",
       "      <td>0.98</td>\n",
       "    </tr>\n",
       "  </tbody>\n",
       "</table>\n",
       "</div>"
      ],
      "text/plain": [
       "  Country      Continent  SurfaceArea  Population  Density IndependenceDate  \\\n",
       "2  Brazil  South America      8547403   170115000       20       1822-09-07   \n",
       "\n",
       "  OfficialLanguage  Percentage  \n",
       "2       Portuguese        0.98  "
      ]
     },
     "execution_count": 6,
     "metadata": {},
     "output_type": "execute_result"
    }
   ],
   "source": [
    "# Select rows where the Continent is South America -- an anonymous filter\n",
    "country[country['Continent'] == 'South America']"
   ]
  },
  {
   "cell_type": "code",
   "execution_count": 7,
   "id": "fa06ba93-6ddc-4b9e-88ee-ec6171b8c8b2",
   "metadata": {},
   "outputs": [
    {
     "data": {
      "text/html": [
       "<div>\n",
       "<style scoped>\n",
       "    .dataframe tbody tr th:only-of-type {\n",
       "        vertical-align: middle;\n",
       "    }\n",
       "\n",
       "    .dataframe tbody tr th {\n",
       "        vertical-align: top;\n",
       "    }\n",
       "\n",
       "    .dataframe thead th {\n",
       "        text-align: right;\n",
       "    }\n",
       "</style>\n",
       "<table border=\"1\" class=\"dataframe\">\n",
       "  <thead>\n",
       "    <tr style=\"text-align: right;\">\n",
       "      <th></th>\n",
       "      <th>Country</th>\n",
       "      <th>Continent</th>\n",
       "      <th>SurfaceArea</th>\n",
       "      <th>Population</th>\n",
       "      <th>Density</th>\n",
       "      <th>IndependenceDate</th>\n",
       "      <th>OfficialLanguage</th>\n",
       "      <th>Percentage</th>\n",
       "    </tr>\n",
       "  </thead>\n",
       "  <tbody>\n",
       "    <tr>\n",
       "      <th>2</th>\n",
       "      <td>Brazil</td>\n",
       "      <td>South America</td>\n",
       "      <td>8547403</td>\n",
       "      <td>170115000</td>\n",
       "      <td>20</td>\n",
       "      <td>1822-09-07</td>\n",
       "      <td>Portuguese</td>\n",
       "      <td>0.98</td>\n",
       "    </tr>\n",
       "    <tr>\n",
       "      <th>4</th>\n",
       "      <td>Norway</td>\n",
       "      <td>Europe</td>\n",
       "      <td>385207</td>\n",
       "      <td>5379000</td>\n",
       "      <td>14</td>\n",
       "      <td>1905-05-17</td>\n",
       "      <td>Norwegian</td>\n",
       "      <td>0.97</td>\n",
       "    </tr>\n",
       "    <tr>\n",
       "      <th>5</th>\n",
       "      <td>United States</td>\n",
       "      <td>North America</td>\n",
       "      <td>9363520</td>\n",
       "      <td>278357000</td>\n",
       "      <td>30</td>\n",
       "      <td>1776-07-04</td>\n",
       "      <td>English</td>\n",
       "      <td>0.86</td>\n",
       "    </tr>\n",
       "  </tbody>\n",
       "</table>\n",
       "</div>"
      ],
      "text/plain": [
       "         Country      Continent  SurfaceArea  Population  Density  \\\n",
       "2         Brazil  South America      8547403   170115000       20   \n",
       "4         Norway         Europe       385207     5379000       14   \n",
       "5  United States  North America      9363520   278357000       30   \n",
       "\n",
       "  IndependenceDate OfficialLanguage  Percentage  \n",
       "2       1822-09-07       Portuguese        0.98  \n",
       "4       1905-05-17        Norwegian        0.97  \n",
       "5       1776-07-04          English        0.86  "
      ]
     },
     "execution_count": 7,
     "metadata": {},
     "output_type": "execute_result"
    }
   ],
   "source": [
    "# Select rows where the Continent is not Asia\n",
    "country[country['Continent'] != 'Asia']"
   ]
  },
  {
   "cell_type": "code",
   "execution_count": 8,
   "id": "e4c0e9b2",
   "metadata": {},
   "outputs": [
    {
     "data": {
      "text/html": [
       "<div>\n",
       "<style scoped>\n",
       "    .dataframe tbody tr th:only-of-type {\n",
       "        vertical-align: middle;\n",
       "    }\n",
       "\n",
       "    .dataframe tbody tr th {\n",
       "        vertical-align: top;\n",
       "    }\n",
       "\n",
       "    .dataframe thead th {\n",
       "        text-align: right;\n",
       "    }\n",
       "</style>\n",
       "<table border=\"1\" class=\"dataframe\">\n",
       "  <thead>\n",
       "    <tr style=\"text-align: right;\">\n",
       "      <th></th>\n",
       "      <th>Country</th>\n",
       "      <th>Continent</th>\n",
       "      <th>SurfaceArea</th>\n",
       "      <th>Population</th>\n",
       "      <th>Density</th>\n",
       "      <th>IndependenceDate</th>\n",
       "      <th>OfficialLanguage</th>\n",
       "      <th>Percentage</th>\n",
       "    </tr>\n",
       "  </thead>\n",
       "  <tbody>\n",
       "    <tr>\n",
       "      <th>2</th>\n",
       "      <td>Brazil</td>\n",
       "      <td>South America</td>\n",
       "      <td>8547403</td>\n",
       "      <td>170115000</td>\n",
       "      <td>20</td>\n",
       "      <td>1822-09-07</td>\n",
       "      <td>Portuguese</td>\n",
       "      <td>0.98</td>\n",
       "    </tr>\n",
       "    <tr>\n",
       "      <th>4</th>\n",
       "      <td>Norway</td>\n",
       "      <td>Europe</td>\n",
       "      <td>385207</td>\n",
       "      <td>5379000</td>\n",
       "      <td>14</td>\n",
       "      <td>1905-05-17</td>\n",
       "      <td>Norwegian</td>\n",
       "      <td>0.97</td>\n",
       "    </tr>\n",
       "    <tr>\n",
       "      <th>5</th>\n",
       "      <td>United States</td>\n",
       "      <td>North America</td>\n",
       "      <td>9363520</td>\n",
       "      <td>278357000</td>\n",
       "      <td>30</td>\n",
       "      <td>1776-07-04</td>\n",
       "      <td>English</td>\n",
       "      <td>0.86</td>\n",
       "    </tr>\n",
       "  </tbody>\n",
       "</table>\n",
       "</div>"
      ],
      "text/plain": [
       "         Country      Continent  SurfaceArea  Population  Density  \\\n",
       "2         Brazil  South America      8547403   170115000       20   \n",
       "4         Norway         Europe       385207     5379000       14   \n",
       "5  United States  North America      9363520   278357000       30   \n",
       "\n",
       "  IndependenceDate OfficialLanguage  Percentage  \n",
       "2       1822-09-07       Portuguese        0.98  \n",
       "4       1905-05-17        Norwegian        0.97  \n",
       "5       1776-07-04          English        0.86  "
      ]
     },
     "execution_count": 8,
     "metadata": {},
     "output_type": "execute_result"
    }
   ],
   "source": [
    "# Select rows where the Continent is not in Asia\n",
    "country[~(country['Continent'] == 'Asia')]"
   ]
  },
  {
   "cell_type": "code",
   "execution_count": 9,
   "id": "3918fd12-ad2e-414d-9a95-113d913d75cc",
   "metadata": {
    "scrolled": true
   },
   "outputs": [
    {
     "data": {
      "text/html": [
       "<div>\n",
       "<style scoped>\n",
       "    .dataframe tbody tr th:only-of-type {\n",
       "        vertical-align: middle;\n",
       "    }\n",
       "\n",
       "    .dataframe tbody tr th {\n",
       "        vertical-align: top;\n",
       "    }\n",
       "\n",
       "    .dataframe thead th {\n",
       "        text-align: right;\n",
       "    }\n",
       "</style>\n",
       "<table border=\"1\" class=\"dataframe\">\n",
       "  <thead>\n",
       "    <tr style=\"text-align: right;\">\n",
       "      <th></th>\n",
       "      <th>Country</th>\n",
       "      <th>Continent</th>\n",
       "      <th>SurfaceArea</th>\n",
       "      <th>Population</th>\n",
       "      <th>Density</th>\n",
       "      <th>IndependenceDate</th>\n",
       "      <th>OfficialLanguage</th>\n",
       "      <th>Percentage</th>\n",
       "    </tr>\n",
       "  </thead>\n",
       "  <tbody>\n",
       "    <tr>\n",
       "      <th>0</th>\n",
       "      <td>China</td>\n",
       "      <td>Asia</td>\n",
       "      <td>9572900</td>\n",
       "      <td>1277558000</td>\n",
       "      <td>133</td>\n",
       "      <td>1949-10-01</td>\n",
       "      <td>Mandarin</td>\n",
       "      <td>0.81</td>\n",
       "    </tr>\n",
       "    <tr>\n",
       "      <th>1</th>\n",
       "      <td>Bangladesh</td>\n",
       "      <td>Asia</td>\n",
       "      <td>143998</td>\n",
       "      <td>129155000</td>\n",
       "      <td>897</td>\n",
       "      <td>1905-05-24</td>\n",
       "      <td>Bengali</td>\n",
       "      <td>0.98</td>\n",
       "    </tr>\n",
       "    <tr>\n",
       "      <th>3</th>\n",
       "      <td>India</td>\n",
       "      <td>Asia</td>\n",
       "      <td>3287263</td>\n",
       "      <td>1013662000</td>\n",
       "      <td>308</td>\n",
       "      <td>1905-04-30</td>\n",
       "      <td>Hindi</td>\n",
       "      <td>0.40</td>\n",
       "    </tr>\n",
       "    <tr>\n",
       "      <th>4</th>\n",
       "      <td>Norway</td>\n",
       "      <td>Europe</td>\n",
       "      <td>385207</td>\n",
       "      <td>5379000</td>\n",
       "      <td>14</td>\n",
       "      <td>1905-05-17</td>\n",
       "      <td>Norwegian</td>\n",
       "      <td>0.97</td>\n",
       "    </tr>\n",
       "  </tbody>\n",
       "</table>\n",
       "</div>"
      ],
      "text/plain": [
       "      Country Continent  SurfaceArea  Population  Density IndependenceDate  \\\n",
       "0       China      Asia      9572900  1277558000      133       1949-10-01   \n",
       "1  Bangladesh      Asia       143998   129155000      897       1905-05-24   \n",
       "3       India      Asia      3287263  1013662000      308       1905-04-30   \n",
       "4      Norway    Europe       385207     5379000       14       1905-05-17   \n",
       "\n",
       "  OfficialLanguage  Percentage  \n",
       "0         Mandarin        0.81  \n",
       "1          Bengali        0.98  \n",
       "3            Hindi        0.40  \n",
       "4        Norwegian        0.97  "
      ]
     },
     "execution_count": 9,
     "metadata": {},
     "output_type": "execute_result"
    }
   ],
   "source": [
    "# Select rows where the Continent is Asia or Europe\n",
    "country[(country['Continent'] == 'Asia') | (country['Continent'] == 'Europe')]"
   ]
  },
  {
   "cell_type": "markdown",
   "id": "b93a113f-915f-433a-9216-54d7011a6fa5",
   "metadata": {},
   "source": [
    "## <span style= \"color:orangered\"> Practice 2 -- Relational Operations  </span>\n",
    "\n",
    "1. show rows with a population greater than 1 billion\n",
    "2. Show names of countries with a population greater than 1 billion. Return the results as a dataframe."
   ]
  },
  {
   "cell_type": "code",
   "execution_count": null,
   "id": "f518f415-34fa-4000-8280-894b5c52a3f4",
   "metadata": {},
   "outputs": [],
   "source": [
    " "
   ]
  },
  {
   "cell_type": "code",
   "execution_count": null,
   "id": "3ebcd953-a225-453e-9030-0d31cecd098b",
   "metadata": {},
   "outputs": [],
   "source": [
    " "
   ]
  },
  {
   "cell_type": "markdown",
   "id": "6a22cda5-c69b-4901-953d-387a2ffe52a5",
   "metadata": {},
   "source": [
    "## <span style= \"color:orangered\"> Practice 3 -- Logical Operations  </span>\n",
    "\n",
    "1. show rows for countries in Asia with a population greater than 250,000,000"
   ]
  },
  {
   "cell_type": "code",
   "execution_count": null,
   "id": "82e9176c-c098-49fc-9968-f65661869bb0",
   "metadata": {},
   "outputs": [],
   "source": [
    " "
   ]
  }
 ],
 "metadata": {
  "kernelspec": {
   "display_name": "Python [conda env:base] *",
   "language": "python",
   "name": "conda-base-py"
  },
  "language_info": {
   "codemirror_mode": {
    "name": "ipython",
    "version": 3
   },
   "file_extension": ".py",
   "mimetype": "text/x-python",
   "name": "python",
   "nbconvert_exporter": "python",
   "pygments_lexer": "ipython3",
   "version": "3.12.4"
  },
  "widgets": {
   "application/vnd.jupyter.widget-state+json": {
    "state": {},
    "version_major": 2,
    "version_minor": 0
   }
  }
 },
 "nbformat": 4,
 "nbformat_minor": 5
}
