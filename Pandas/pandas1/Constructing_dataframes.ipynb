{
 "cells": [
  {
   "cell_type": "markdown",
   "id": "c594aa89-ef01-4899-ad41-c707a300b4c0",
   "metadata": {},
   "source": [
    "## <span style=\"color:navy\"> Constructing Dataframes </span>"
   ]
  },
  {
   "cell_type": "code",
   "execution_count": 3,
   "id": "145a12d4-532f-4b06-9bb5-9039836befc8",
   "metadata": {},
   "outputs": [],
   "source": [
    "# Load the pandas and numpy packages\n",
    "import pandas as pd\n",
    "import numpy as np"
   ]
  },
  {
   "cell_type": "markdown",
   "id": "c40e8dbf",
   "metadata": {},
   "source": [
    "## pandas.DataFrame\n",
    "https://pandas.pydata.org/docs/reference/api/pandas.DataFrame.html\n",
    "\n",
    "A dataframe can be constructed using a dictionary, an ndarray, an iterable..."
   ]
  },
  {
   "cell_type": "markdown",
   "id": "e23463e1",
   "metadata": {},
   "source": [
    "### Create a dataframe from a dictionary."
   ]
  },
  {
   "cell_type": "code",
   "execution_count": 6,
   "id": "31845f9d",
   "metadata": {},
   "outputs": [
    {
     "data": {
      "text/html": [
       "<div>\n",
       "<style scoped>\n",
       "    .dataframe tbody tr th:only-of-type {\n",
       "        vertical-align: middle;\n",
       "    }\n",
       "\n",
       "    .dataframe tbody tr th {\n",
       "        vertical-align: top;\n",
       "    }\n",
       "\n",
       "    .dataframe thead th {\n",
       "        text-align: right;\n",
       "    }\n",
       "</style>\n",
       "<table border=\"1\" class=\"dataframe\">\n",
       "  <thead>\n",
       "    <tr style=\"text-align: right;\">\n",
       "      <th></th>\n",
       "      <th>Animal</th>\n",
       "      <th>Favorite Food</th>\n",
       "      <th>Quirk</th>\n",
       "      <th>Score of Cuteness</th>\n",
       "    </tr>\n",
       "  </thead>\n",
       "  <tbody>\n",
       "    <tr>\n",
       "      <th>0</th>\n",
       "      <td>Cat</td>\n",
       "      <td>Fish</td>\n",
       "      <td>Sleeps in the sun all day</td>\n",
       "      <td>9</td>\n",
       "    </tr>\n",
       "    <tr>\n",
       "      <th>1</th>\n",
       "      <td>Dog</td>\n",
       "      <td>Bones</td>\n",
       "      <td>Loves belly rubs</td>\n",
       "      <td>10</td>\n",
       "    </tr>\n",
       "    <tr>\n",
       "      <th>2</th>\n",
       "      <td>Elephant</td>\n",
       "      <td>Leaves</td>\n",
       "      <td>Sprays water for fun</td>\n",
       "      <td>7</td>\n",
       "    </tr>\n",
       "    <tr>\n",
       "      <th>3</th>\n",
       "      <td>Giraffe</td>\n",
       "      <td>Leaves</td>\n",
       "      <td>Has the longest tongue</td>\n",
       "      <td>8</td>\n",
       "    </tr>\n",
       "    <tr>\n",
       "      <th>4</th>\n",
       "      <td>Penguin</td>\n",
       "      <td>Fish</td>\n",
       "      <td>Waddles while walking</td>\n",
       "      <td>9</td>\n",
       "    </tr>\n",
       "    <tr>\n",
       "      <th>5</th>\n",
       "      <td>Koala</td>\n",
       "      <td>Eucalyptus</td>\n",
       "      <td>Sleeps 20 hours a day</td>\n",
       "      <td>10</td>\n",
       "    </tr>\n",
       "    <tr>\n",
       "      <th>6</th>\n",
       "      <td>Tiger</td>\n",
       "      <td>Meat</td>\n",
       "      <td>Roars to claim territory</td>\n",
       "      <td>6</td>\n",
       "    </tr>\n",
       "    <tr>\n",
       "      <th>7</th>\n",
       "      <td>Dolphin</td>\n",
       "      <td>Fish</td>\n",
       "      <td>Can recognize itself in a mirror</td>\n",
       "      <td>8</td>\n",
       "    </tr>\n",
       "    <tr>\n",
       "      <th>8</th>\n",
       "      <td>Panda</td>\n",
       "      <td>Bamboo</td>\n",
       "      <td>Eats while sitting like a human</td>\n",
       "      <td>10</td>\n",
       "    </tr>\n",
       "    <tr>\n",
       "      <th>9</th>\n",
       "      <td>Owl</td>\n",
       "      <td>Small rodents</td>\n",
       "      <td>Can rotate its head almost 360 degrees</td>\n",
       "      <td>7</td>\n",
       "    </tr>\n",
       "  </tbody>\n",
       "</table>\n",
       "</div>"
      ],
      "text/plain": [
       "     Animal  Favorite Food                                   Quirk  \\\n",
       "0       Cat           Fish               Sleeps in the sun all day   \n",
       "1       Dog          Bones                        Loves belly rubs   \n",
       "2  Elephant         Leaves                    Sprays water for fun   \n",
       "3   Giraffe         Leaves                  Has the longest tongue   \n",
       "4   Penguin           Fish                   Waddles while walking   \n",
       "5     Koala     Eucalyptus                   Sleeps 20 hours a day   \n",
       "6     Tiger           Meat                Roars to claim territory   \n",
       "7   Dolphin           Fish        Can recognize itself in a mirror   \n",
       "8     Panda         Bamboo         Eats while sitting like a human   \n",
       "9       Owl  Small rodents  Can rotate its head almost 360 degrees   \n",
       "\n",
       "   Score of Cuteness  \n",
       "0                  9  \n",
       "1                 10  \n",
       "2                  7  \n",
       "3                  8  \n",
       "4                  9  \n",
       "5                 10  \n",
       "6                  6  \n",
       "7                  8  \n",
       "8                 10  \n",
       "9                  7  "
      ]
     },
     "execution_count": 6,
     "metadata": {},
     "output_type": "execute_result"
    }
   ],
   "source": [
    "\n",
    "dict_animals = {\n",
    "    \"Animal\": [\"Cat\", \"Dog\", \"Elephant\", \"Giraffe\", \"Penguin\", \"Koala\", \"Tiger\", \"Dolphin\", \"Panda\", \"Owl\"],\n",
    "    \"Favorite Food\": [\"Fish\", \"Bones\", \"Leaves\", \"Leaves\", \"Fish\", \"Eucalyptus\", \"Meat\", \"Fish\", \"Bamboo\", \"Small rodents\"],\n",
    "    \"Quirk\": [\n",
    "        \"Sleeps in the sun all day\", \n",
    "        \"Loves belly rubs\", \n",
    "        \"Sprays water for fun\", \n",
    "        \"Has the longest tongue\", \n",
    "        \"Waddles while walking\", \n",
    "        \"Sleeps 20 hours a day\", \n",
    "        \"Roars to claim territory\", \n",
    "        \"Can recognize itself in a mirror\", \n",
    "        \"Eats while sitting like a human\", \n",
    "        \"Can rotate its head almost 360 degrees\"\n",
    "    ],\n",
    "    \"Score of Cuteness\": [9, 10, 7, 8, 9, 10, 6, 8, 10, 7],  \n",
    "}\n",
    "\n",
    "df_animals = pd.DataFrame(dict_animals)\n",
    "df_animals\n"
   ]
  },
  {
   "cell_type": "code",
   "execution_count": 7,
   "id": "8bfa4c8e-bf82-406e-bd55-808111c26293",
   "metadata": {},
   "outputs": [
    {
     "data": {
      "text/plain": [
       "(10, 4)"
      ]
     },
     "execution_count": 7,
     "metadata": {},
     "output_type": "execute_result"
    }
   ],
   "source": [
    "# Display the dataframe's shape\n",
    "df_animals.shape"
   ]
  },
  {
   "cell_type": "code",
   "execution_count": 8,
   "id": "c1026873-e89c-464d-b728-bfd2973359ae",
   "metadata": {},
   "outputs": [
    {
     "data": {
      "text/plain": [
       "RangeIndex(start=0, stop=10, step=1)"
      ]
     },
     "execution_count": 8,
     "metadata": {},
     "output_type": "execute_result"
    }
   ],
   "source": [
    "# Display the dataframe's shape\n",
    "df_animals.index"
   ]
  },
  {
   "cell_type": "code",
   "execution_count": 9,
   "id": "a5880406-41f8-40c1-93d6-d8de71dadb3d",
   "metadata": {},
   "outputs": [
    {
     "data": {
      "text/plain": [
       "Index(['Animal', 'Favorite Food', 'Quirk', 'Score of Cuteness'], dtype='object')"
      ]
     },
     "execution_count": 9,
     "metadata": {},
     "output_type": "execute_result"
    }
   ],
   "source": [
    "# Display the dataframe's shape\n",
    "df_animals.columns"
   ]
  },
  {
   "cell_type": "code",
   "execution_count": 10,
   "id": "b1192a51",
   "metadata": {},
   "outputs": [
    {
     "data": {
      "text/html": [
       "<div>\n",
       "<style scoped>\n",
       "    .dataframe tbody tr th:only-of-type {\n",
       "        vertical-align: middle;\n",
       "    }\n",
       "\n",
       "    .dataframe tbody tr th {\n",
       "        vertical-align: top;\n",
       "    }\n",
       "\n",
       "    .dataframe thead th {\n",
       "        text-align: right;\n",
       "    }\n",
       "</style>\n",
       "<table border=\"1\" class=\"dataframe\">\n",
       "  <thead>\n",
       "    <tr style=\"text-align: right;\">\n",
       "      <th></th>\n",
       "      <th>Animal</th>\n",
       "      <th>Favorite Food</th>\n",
       "      <th>Quirk</th>\n",
       "      <th>Score of Cuteness</th>\n",
       "    </tr>\n",
       "  </thead>\n",
       "  <tbody>\n",
       "    <tr>\n",
       "      <th>0</th>\n",
       "      <td>Cat</td>\n",
       "      <td>Fish</td>\n",
       "      <td>Sleeps in the sun all day</td>\n",
       "      <td>9</td>\n",
       "    </tr>\n",
       "    <tr>\n",
       "      <th>1</th>\n",
       "      <td>Dog</td>\n",
       "      <td>Bones</td>\n",
       "      <td>Loves belly rubs</td>\n",
       "      <td>10</td>\n",
       "    </tr>\n",
       "    <tr>\n",
       "      <th>2</th>\n",
       "      <td>Elephant</td>\n",
       "      <td>Leaves</td>\n",
       "      <td>Sprays water for fun</td>\n",
       "      <td>7</td>\n",
       "    </tr>\n",
       "  </tbody>\n",
       "</table>\n",
       "</div>"
      ],
      "text/plain": [
       "     Animal Favorite Food                      Quirk  Score of Cuteness\n",
       "0       Cat          Fish  Sleeps in the sun all day                  9\n",
       "1       Dog         Bones           Loves belly rubs                 10\n",
       "2  Elephant        Leaves       Sprays water for fun                  7"
      ]
     },
     "execution_count": 10,
     "metadata": {},
     "output_type": "execute_result"
    }
   ],
   "source": [
    "df_animals.head()\n",
    "df_animals.head(3)"
   ]
  },
  {
   "cell_type": "markdown",
   "id": "940f3f9d",
   "metadata": {},
   "source": [
    "### Create a dataframe from an numpy array."
   ]
  },
  {
   "cell_type": "code",
   "execution_count": 12,
   "id": "d8036c6e",
   "metadata": {},
   "outputs": [
    {
     "data": {
      "text/html": [
       "<div>\n",
       "<style scoped>\n",
       "    .dataframe tbody tr th:only-of-type {\n",
       "        vertical-align: middle;\n",
       "    }\n",
       "\n",
       "    .dataframe tbody tr th {\n",
       "        vertical-align: top;\n",
       "    }\n",
       "\n",
       "    .dataframe thead th {\n",
       "        text-align: right;\n",
       "    }\n",
       "</style>\n",
       "<table border=\"1\" class=\"dataframe\">\n",
       "  <thead>\n",
       "    <tr style=\"text-align: right;\">\n",
       "      <th></th>\n",
       "      <th>Animal</th>\n",
       "      <th>Favorite Food</th>\n",
       "      <th>Quirk</th>\n",
       "      <th>Score of Cuteness</th>\n",
       "    </tr>\n",
       "  </thead>\n",
       "  <tbody>\n",
       "    <tr>\n",
       "      <th>1</th>\n",
       "      <td>Cat</td>\n",
       "      <td>Fish</td>\n",
       "      <td>Sleeps in the sun all day</td>\n",
       "      <td>9</td>\n",
       "    </tr>\n",
       "    <tr>\n",
       "      <th>2</th>\n",
       "      <td>Dog</td>\n",
       "      <td>Bones</td>\n",
       "      <td>Loves belly rubs</td>\n",
       "      <td>10</td>\n",
       "    </tr>\n",
       "    <tr>\n",
       "      <th>3</th>\n",
       "      <td>Elephant</td>\n",
       "      <td>Leaves</td>\n",
       "      <td>Sprays water for fun</td>\n",
       "      <td>7</td>\n",
       "    </tr>\n",
       "  </tbody>\n",
       "</table>\n",
       "</div>"
      ],
      "text/plain": [
       "     Animal Favorite Food                      Quirk  Score of Cuteness\n",
       "1       Cat          Fish  Sleeps in the sun all day                  9\n",
       "2       Dog         Bones           Loves belly rubs                 10\n",
       "3  Elephant        Leaves       Sprays water for fun                  7"
      ]
     },
     "execution_count": 12,
     "metadata": {},
     "output_type": "execute_result"
    }
   ],
   "source": [
    "\n",
    "df_animals2 = pd.DataFrame(\n",
    "    data=[['Cat', 'Fish', 'Sleeps in the sun all day', 9], \n",
    "          ['Dog', 'Bones', 'Loves belly rubs', 10],\n",
    "          ['Elephant', 'Leaves', 'Sprays water for fun', 7]],\n",
    "    columns=['Animal', 'Favorite Food', 'Quirk', 'Score of Cuteness'],\n",
    "    index=[1, 2, 3], #Note: index values are labels.\n",
    ")\n",
    "\n",
    "df_animals2"
   ]
  },
  {
   "cell_type": "code",
   "execution_count": null,
   "id": "c3c05a42",
   "metadata": {},
   "outputs": [],
   "source": []
  },
  {
   "cell_type": "code",
   "execution_count": null,
   "id": "099b4c25-ad13-4521-868e-b83ea0174a8e",
   "metadata": {},
   "outputs": [],
   "source": []
  }
 ],
 "metadata": {
  "kernelspec": {
   "display_name": "Python [conda env:base] *",
   "language": "python",
   "name": "conda-base-py"
  },
  "language_info": {
   "codemirror_mode": {
    "name": "ipython",
    "version": 3
   },
   "file_extension": ".py",
   "mimetype": "text/x-python",
   "name": "python",
   "nbconvert_exporter": "python",
   "pygments_lexer": "ipython3",
   "version": "3.12.4"
  },
  "widgets": {
   "application/vnd.jupyter.widget-state+json": {
    "state": {},
    "version_major": 2,
    "version_minor": 0
   }
  }
 },
 "nbformat": 4,
 "nbformat_minor": 5
}
