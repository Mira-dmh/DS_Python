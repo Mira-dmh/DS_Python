{
 "cells": [
  {
   "cell_type": "markdown",
   "id": "8737191c-aaa2-4316-84e3-8ae693c14d66",
   "metadata": {},
   "source": [
    "### <span style=\"color:maroon\"> Lambda Function/Expression</span>\n"
   ]
  },
  {
   "cell_type": "code",
   "execution_count": 7,
   "id": "29f0704e-e912-4534-8aa7-8989f77c7173",
   "metadata": {},
   "outputs": [
    {
     "data": {
      "text/plain": [
       "6"
      ]
     },
     "execution_count": 7,
     "metadata": {},
     "output_type": "execute_result"
    }
   ],
   "source": [
    "#Example 1a: conventional way of defining a function\n",
    "def f1(x):\n",
    "    return 2 * x\n",
    "f1(3)"
   ]
  },
  {
   "cell_type": "code",
   "execution_count": 26,
   "id": "e04ab29e-3698-40ff-97a2-cbbed0610df6",
   "metadata": {},
   "outputs": [
    {
     "name": "stdout",
     "output_type": "stream",
     "text": [
      "6\n"
     ]
    }
   ],
   "source": [
    "#Example 1b: lambda way of defining a function\n",
    "print( (lambda x: 2 * x)(3) )\n"
   ]
  },
  {
   "cell_type": "code",
   "execution_count": null,
   "id": "712a820c",
   "metadata": {},
   "outputs": [
    {
     "data": {
      "text/plain": [
       "6"
      ]
     },
     "metadata": {},
     "output_type": "display_data"
    }
   ],
   "source": [
    "#Example 1c: lambda way of defining a function\n",
    "f1 = lambda x: 2 * x\n",
    "f1(3)"
   ]
  },
  {
   "cell_type": "markdown",
   "id": "0abaf97c",
   "metadata": {},
   "source": [
    "#### <span style=\"color:orangered\"> Practice 1</span>\n",
    "Write a lambda function to calculate the area of a rectangle \n",
    "based on a given length and width. \n",
    "Can you use the lambda function in the print() statement? \n"
   ]
  },
  {
   "cell_type": "code",
   "execution_count": 2,
   "id": "cfbd0620",
   "metadata": {},
   "outputs": [
    {
     "name": "stdout",
     "output_type": "stream",
     "text": [
      "15\n"
     ]
    }
   ],
   "source": [
    "# Lambda function to calculate the area of a rectangle\n",
    "print((lambda length, width: length * width)(5, 3))\n"
   ]
  },
  {
   "cell_type": "code",
   "execution_count": 20,
   "id": "a47cca9e-1c34-485b-9c25-569e43775cf4",
   "metadata": {},
   "outputs": [
    {
     "name": "stdout",
     "output_type": "stream",
     "text": [
      "Small Area\n"
     ]
    }
   ],
   "source": [
    "# Define the lambda function to calculate the area\n",
    "area = lambda length, width: length * width\n",
    "\n",
    "# Define the function to check the area\n",
    "def areaing(length, width):\n",
    "    calculated_area = area(length, width)  # Calculate the area by calling the lambda function\n",
    "    if calculated_area > 100:\n",
    "        print(\"Large Area\")\n",
    "    else:\n",
    "        print(\"Small Area\")\n",
    "\n",
    "# Call the function with length=3 and width=5\n",
    "areaing(3, 5)\n"
   ]
  },
  {
   "cell_type": "markdown",
   "id": "e372eaf2",
   "metadata": {},
   "source": [
    "### <span style=\"color:maroon\"> Use Conditions in a Lambda Expression</span>"
   ]
  },
  {
   "cell_type": "code",
   "execution_count": 8,
   "id": "fb43fbae-af0e-492e-a08c-050534f319da",
   "metadata": {},
   "outputs": [
    {
     "name": "stdout",
     "output_type": "stream",
     "text": [
      "Fail\n"
     ]
    }
   ],
   "source": [
    "#Example 2a: conventional way of defining a function\n",
    "def grading(grade):\n",
    "    if grade >= 60:\n",
    "        return 'Pass'\n",
    "    else:\n",
    "        return 'Fail'\n",
    "print(grading(59))"
   ]
  },
  {
   "cell_type": "code",
   "execution_count": 14,
   "id": "4adbf0d6-e631-4f09-96fa-9802e24a3017",
   "metadata": {},
   "outputs": [
    {
     "name": "stdout",
     "output_type": "stream",
     "text": [
      "Fail\n"
     ]
    }
   ],
   "source": [
    "#Example 2b: lambda way of defining a function\n",
    "\n",
    "f = lambda grade: 'Pass' if grade >= 60 else 'Fail' \n",
    "print(f(59))"
   ]
  },
  {
   "cell_type": "markdown",
   "id": "25a18466",
   "metadata": {},
   "source": [
    "### <span style=\"color:maroon\"> Use a Lambda function in list.sort()</span>\n",
    "- list.sort() is in-place sorting\n",
    "- By default, for a list of strings, list.sort() sort items lexicographically -- character by character comparison.\n",
    "- We can use lambda function to customize the sorting key."
   ]
  },
  {
   "cell_type": "code",
   "execution_count": 8,
   "id": "926b2cc7",
   "metadata": {},
   "outputs": [
    {
     "data": {
      "text/plain": [
       "[1, 2, 3, 4, 5]"
      ]
     },
     "execution_count": 8,
     "metadata": {},
     "output_type": "execute_result"
    }
   ],
   "source": [
    "numList = [5, 2, 3, 1, 4]\n",
    "numList.sort()\n",
    "numList"
   ]
  },
  {
   "cell_type": "code",
   "execution_count": 9,
   "id": "3c988e36",
   "metadata": {},
   "outputs": [
    {
     "data": {
      "text/plain": [
       "[5, 4, 3, 2, 1]"
      ]
     },
     "execution_count": 9,
     "metadata": {},
     "output_type": "execute_result"
    }
   ],
   "source": [
    "numList.sort(reverse=True)\n",
    "numList"
   ]
  },
  {
   "cell_type": "code",
   "execution_count": 5,
   "id": "3313e044",
   "metadata": {},
   "outputs": [
    {
     "name": "stdout",
     "output_type": "stream",
     "text": [
      "['id1', 'id100', 'id2', 'id22', 'id3', 'id30']\n"
     ]
    }
   ],
   "source": [
    "ids = ['id1', 'id2', 'id30', 'id3', 'id22', 'id100']\n",
    "ids.sort() #in-place sorting #default sorting is lexicographical -character by character comparison\n",
    "print(ids) "
   ]
  },
  {
   "cell_type": "code",
   "execution_count": 6,
   "id": "18c1cece",
   "metadata": {},
   "outputs": [
    {
     "name": "stdout",
     "output_type": "stream",
     "text": [
      "['id1', 'id2', 'id3', 'id22', 'id30', 'id100']\n"
     ]
    }
   ],
   "source": [
    "#sort by the integer value of the ID\n",
    "ids.sort(key = lambda x: int(x[2:])) #use the integer value of the ID part for sorting\n",
    "print(ids)"
   ]
  },
  {
   "cell_type": "markdown",
   "id": "c5a77060",
   "metadata": {},
   "source": [
    "#### <span style=\"color:orangered\"> Practice 2</span>\n",
    "What are the output of the following code snippets?"
   ]
  },
  {
   "cell_type": "code",
   "execution_count": 4,
   "id": "9aaca45f",
   "metadata": {},
   "outputs": [
    {
     "data": {
      "text/plain": [
       "['3131', '531', '143']"
      ]
     },
     "execution_count": 4,
     "metadata": {},
     "output_type": "execute_result"
    }
   ],
   "source": [
    "list = ['143', '531', '3131']\n",
    "list.sort(key = lambda x: x[1]) \n",
    "list"
   ]
  },
  {
   "cell_type": "code",
   "execution_count": 10,
   "id": "17d675b5",
   "metadata": {},
   "outputs": [
    {
     "data": {
      "text/plain": [
       "['143', '531', '3131']"
      ]
     },
     "execution_count": 10,
     "metadata": {},
     "output_type": "execute_result"
    }
   ],
   "source": [
    "list = ['143', '531', '3131']\n",
    "list.sort(key = lambda x: x[1], reverse=True) \n",
    "list"
   ]
  },
  {
   "cell_type": "markdown",
   "id": "1e62f916",
   "metadata": {},
   "source": [
    "### <span style=\"color:maroon\"> list.sort() vs. sorted()</span>\n"
   ]
  },
  {
   "cell_type": "code",
   "execution_count": 11,
   "id": "b4b916d6",
   "metadata": {},
   "outputs": [
    {
     "data": {
      "text/plain": [
       "[2, 3, 4]"
      ]
     },
     "execution_count": 11,
     "metadata": {},
     "output_type": "execute_result"
    }
   ],
   "source": [
    "myList = [4, 2, 3]\n",
    "myList.sort() #in-place sorting\n",
    "myList"
   ]
  },
  {
   "cell_type": "code",
   "execution_count": 12,
   "id": "fd1c1db5",
   "metadata": {},
   "outputs": [
    {
     "data": {
      "text/plain": [
       "[4, 2, 3]"
      ]
     },
     "execution_count": 12,
     "metadata": {},
     "output_type": "execute_result"
    }
   ],
   "source": [
    "myList = [4, 2, 3]\n",
    "sorted(myList) #not in-place sorting, returns a new list\n",
    "myList"
   ]
  },
  {
   "cell_type": "code",
   "execution_count": 13,
   "id": "84e2ad38",
   "metadata": {},
   "outputs": [
    {
     "data": {
      "text/plain": [
       "[2, 3, 4]"
      ]
     },
     "execution_count": 13,
     "metadata": {},
     "output_type": "execute_result"
    }
   ],
   "source": [
    "myList = [4, 2, 3]\n",
    "myList = sorted(myList) #not in-place sorting, returns a new list\n",
    "myList"
   ]
  },
  {
   "cell_type": "markdown",
   "id": "bf20b1f4",
   "metadata": {},
   "source": [
    "### <span style=\"color:maroon\"> Use a Lambda function in sorted()</span>\n"
   ]
  },
  {
   "cell_type": "code",
   "execution_count": 21,
   "id": "8f4290a4",
   "metadata": {},
   "outputs": [
    {
     "name": "stdout",
     "output_type": "stream",
     "text": [
      "None\n"
     ]
    },
    {
     "data": {
      "text/plain": [
       "['id1', 'id100', 'id2', 'id22', 'id3', 'id30']"
      ]
     },
     "execution_count": 21,
     "metadata": {},
     "output_type": "execute_result"
    }
   ],
   "source": [
    "ids = ['id1', 'id2', 'id30', 'id3', 'id22', 'id100']\n",
    "#use sorted() to sort the ids \n",
    "print(ids.sort())\n",
    "ids"
   ]
  },
  {
   "cell_type": "code",
   "execution_count": 23,
   "id": "b765bfe4",
   "metadata": {},
   "outputs": [
    {
     "name": "stdout",
     "output_type": "stream",
     "text": [
      "['id1', 'id2', 'id30', 'id3', 'id22', 'id100']\n",
      "['id1', 'id100', 'id2', 'id22', 'id3', 'id30']\n"
     ]
    }
   ],
   "source": [
    "ids = ['id1', 'id2', 'id30', 'id3', 'id22', 'id100']\n",
    "#use sorted() to sort the ids \n",
    "sorted(ids)\n",
    "print(ids)\n",
    "print(sorted(ids))"
   ]
  },
  {
   "cell_type": "code",
   "execution_count": 15,
   "id": "9c6d1755",
   "metadata": {},
   "outputs": [
    {
     "data": {
      "text/plain": [
       "['id1', 'id2', 'id3', 'id22', 'id30', 'id100']"
      ]
     },
     "execution_count": 15,
     "metadata": {},
     "output_type": "execute_result"
    }
   ],
   "source": [
    "ids = ['id1', 'id2', 'id30', 'id3', 'id22', 'id100']\n",
    "#use sorted() to sort the ids \n",
    "sorted(ids, key = lambda x: int(x[2:])) #use the integer value of the ID part for sorting"
   ]
  },
  {
   "cell_type": "code",
   "execution_count": null,
   "id": "f6b8e191",
   "metadata": {},
   "outputs": [],
   "source": []
  },
  {
   "cell_type": "markdown",
   "id": "203463c1",
   "metadata": {},
   "source": [
    "#### <span style=\"color:orangered\"> Practice 3 </span>\n",
    "- Sort the following dates by month. print the sorted list.\n",
    "\n",
    "<span style = \"font-size:12px\">\n",
    "dates = ['06-01-2023', '07-09-2020', '04-22-2019', '09-13-2020', '12-23-2022', '06-11-2023'] </span>\n",
    "\n",
    "- Sort and following dates by year. Do not change the original list and store the sorted results in a new list. print the new list."
   ]
  },
  {
   "cell_type": "code",
   "execution_count": 4,
   "id": "1845bc6f",
   "metadata": {
    "scrolled": true
   },
   "outputs": [
    {
     "data": {
      "text/plain": [
       "['06-01-2023',\n",
       " '07-09-2020',\n",
       " '04-22-2019',\n",
       " '09-13-2020',\n",
       " '12-23-2022',\n",
       " '06-11-2023']"
      ]
     },
     "execution_count": 4,
     "metadata": {},
     "output_type": "execute_result"
    }
   ],
   "source": [
    "dates = ['06-01-2023', '07-09-2020', '04-22-2019', '09-13-2020', '12-23-2022', '06-11-2023']\n",
    "dates"
   ]
  },
  {
   "cell_type": "code",
   "execution_count": 10,
   "id": "d8ebc837",
   "metadata": {},
   "outputs": [
    {
     "data": {
      "text/plain": [
       "['04-22-2019',\n",
       " '07-09-2020',\n",
       " '09-13-2020',\n",
       " '12-23-2022',\n",
       " '06-01-2023',\n",
       " '06-11-2023']"
      ]
     },
     "execution_count": 10,
     "metadata": {},
     "output_type": "execute_result"
    }
   ],
   "source": [
    "dates=sorted(dates,key=lambda strDate:strDate[6:])\n",
    "dates\n",
    "##dates.sort(key=lambda strDate:strDate[6:])\n",
    "##dates"
   ]
  },
  {
   "cell_type": "code",
   "execution_count": 12,
   "id": "2dce127c-3e94-481d-8529-411d10bd91a2",
   "metadata": {},
   "outputs": [
    {
     "data": {
      "text/plain": [
       "['04-22-2019',\n",
       " '07-09-2020',\n",
       " '09-13-2020',\n",
       " '12-23-2022',\n",
       " '06-01-2023',\n",
       " '06-11-2023']"
      ]
     },
     "execution_count": 12,
     "metadata": {},
     "output_type": "execute_result"
    }
   ],
   "source": [
    "dates.sort(key=lambda strDate:strDate[6:])\n",
    "dates"
   ]
  },
  {
   "cell_type": "code",
   "execution_count": 17,
   "id": "da575a16-f4a7-42bd-8721-468026cd37b7",
   "metadata": {},
   "outputs": [
    {
     "data": {
      "text/plain": [
       "'2019'"
      ]
     },
     "execution_count": 17,
     "metadata": {},
     "output_type": "execute_result"
    }
   ],
   "source": [
    "strDate='04-22-2019'\n",
    "strDate.split('-')[2]"
   ]
  },
  {
   "cell_type": "markdown",
   "id": "29c178a7",
   "metadata": {},
   "source": [
    "#### <span style=\"color:maroon\"> Example: Sorting a list of tuples </span>"
   ]
  },
  {
   "cell_type": "code",
   "execution_count": null,
   "id": "f2711f6a",
   "metadata": {},
   "outputs": [
    {
     "data": {
      "text/plain": [
       "[('Alex', 19, 3.9), ('Alice', 20, 3.1), ('Bob', 21, 3.6)]"
      ]
     },
     "metadata": {},
     "output_type": "display_data"
    }
   ],
   "source": [
    "studentList = [('Alice', 20, 3.1), ('Bob', 21, 3.6), ('Alex', 19, 3.9)]\n",
    "studentList.sort()#By default, sort by the first element of each tuple\n",
    "studentList"
   ]
  },
  {
   "cell_type": "code",
   "execution_count": null,
   "id": "2e6e0e84",
   "metadata": {},
   "outputs": [
    {
     "data": {
      "text/plain": [
       "[('Alice', 20, 3.1), ('Bob', 21, 3.6), ('Alex', 19, 3.9)]"
      ]
     },
     "metadata": {},
     "output_type": "display_data"
    }
   ],
   "source": [
    "studentList = [('Alice', 20, 3.1), ('Bob', 21, 3.6), ('Alex', 19, 3.9)]\n",
    "studentList.sort(key = lambda x: x[2]) #sort by x[2], the GPA. x is an element of the list\n",
    "studentList"
   ]
  },
  {
   "cell_type": "code",
   "execution_count": null,
   "id": "506770f3",
   "metadata": {},
   "outputs": [],
   "source": []
  }
 ],
 "metadata": {
  "kernelspec": {
   "display_name": "Python [conda env:base] *",
   "language": "python",
   "name": "conda-base-py"
  },
  "language_info": {
   "codemirror_mode": {
    "name": "ipython",
    "version": 3
   },
   "file_extension": ".py",
   "mimetype": "text/x-python",
   "name": "python",
   "nbconvert_exporter": "python",
   "pygments_lexer": "ipython3",
   "version": "3.12.4"
  },
  "widgets": {
   "application/vnd.jupyter.widget-state+json": {
    "state": {},
    "version_major": 2,
    "version_minor": 0
   }
  }
 },
 "nbformat": 4,
 "nbformat_minor": 5
}
