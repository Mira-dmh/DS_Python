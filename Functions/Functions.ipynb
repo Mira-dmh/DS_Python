{
 "cells": [
  {
   "cell_type": "markdown",
   "id": "00a39ff1",
   "metadata": {},
   "source": [
    "### <span style=\"color:maroon\"> Function Basics\n",
    "1. Function definition, header, parameter, body and return value\n",
    "2. Function call\n",
    "3. Function argument\n",
    "    - Default Argument, Positional Argument and Keyword Argument </span>"
   ]
  },
  {
   "cell_type": "code",
   "execution_count": 7,
   "id": "68b6590d",
   "metadata": {},
   "outputs": [
    {
     "name": "stdout",
     "output_type": "stream",
     "text": [
      "6\n"
     ]
    }
   ],
   "source": [
    "#A function with a return value\n",
    "def f1(x): #x is a place holder\n",
    "    return 2 * x\n",
    "print(f1(3))#3 is an argument"
   ]
  },
  {
   "cell_type": "code",
   "execution_count": 2,
   "id": "aca4a98a-c31b-414a-9196-e0a25ef91fa0",
   "metadata": {},
   "outputs": [
    {
     "name": "stdout",
     "output_type": "stream",
     "text": [
      "employeeName= B\n"
     ]
    }
   ],
   "source": [
    "def changeName():\n",
    "    employeeName='A'#local variable\n",
    "\n",
    "employeeName='B'#global variable\n",
    "changeName()\n",
    "print('employeeName=',employeeName)"
   ]
  },
  {
   "cell_type": "code",
   "execution_count": 8,
   "id": "4952dbd7-e98a-43ad-b074-6b84f4c2fb5f",
   "metadata": {},
   "outputs": [
    {
     "name": "stdout",
     "output_type": "stream",
     "text": [
      "employeeName = A\n"
     ]
    }
   ],
   "source": [
    "def changeName():\n",
    "    global employeeName  # 告诉 Python 使用全局作用域中的 employeeName\n",
    "    employeeName = 'A'  # 修改全局变量的值\n",
    "    \n",
    "\n",
    "employeeName = 'B'  # 定义全局变量\n",
    "changeName() #进入函数\n",
    "print('employeeName =', employeeName)"
   ]
  },
  {
   "cell_type": "code",
   "execution_count": 1,
   "id": "3e6bd157",
   "metadata": {},
   "outputs": [],
   "source": [
    "# Define function that prints full name\n",
    "def printName(first, last, lastnameFirst=False):\n",
    "    if lastnameFirst:\n",
    "        print(last + ', ' + first)\n",
    "    if not lastnameFirst:\n",
    "        print(first + ' ' + last)"
   ]
  },
  {
   "cell_type": "code",
   "execution_count": null,
   "id": "3fea7a12",
   "metadata": {},
   "outputs": [
    {
     "name": "stdout",
     "output_type": "stream",
     "text": [
      "Dana Patel\n"
     ]
    }
   ],
   "source": [
    "# Call with default value\n",
    "printName('Dana', 'Patel')"
   ]
  },
  {
   "cell_type": "code",
   "execution_count": 2,
   "id": "0d89a056",
   "metadata": {},
   "outputs": [
    {
     "name": "stdout",
     "output_type": "stream",
     "text": [
      "Patel, Dana\n"
     ]
    }
   ],
   "source": [
    "# Call with positional arguments, order matters.\n",
    "printName('Dana', 'Patel', True)"
   ]
  },
  {
   "cell_type": "code",
   "execution_count": null,
   "id": "cf25e62b-0f17-4a73-8432-3d0cd8568d4c",
   "metadata": {},
   "outputs": [
    {
     "name": "stdout",
     "output_type": "stream",
     "text": [
      "Patel, Dana\n"
     ]
    }
   ],
   "source": [
    "# Call with keyword arguments, order doesn't matter\n",
    "printName(first='Dana', last='Patel', lastnameFirst=True)"
   ]
  },
  {
   "cell_type": "code",
   "execution_count": 5,
   "id": "2fa7f449-1194-4f25-85ff-59e2f03b1d50",
   "metadata": {},
   "outputs": [
    {
     "name": "stdout",
     "output_type": "stream",
     "text": [
      "Patel, Dana\n"
     ]
    }
   ],
   "source": [
    "# Call with keyword arguments , order does not matter\n",
    "printName(last='Patel', first='Dana', lastnameFirst=True)"
   ]
  },
  {
   "cell_type": "code",
   "execution_count": 6,
   "id": "d5b8f571-359a-42df-8232-aef39edcf438",
   "metadata": {},
   "outputs": [
    {
     "name": "stdout",
     "output_type": "stream",
     "text": [
      "Patel, Dana\n"
     ]
    }
   ],
   "source": [
    "# Call with both keyword and positional arguments\n",
    "printName('Dana', 'Patel', lastnameFirst=True)"
   ]
  },
  {
   "cell_type": "markdown",
   "id": "e80a6e99-ded5-4bc5-9a75-cf5c3042f082",
   "metadata": {},
   "source": [
    "### <span style=\"color:orangered\"> Practice: </span>\n",
    "Create a method called *printName1()* that takes three parameters: \n",
    "first_name, last_name, and middle_initial and print the full name starting with the first name. If the middle initial is not provided, then don't show middle initial.\n",
    "\n",
    "<p>\n",
    "--------- Example function calls and return results:---------\n",
    "<p>\n",
    "\n",
    "- **positional arguments**\n",
    "\n",
    "printName('Taylor', 'Swift') ==> \"Taylor Swift\" <p>\n",
    "printName('Taylor', 'Swift', 'A') ==> \"Taylor A. Swift\" <p>\n",
    "\n",
    "- **keyword arguments**\n",
    "\n",
    "printName(last_name ='Swift', first_name = 'Taylor') ==> \"Taylor Swift\" <p>\n",
    "printName(last_name ='Swift', first_name = 'Taylor', middle_initial= 'A') ==> \"Taylor A. Swift\" <p>"
   ]
  },
  {
   "cell_type": "code",
   "execution_count": 72,
   "id": "b93cd20a",
   "metadata": {},
   "outputs": [
    {
     "name": "stdout",
     "output_type": "stream",
     "text": [
      "Taylor A Swift\n"
     ]
    }
   ],
   "source": [
    "def printName(first_name, last_name, middle_initial=False):\n",
    "    #print(middle_initial == True)\n",
    "    if middle_initial:  \n",
    "            print(first_name,middle_initial,last_name)\n",
    "    else:\n",
    "        print(first_name,last_name)\n",
    "#printName(last_name ='Swift', first_name = 'Taylor')\n",
    "printName(last_name ='Swift', first_name = 'Taylor', middle_initial ='A')"
   ]
  },
  {
   "cell_type": "markdown",
   "id": "96aab5ff",
   "metadata": {},
   "source": [
    "#### <span style=\"color:orangered\"> More practice: Participation activity: 2.3.5 </span>\n",
    "collaborate with a peer"
   ]
  },
  {
   "cell_type": "markdown",
   "id": "7373ebec",
   "metadata": {},
   "source": [
    "#### <span style=\"color:orangered\"> More practice: Part 1 ~ 3 of Challenge activity: 2.3.1 </span>"
   ]
  },
  {
   "cell_type": "markdown",
   "id": "8737191c-aaa2-4316-84e3-8ae693c14d66",
   "metadata": {},
   "source": [
    "### <span style=\"color:maroon\"> Lambda Expression</span>\n"
   ]
  },
  {
   "cell_type": "code",
   "execution_count": 7,
   "id": "29f0704e-e912-4534-8aa7-8989f77c7173",
   "metadata": {},
   "outputs": [
    {
     "data": {
      "text/plain": [
       "6"
      ]
     },
     "execution_count": 7,
     "metadata": {},
     "output_type": "execute_result"
    }
   ],
   "source": [
    "#Example 1a: conventional way of defining a function\n",
    "def f1(x):\n",
    "    return 2 * x\n",
    "f1(3)"
   ]
  },
  {
   "cell_type": "code",
   "execution_count": 8,
   "id": "e04ab29e-3698-40ff-97a2-cbbed0610df6",
   "metadata": {},
   "outputs": [
    {
     "data": {
      "text/plain": [
       "6"
      ]
     },
     "execution_count": 8,
     "metadata": {},
     "output_type": "execute_result"
    }
   ],
   "source": [
    "#Example 1b: lambda way of defining a function\n",
    "f1 = lambda x: 2 * x\n",
    "f1(3)"
   ]
  },
  {
   "cell_type": "markdown",
   "id": "0abaf97c",
   "metadata": {},
   "source": [
    "#### <span style=\"color:orangered\"> Practice </span>\n",
    "Write a lambda function to calculate the area of a rectangle \n",
    "based on a given length and width. \n",
    "Can you use the lambda function in the print() statement? \n"
   ]
  },
  {
   "cell_type": "code",
   "execution_count": null,
   "id": "cfbd0620",
   "metadata": {},
   "outputs": [],
   "source": []
  },
  {
   "cell_type": "code",
   "execution_count": 8,
   "id": "fb43fbae-af0e-492e-a08c-050534f319da",
   "metadata": {},
   "outputs": [
    {
     "name": "stdout",
     "output_type": "stream",
     "text": [
      "Fail\n"
     ]
    }
   ],
   "source": [
    "#Example 2a: conventional way of defining a function\n",
    "def grading(grade):\n",
    "    if grade >= 60:\n",
    "        return 'Pass'\n",
    "    else:\n",
    "        return 'Fail'\n",
    "print(grading(59))"
   ]
  },
  {
   "cell_type": "code",
   "execution_count": 14,
   "id": "4adbf0d6-e631-4f09-96fa-9802e24a3017",
   "metadata": {},
   "outputs": [
    {
     "name": "stdout",
     "output_type": "stream",
     "text": [
      "Fail\n"
     ]
    }
   ],
   "source": [
    "#Example 2b: lambda way of defining a function\n",
    "\n",
    "f = lambda grade: 'Pass' if grade >= 60 else 'Fail' \n",
    "print(f(59))"
   ]
  }
 ],
 "metadata": {
  "kernelspec": {
   "display_name": "Python [conda env:base] *",
   "language": "python",
   "name": "conda-base-py"
  },
  "language_info": {
   "codemirror_mode": {
    "name": "ipython",
    "version": 3
   },
   "file_extension": ".py",
   "mimetype": "text/x-python",
   "name": "python",
   "nbconvert_exporter": "python",
   "pygments_lexer": "ipython3",
   "version": "3.12.4"
  },
  "widgets": {
   "application/vnd.jupyter.widget-state+json": {
    "state": {},
    "version_major": 2,
    "version_minor": 0
   }
  }
 },
 "nbformat": 4,
 "nbformat_minor": 5
}
