{
 "cells": [
  {
   "cell_type": "markdown",
   "metadata": {},
   "source": [
    "## <font color = crimson > Compare the speed of a numpy array and a Python list"
   ]
  },
  {
   "cell_type": "code",
   "execution_count": 3,
   "metadata": {},
   "outputs": [],
   "source": [
    "import numpy as np"
   ]
  },
  {
   "cell_type": "code",
   "execution_count": 4,
   "metadata": {},
   "outputs": [
    {
     "data": {
      "text/plain": [
       "array([ 1,  4,  9, 16])"
      ]
     },
     "execution_count": 4,
     "metadata": {},
     "output_type": "execute_result"
    }
   ],
   "source": [
    "arr = np.array ([1, 2, 3, 4])\n",
    "arr = arr ** 2\n",
    "arr"
   ]
  },
  {
   "cell_type": "code",
   "execution_count": 30,
   "metadata": {},
   "outputs": [
    {
     "name": "stdout",
     "output_type": "stream",
     "text": [
      "numpy version: 1.26.4\n",
      "First 5 elements of my_arr:\t [0 1 2 3 4]\n",
      "First 5 elements of my_arr * 2:\t [0 2 4 6 8]\n",
      "First 5 elements of my_list [0, 1, 2, 3, 4]\n"
     ]
    }
   ],
   "source": [
    "#Generate a numpy array of 1,000,000 integers \n",
    "import numpy as np\n",
    "print('numpy version:', np.version.version)\n",
    "\n",
    "my_arr = np.arange(1000000)\n",
    "print('First 5 elements of my_arr:\\t', my_arr[:5])\n",
    "print('First 5 elements of my_arr * 2:\\t', my_arr[:5] * 2)\n",
    "\n",
    "#Generate a list of 1,000,000 integers \n",
    "my_list = list(range(1000000))\n",
    "print('First 5 elements of my_list',my_list[:5])"
   ]
  },
  {
   "cell_type": "code",
   "execution_count": 6,
   "metadata": {},
   "outputs": [],
   "source": [
    "def double_nparray(arr):\n",
    "    for i in range(10): \n",
    "        arr2 = arr * 2\n",
    "        \n",
    "def double_list1(list):\n",
    "    for i in range(10): \n",
    "        list2 = [x * 2 for x in list] #list comprehension\n",
    "\n",
    "def double_list2(list):\n",
    "    for i in range(10):\n",
    "        for i in range(len(list)):  #for loop\n",
    "            list[i] = list[i] * 2\n",
    "        "
   ]
  },
  {
   "cell_type": "markdown",
   "metadata": {},
   "source": [
    "## <font color = crimson> Magic Commands </font>\n",
    "<b>Magic commands </b>  are prefixed with the **%** character or **%%**, and they provide a concise way to handle common tasks in standard data analysis.\n",
    "For example, \n",
    "- <b>%run</b> -- run a .py file.\n",
    "- <b>%time</b> -- time the execution of a single statement.\n",
    "- <b>%%time</b> -- time the execution of multiple lines of statement\n",
    "\n",
    "#### <span style = \"color:maroon\"> Line Magics: </span>\n",
    "Line magics are special IPython commands that apply to a single line of code. These commands are prefixed with the <b>%</b> character.\n",
    "\n",
    "In the following cell, we use <b>%time</b> to compare the speed for numpy arrays and python lists."
   ]
  },
  {
   "cell_type": "code",
   "execution_count": 8,
   "metadata": {},
   "outputs": [
    {
     "name": "stdout",
     "output_type": "stream",
     "text": [
      "CPU times: user 7.36 ms, sys: 10.7 ms, total: 18 ms\n",
      "Wall time: 29.6 ms\n",
      "CPU times: user 218 ms, sys: 54.9 ms, total: 273 ms\n",
      "Wall time: 279 ms\n",
      "CPU times: user 368 ms, sys: 522 μs, total: 369 ms\n",
      "Wall time: 369 ms\n"
     ]
    }
   ],
   "source": [
    "%time double_nparray(my_arr)\n",
    "%time double_list1(my_list)\n",
    "%time double_list2(my_list)\n",
    "\n",
    "#%time for i in range(10): my_arr2 = my_arr * 2\n",
    "#%time for i in range(10): my_list2 = [x * 2 for x in my_list]"
   ]
  },
  {
   "cell_type": "code",
   "execution_count": 9,
   "metadata": {},
   "outputs": [
    {
     "name": "stdout",
     "output_type": "stream",
     "text": [
      "CPU times: user 520 μs, sys: 248 μs, total: 768 μs\n",
      "Wall time: 516 μs\n",
      "CPU times: user 21 ms, sys: 125 μs, total: 21.1 ms\n",
      "Wall time: 21.1 ms\n"
     ]
    }
   ],
   "source": [
    "def sumList(list):  # return the summation of all elements in the list.\n",
    "    s = 0\n",
    "    for item in list:\n",
    "        s += item\n",
    "        \n",
    "%time my_arr.sum()\n",
    "%time sumList(my_list)"
   ]
  },
  {
   "cell_type": "markdown",
   "metadata": {},
   "source": [
    "#### <span style = \"color:maroon\"> Cell Magics: </span>\n",
    "\n",
    "Cell magics are special IPython commands that apply to an entire **code cell**.  These commands are prefixed with two percent characters (%%)."
   ]
  },
  {
   "cell_type": "code",
   "execution_count": 11,
   "metadata": {},
   "outputs": [
    {
     "name": "stdout",
     "output_type": "stream",
     "text": [
      "CPU times: user 5.99 ms, sys: 7.94 ms, total: 13.9 ms\n",
      "Wall time: 13.2 ms\n"
     ]
    }
   ],
   "source": [
    "%%time\n",
    "def double_nparray(arr):\n",
    "    for i in range(10): \n",
    "        arr2 = arr * 2\n",
    "        \n",
    "double_nparray(my_arr)        \n",
    " \n"
   ]
  },
  {
   "cell_type": "code",
   "execution_count": 12,
   "metadata": {},
   "outputs": [
    {
     "name": "stdout",
     "output_type": "stream",
     "text": [
      "CPU times: user 217 ms, sys: 53.8 ms, total: 270 ms\n",
      "Wall time: 279 ms\n"
     ]
    }
   ],
   "source": [
    "%%time\n",
    "def double_list1(list):\n",
    "    for i in range(10): \n",
    "        list2 = [x * 2 for x in list]\n",
    "        \n",
    "double_list1(my_list)    "
   ]
  },
  {
   "cell_type": "markdown",
   "metadata": {},
   "source": [
    "## <font color = crimson > A few other cell magic commands  </font>\n"
   ]
  },
  {
   "cell_type": "code",
   "execution_count": 14,
   "metadata": {},
   "outputs": [
    {
     "name": "stdout",
     "output_type": "stream",
     "text": [
      "3.12.4 | packaged by Anaconda, Inc. | (main, Jun 18 2024, 10:07:17) [Clang 14.0.6 ]\n"
     ]
    }
   ],
   "source": [
    "%%script python\n",
    "import sys\n",
    "print (sys.version)"
   ]
  },
  {
   "cell_type": "code",
   "execution_count": 15,
   "metadata": {},
   "outputs": [
    {
     "name": "stdout",
     "output_type": "stream",
     "text": [
      "Writing foo.py\n"
     ]
    }
   ],
   "source": [
    "%%writefile foo.py\n",
    "print(\"Hello\")\n",
    "print(\"magic!\")"
   ]
  },
  {
   "cell_type": "code",
   "execution_count": 16,
   "metadata": {},
   "outputs": [
    {
     "name": "stdout",
     "output_type": "stream",
     "text": [
      "Hello\n",
      "magic!\n"
     ]
    }
   ],
   "source": [
    "%run foo.py"
   ]
  }
 ],
 "metadata": {
  "kernelspec": {
   "display_name": "Python [conda env:base] *",
   "language": "python",
   "name": "conda-base-py"
  },
  "language_info": {
   "codemirror_mode": {
    "name": "ipython",
    "version": 3
   },
   "file_extension": ".py",
   "mimetype": "text/x-python",
   "name": "python",
   "nbconvert_exporter": "python",
   "pygments_lexer": "ipython3",
   "version": "3.12.4"
  }
 },
 "nbformat": 4,
 "nbformat_minor": 4
}
