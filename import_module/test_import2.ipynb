{
 "cells": [
  {
   "cell_type": "code",
   "execution_count": 1,
   "id": "5120543b-7f75-4949-8919-5886d9fcda31",
   "metadata": {},
   "outputs": [
    {
     "data": {
      "text/plain": [
       "4.0"
      ]
     },
     "execution_count": 1,
     "metadata": {},
     "output_type": "execute_result"
    }
   ],
   "source": [
    "import math\n",
    "math.sqrt(16)"
   ]
  },
  {
   "cell_type": "code",
   "execution_count": 3,
   "id": "b5a33148-2a37-458f-8067-6fcb2f856793",
   "metadata": {},
   "outputs": [
    {
     "data": {
      "text/plain": [
       "314.1592653589793"
      ]
     },
     "execution_count": 3,
     "metadata": {},
     "output_type": "execute_result"
    }
   ],
   "source": [
    "radius=10\n",
    "area=math.pi*radius*radius\n",
    "area"
   ]
  },
  {
   "cell_type": "code",
   "execution_count": 10,
   "id": "09414fcf-cf80-451a-bc03-9c32eff7f76d",
   "metadata": {},
   "outputs": [
    {
     "name": "stdout",
     "output_type": "stream",
     "text": [
      "3.14159\n",
      "12\n"
     ]
    }
   ],
   "source": [
    "import some_module\n",
    "print(some_module.PI)\n",
    "print(some_module.f(10))"
   ]
  },
  {
   "cell_type": "code",
   "execution_count": 15,
   "id": "9e26aca4-04f6-42ca-9053-acafd03b4c2d",
   "metadata": {},
   "outputs": [
    {
     "name": "stdout",
     "output_type": "stream",
     "text": [
      "3.14159\n"
     ]
    }
   ],
   "source": [
    "import some_module as sm\n",
    "print(sm.PI)"
   ]
  },
  {
   "cell_type": "code",
   "execution_count": 29,
   "id": "4fd73fc5-fd5a-4c63-8a18-9d24610fc10d",
   "metadata": {},
   "outputs": [
    {
     "data": {
      "text/plain": [
       "1.2599210498948732"
      ]
     },
     "execution_count": 29,
     "metadata": {},
     "output_type": "execute_result"
    }
   ],
   "source": [
    "math.cbrt(2)\n",
    "#cube root"
   ]
  },
  {
   "cell_type": "code",
   "execution_count": 31,
   "id": "27bbaae6-3c18-4176-a439-6a1042d53de0",
   "metadata": {},
   "outputs": [
    {
     "data": {
      "text/plain": [
       "2.0"
      ]
     },
     "execution_count": 31,
     "metadata": {},
     "output_type": "execute_result"
    }
   ],
   "source": [
    "math.exp2(1)"
   ]
  },
  {
   "cell_type": "code",
   "execution_count": null,
   "id": "84951141-a990-4ee8-a1f8-d7fd45e00e70",
   "metadata": {},
   "outputs": [],
   "source": []
  }
 ],
 "metadata": {
  "kernelspec": {
   "display_name": "Python [conda env:base] *",
   "language": "python",
   "name": "conda-base-py"
  },
  "language_info": {
   "codemirror_mode": {
    "name": "ipython",
    "version": 3
   },
   "file_extension": ".py",
   "mimetype": "text/x-python",
   "name": "python",
   "nbconvert_exporter": "python",
   "pygments_lexer": "ipython3",
   "version": "3.12.4"
  }
 },
 "nbformat": 4,
 "nbformat_minor": 5
}
