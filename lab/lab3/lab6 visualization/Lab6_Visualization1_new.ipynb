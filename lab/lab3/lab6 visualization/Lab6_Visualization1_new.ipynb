{
 "cells": [
  {
   "cell_type": "markdown",
   "metadata": {},
   "source": [
    "<font style=\"font-family: Arial; font-size:2.25em;color:brown; font-style:bold\">\n",
    "Lab 6 -- Visualization </font> <font style=\"font-family: Arial; font-size:1.5em;font-style:bold\">(15 pts) </font>\n",
    "    \n"
   ]
  },
  {
   "cell_type": "markdown",
   "metadata": {},
   "source": [
    " **1.\t(2 pt) Read the `titanic.csv` file into a dataframe and show first three rows. Display names of all index and column names.** "
   ]
  },
  {
   "cell_type": "markdown",
   "metadata": {},
   "source": [
    "**2.\t(1 pt) Determine and display the number of rows where the `'Age'` column contains a null value (`NaN`).** \n",
    "\n",
    "Hints: create a filter using `pandas.DataFrame.isnull()`, `pandas.DataFrame.isna()`,`pandas.Series.isnull()`, or `pandas.Series.isna()`"
   ]
  },
  {
   "cell_type": "markdown",
   "metadata": {},
   "source": [
    "**3.\t(1 pt)Drop all rows containing null values in the `'Age'` column and save the result dataframe to a new one called <span style=\"color:red\"> *df_validAges*.** </span>\n",
    "\n",
    "Hints: Consider using `pandas.DataFrame.dropna()`. You can also use a filter to do so."
   ]
  },
  {
   "attachments": {
    "image-2.png": {
     "image/png": "[encoded data removed]"
    },
    "image.png": {
     "image/png": "[encoded data removed]"
    }
   },
   "cell_type": "markdown",
   "metadata": {},
   "source": [
    "**4. <span style=\"color:red\"> GroupBy </span> operations(2 pt)**\n",
    "\n",
    "- Use `pandas.DataFrame.groupby()` to create a new dataframe that contains the <font color = red> mean value of the </font> <font color = blue>*Pclass* </font> column and <font color = blue>*Age*</font> column for the survivors as well and non-survivors. See below. <br> \n",
    "![image.png](attachment:image.png)\n",
    "- Use `pandas.DataFrame.rename()` to change the column names of the new dataframe from `'Pclass'` to `'mean_Pclass'` and `'Age'` to `'mean_Age'`. See below. <br>\n",
    "![image-2.png](attachment:image-2.png)\n",
    "\n",
    "\n",
    "https://pandas.pydata.org/docs/reference/api/pandas.DataFrame.groupby.html\n",
    "https://pandas.pydata.org/docs/reference/api/pandas.DataFrame.rename.html"
   ]
  },
  {
   "cell_type": "markdown",
   "metadata": {},
   "source": [
    "**5. (1 pt) Use `pandas.DataFrame.all()` to check if all ages in the new data frame <span style=\"color:red\"> *df_validAges*</span> are between 0 and 120.**\n",
    "\n",
    "Hints: Consider using a filter."
   ]
  },
  {
   "cell_type": "markdown",
   "metadata": {},
   "source": [
    "**6. (1 pt)Save all the unique values in the `'Cabin'` column of <span style=\"color:red\"> *df_validAges*</span> to a list and show the list.**"
   ]
  },
  {
   "cell_type": "markdown",
   "metadata": {},
   "source": [
    "**7. (2 pt) Plot the histogram of the <span style=\"color:red\"> *df_validAges*</span> dataframe.**\n",
    "- Set the bin size to be 8, \n",
    "- use colors of your choice for the bars and edge of the bars, \n",
    "- Use return values of the `matplotpy.plot.hist()` function to find out the exact number of passengers in each bin. \n",
    "- Add a title, x-label, y-label for the graph. The grid is optional.<br>\n",
    "https://matplotlib.org/stable/api/_as_gen/matplotlib.pyplot.hist.html\n",
    "\n",
    "<img src = \"Lab6_Data/histAges.png\" width = 300>"
   ]
  },
  {
   "cell_type": "markdown",
   "metadata": {},
   "source": [
    "**8. (3 pts) Apply an operation to a column.**\n",
    "\n",
    "**8.1 The following example code illustrates applying a function into a column.** "
   ]
  },
  {
   "cell_type": "markdown",
   "metadata": {},
   "source": [
    "#### <span style=\"color:red\"> Note: the following code segment was missing and has been added. </span>"
   ]
  },
  {
   "cell_type": "code",
   "execution_count": null,
   "metadata": {
    "vscode": {
     "languageId": "plaintext"
    }
   },
   "outputs": [],
   "source": [
    "#Example code showing applying a function into a column.\n",
    "\n",
    "import numpy as np\n",
    "\n",
    "def GenderAbbrev(sex):\n",
    "    if sex == 'female':\n",
    "        #print(int(age))\n",
    "        return 'F'\n",
    "    else:\n",
    "        return 'M'\n",
    "  \n",
    "#create a new column 'GenderAbb' representing gender abbreviations\n",
    "titanicDF['GenderAbb'] = titanicDF['Sex'].apply(GenderAbbrev )\n",
    "titanicDF.head()\n"
   ]
  },
  {
   "cell_type": "markdown",
   "metadata": {},
   "source": [
    "**8.2 Complete the following tasks:**\n",
    "\n",
    "1. Define a function that returns a string based on the parameter `age`. Specifically, \n",
    "- return 'Seniors' if age is 50 or higher <br>\n",
    "- eturn 'Children' if age is lower than 18 <br>\n",
    "- return 'Adults' if age is between 18 and 49, inclusive on both ends.\n",
    "\n",
    "2.Use the `Pandas.Series.apply()` function to apply the above function to the column `'Age'` of dataframe <span style='color:red'>**df_validAges**</span>, which you created in Problem 3 above. \n",
    "\n",
    "3. Save the results in a new column named `'AgeGroup'`. <br>\n",
    "Make sure to double check that `df_validAges` has no null values for the `'age'` column before this operation."
   ]
  },
  {
   "cell_type": "markdown",
   "metadata": {},
   "source": [
    "**9. (1 pt) Show a summary of descriptive statistics data for the `Age` and `Fare` columns using the `pandas.DataFrame.describe()` function. Keep two digits after the decimal point.** "
   ]
  },
  {
   "cell_type": "markdown",
   "metadata": {},
   "source": [
    "**10. (1 pt) Create a boxplot for columns `Age` and `Fare`. Add a title and y-label for the graph. For better visualization results, set the upper limit of y-axis to be 100.** "
   ]
  }
 ],
 "metadata": {
  "kernelspec": {
   "display_name": "Python [conda env:base] *",
   "language": "python",
   "name": "conda-base-py"
  },
  "language_info": {
   "codemirror_mode": {
    "name": "ipython",
    "version": 3
   },
   "file_extension": ".py",
   "mimetype": "text/x-python",
   "name": "python",
   "nbconvert_exporter": "python",
   "pygments_lexer": "ipython3",
   "version": "3.12.4"
  }
 },
 "nbformat": 4,
 "nbformat_minor": 4
}
