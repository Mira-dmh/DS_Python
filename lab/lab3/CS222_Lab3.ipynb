{
 "cells": [
  {
   "cell_type": "markdown",
   "id": "a3c39d65",
   "metadata": {},
   "source": [
    "##  <img src = \"wand.jpg\" alt = \"Magic Wand\" width = 100> <span style = \"color: darkred\">Lab 3 -- Python Dictionaries and f-string printing </span>\n",
    "\n",
    "In this lab, you will embark on a **magical adventure** to practice working with dictionaries. You'll work with a dictionary about a wizard and his magical items."
   ]
  },
  {
   "cell_type": "markdown",
   "id": "e7a6b479",
   "metadata": {},
   "source": [
    "### 🧙‍♂️ Problem 1: Creating a Wizard Dictionary\n",
    "You're a wizard collecting magical items! **Use two of the four methods mentioned in `Chap2_Python4DS_5A.pdf`** to create a dictionary called `wizard_bag` with the following magical items:\n",
    "- `'wand'` → `'Elder Wand'`\n",
    "- `'potion'` → `'Invisibility Potion'`\n",
    "- `'spell_book'` → `'Book of Ancient Spells'`\n",
    "\n",
    "Print the dictionary to see your magical inventory!"
   ]
  },
  {
   "cell_type": "code",
   "execution_count": 6,
   "id": "16cd7f90",
   "metadata": {},
   "outputs": [
    {
     "data": {
      "text/plain": [
       "{'wand': 'Elder Wand',\n",
       " 'potion': 'Invisibility Potion',\n",
       " 'spell_book': 'Book of Ancient Spells'}"
      ]
     },
     "execution_count": 6,
     "metadata": {},
     "output_type": "execute_result"
    }
   ],
   "source": [
    "wizard_bag={'wand':'Elder Wand','potion':'Invisibility Potion','spell_book':'Book of Ancient Spells'}\n",
    "wizard_bag"
   ]
  },
  {
   "cell_type": "code",
   "execution_count": 7,
   "id": "32e895c9-f91d-4016-85a9-106eacf7af86",
   "metadata": {},
   "outputs": [
    {
     "data": {
      "text/plain": [
       "{'wand': 'Elder Wand',\n",
       " 'potion': 'Invisibility Potion',\n",
       " 'spell_book': 'Book of Ancient Spells'}"
      ]
     },
     "execution_count": 7,
     "metadata": {},
     "output_type": "execute_result"
    }
   ],
   "source": [
    "wizard_bag={}\n",
    "wizard_bag['wand']='Elder Wand'\n",
    "wizard_bag['potion']='Invisibility Potion'\n",
    "wizard_bag['spell_book']='Book of Ancient Spells'\n",
    "wizard_bag"
   ]
  },
  {
   "cell_type": "markdown",
   "id": "e9a3c251",
   "metadata": {},
   "source": [
    "### 🏰 Problem 2: Counting Your Magical Items\n",
    "How many magical items do you have in your bag? Print the number of items in `wizard_bag`."
   ]
  },
  {
   "cell_type": "code",
   "execution_count": 9,
   "id": "401ade58",
   "metadata": {},
   "outputs": [
    {
     "name": "stdout",
     "output_type": "stream",
     "text": [
      "3\n"
     ]
    }
   ],
   "source": [
    " print(len(wizard_bag))"
   ]
  },
  {
   "cell_type": "markdown",
   "id": "a7dfc419",
   "metadata": {},
   "source": [
    "### 🔍 Problem 3: Checking for a Special Item (`in` Operator)\n",
    "A wise old wizard asks if you have a `'crystal_ball'` in your bag. Check if `'crystal_ball'` exists in `wizard_bag`.\n",
    "- If yes, print `'Yes! The future is in your hands!'`.\n",
    "- If not, add a new entry to the dictionary with `'crystal_ball'` as the key and any values of your choice.\n",
    "- Show the updated `wizard_bag` dictionary"
   ]
  },
  {
   "cell_type": "code",
   "execution_count": 11,
   "id": "3eed3411",
   "metadata": {},
   "outputs": [
    {
     "name": "stdout",
     "output_type": "stream",
     "text": [
      "The crystal_ball has been added to wizard_bag.\n",
      "The updated wizard_bag dictionary is {'wand': 'Elder Wand', 'potion': 'Invisibility Potion', 'spell_book': 'Book of Ancient Spells', 'crystal_ball': 'haha'}\n"
     ]
    }
   ],
   "source": [
    "if 'crystal_ball' in wizard_bag:\n",
    "    print('Yes! The future is in your hands!')\n",
    "else:\n",
    "    wizard_bag['crystal_ball']='haha'\n",
    "    print('The crystal_ball has been added to wizard_bag.')\n",
    "print(\"The updated wizard_bag dictionary is\",wizard_bag)"
   ]
  },
  {
   "cell_type": "code",
   "execution_count": 12,
   "id": "abe3318c-001b-4cf6-9c16-d30888748e24",
   "metadata": {},
   "outputs": [
    {
     "ename": "KeyError",
     "evalue": "'crystal_ball2'",
     "output_type": "error",
     "traceback": [
      "\u001b[0;31m---------------------------------------------------------------------------\u001b[0m",
      "\u001b[0;31mKeyError\u001b[0m                                  Traceback (most recent call last)",
      "Cell \u001b[0;32mIn[12], line 1\u001b[0m\n\u001b[0;32m----> 1\u001b[0m \u001b[38;5;28;01mdel\u001b[39;00m(wizard_bag[\u001b[38;5;124m'\u001b[39m\u001b[38;5;124mcrystal_ball2\u001b[39m\u001b[38;5;124m'\u001b[39m])\n",
      "\u001b[0;31mKeyError\u001b[0m: 'crystal_ball2'"
     ]
    }
   ],
   "source": [
    "del(wizard_bag['crystal_ball2'])"
   ]
  },
  {
   "cell_type": "code",
   "execution_count": null,
   "id": "c6e33315-a06f-45dc-8fdb-01ddc4f1d29d",
   "metadata": {},
   "outputs": [],
   "source": [
    "print(\"the updated wizard_bag dictionary is\",wizard_bag)"
   ]
  },
  {
   "cell_type": "markdown",
   "id": "22843fc2",
   "metadata": {},
   "source": [
    "### 📖 Problem 4: Using Your Spell Book\n",
    "- You need to cast a powerful spell. Use **two ways mentioned in `Chap2_Python4DS_5A.pdf`** , i.e., `d[key]` and `dict.get(key)`, to retrieve the value of `'spell_book'` from `wizard_bag`.\n",
    "- Replace 'spell_book' with a non-existing key and try these two ways of getting values. What would happen?"
   ]
  },
  {
   "cell_type": "code",
   "execution_count": null,
   "id": "ac69a7e9",
   "metadata": {},
   "outputs": [],
   "source": [
    "del(wizard_bag['spell_book'])\n",
    "print(\"the first updated wizard_bag dictionary is\",wizard_bag)\n",
    "wizard_bag['spell_book']='New Book of Ancient Spells'\n",
    "wizard_bag['spell_book']\n",
    "print(\"the second updated wizard_bag dictionary is\",wizard_bag)"
   ]
  },
  {
   "cell_type": "code",
   "execution_count": null,
   "id": "dacb180e-8aa0-4cfd-a766-7a86337d2be2",
   "metadata": {},
   "outputs": [],
   "source": [
    "wizard_bag.get('spell_book')\n",
    "print(\"the first updated wizard_bag dictionary is\",wizard_bag)\n",
    "wizard_bag['spell_book']='Esay Book of Ancient Spells'\n",
    "wizard_bag['spell_book']\n",
    "print(\"the second updated wizard_bag dictionary is\",wizard_bag)"
   ]
  },
  {
   "cell_type": "markdown",
   "id": "c098922a",
   "metadata": {},
   "source": [
    "### 🏆 Problem 5: Listing All Your Magical Items\n",
    "Write a loop to list all item names (**keys**) in your wizard bag."
   ]
  },
  {
   "cell_type": "code",
   "execution_count": null,
   "id": "c2cee971",
   "metadata": {},
   "outputs": [],
   "source": [
    "for k in wizard_bag.keys():\n",
    "    print(k)"
   ]
  },
  {
   "cell_type": "markdown",
   "id": "70949a9a",
   "metadata": {},
   "source": [
    "### ✨ Problem 6: Displaying the Powers of Your Items\n",
    "Write a loop to print all item descriptions (**values**) in your wizard bag."
   ]
  },
  {
   "cell_type": "code",
   "execution_count": null,
   "id": "5999a799",
   "metadata": {},
   "outputs": [],
   "source": [
    "for v in wizard_bag.values():\n",
    "    print(v)"
   ]
  },
  {
   "cell_type": "markdown",
   "id": "66e64fa5",
   "metadata": {},
   "source": [
    "### 🎭 Problem 7: Showing Your Entire Magical Inventory\n",
    "- Write a loop to print each magical item and its description in the format:\n",
    "`<sequence number> item -> description`. For example,\n",
    "\n",
    "    1. wand -> Elder Wand\n",
    "    2. potion -> Invisibility Potion\n",
    "    3. ...\n",
    "       \n",
    "    <br>\n",
    "- Use **f-string** in your print statement. "
   ]
  },
  {
   "cell_type": "code",
   "execution_count": null,
   "id": "da95c8d9-558e-4ebf-992d-1da12455e066",
   "metadata": {},
   "outputs": [],
   "source": [
    "for (k, v) in wizard_bag.items():\n",
    "    print(f' {k} --> {v}')"
   ]
  },
  {
   "cell_type": "markdown",
   "id": "64a84e17-98ef-4fb8-bad4-95e2bb3720fc",
   "metadata": {},
   "source": [
    "###  ✨ Problem 8: Sorting a Dictionary</span> <br>"
   ]
  },
  {
   "cell_type": "markdown",
   "id": "e95f9d71-47c0-41bf-b473-a19ac825f905",
   "metadata": {},
   "source": [
    "Given the following dictionary of city temperatures `dTemperature`, sort the dictionary by State name, and save the results in a new dictionary. <br>\n",
    "Hints: <br>\n",
    "- To get the state name, consider using the str.split() method, or simply use the slicing operator \":\"\n",
    "- a link for str.split(): https://www.w3schools.com/python/ref_string_split.asp#:~:text=The%20split()%20method%20splits,number%20of%20elements%20plus%20one."
   ]
  },
  {
   "cell_type": "code",
   "execution_count": null,
   "id": "700cec6c-2928-4e18-a555-123a9d9cc74a",
   "metadata": {},
   "outputs": [],
   "source": [
    "# Sort the dictionary (by lower case of the key string) and \n",
    "#\t    save the results to a new dictionary \n",
    "dTemperature= {\"Glenside, PA\": 73, \"New York, NY\":70, \"Los Angeles, CA\":80, \"Boston, MA\":68,\"Philadelphia, PA\":75 }\n",
    "dTemperature"
   ]
  },
  {
   "cell_type": "code",
   "execution_count": null,
   "id": "c47ee6db-c1ab-4afc-a737-518c152f411f",
   "metadata": {},
   "outputs": [],
   "source": [
    "sortedTupleList = sorted(dTemperature.items(), key = lambda kv: (kv[0].split(\",\")[1]).lower())\n",
    "sortedTupleList"
   ]
  },
  {
   "cell_type": "code",
   "execution_count": null,
   "id": "3fdb3d65-1fd5-430d-8cfe-277a507bc662",
   "metadata": {},
   "outputs": [],
   "source": []
  }
 ],
 "metadata": {
  "kernelspec": {
   "display_name": "Python [conda env:base] *",
   "language": "python",
   "name": "conda-base-py"
  },
  "language_info": {
   "codemirror_mode": {
    "name": "ipython",
    "version": 3
   },
   "file_extension": ".py",
   "mimetype": "text/x-python",
   "name": "python",
   "nbconvert_exporter": "python",
   "pygments_lexer": "ipython3",
   "version": "3.12.4"
  }
 },
 "nbformat": 4,
 "nbformat_minor": 5
}
