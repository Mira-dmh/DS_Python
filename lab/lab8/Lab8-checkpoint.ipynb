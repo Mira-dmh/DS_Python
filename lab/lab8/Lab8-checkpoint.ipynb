{
 "cells": [
  {
   "cell_type": "markdown",
   "metadata": {},
   "source": [
    "<p style=\"font-family: Arial; font-size:2.75em;color:brown; font-style:bold\"><br>\n",
    "Lab8\n",
    "    </p>\n",
    "    <p style=\"font-family: Arial; font-size:1.75em;color:#2462C0; font-style:bold\">\n",
    "Visualization (15 + 3 bonus pts)<br>\n",
    "\n",
    "</p>\n",
    "\n"
   ]
  },
  {
   "cell_type": "markdown",
   "metadata": {},
   "source": [
    " **1.\t(1pts) Read *titanic.csv* into a dataframe. Show names of all indices and columns.** "
   ]
  },
  {
   "cell_type": "markdown",
   "metadata": {},
   "source": [
    "**2.\t(1 pt) Check how many rows with the 'Age' column being NaN.** <br>\n",
    "Hints: create a filter using *pandas.DataFrame.isnull()* or *pandas.DataFrame.isna()*, or *pandas.Series.isnull()*, or *pandas.Series.isna()*"
   ]
  },
  {
   "cell_type": "markdown",
   "metadata": {},
   "source": [
    "**3.\t(1 pt)Drop all rows with 'Age' being NaN and save it to a new dataframe called <span style=\"color:red\"> *df_validAges*.** </span>"
   ]
  },
  {
   "cell_type": "markdown",
   "metadata": {},
   "source": [
    "**4. (1 pt) Use *pandas.DataFrame.all()* to check if all ages in the new data frame <span style=\"color:red\"> *df_validAges*</span> are between 0 and 120.**"
   ]
  },
  {
   "cell_type": "markdown",
   "metadata": {},
   "source": [
    "**5. (1 pt) Plot the histogram of the <span style=\"color:red\"> *df_validAges*</span> dataframe, setting the bin size to be 8 and use colors of your choice for the bars and edge of the bars. \n",
    "Use return values of the *matplotpy.plot.hist()* function to find out the exact number of passengers in each bin.** <br>\n",
    "https://matplotlib.org/stable/api/_as_gen/matplotlib.pyplot.hist.html\n",
    "<img src = \"histAges.png\">"
   ]
  },
  {
   "cell_type": "markdown",
   "metadata": {},
   "source": [
    "**6. (1 pt) Use the *seaborn* module to create a bar chart that looks like the following, showing the number of male and female passengers of each class.** <br>\n",
    "<img src = \"PassengersByClass.png\">"
   ]
  },
  {
   "cell_type": "markdown",
   "metadata": {},
   "source": [
    "**7. (7 pt) Complete the following tasks.**\n",
    "- print all the unique values in the 'Cabin' column. <br>\n",
    "- You can see that these columns falls into five categories, A, B, C, D, E, create a dictionary\n",
    "containing a map from cabin category names to the number of passengers for each category. <br>\n",
    "- Create a pie chart for the count. (See the following graph for an example)<br>\n",
    "- create a line plot for the count. (See the following graph for an example)<br>\n",
    "https://matplotlib.org/stable/api/_as_gen/matplotlib.pyplot.pie.html <br>\n",
    "<img src = \"piechart.png\"> <br>\n",
    "<img src = \"lineplot.png\">"
   ]
  },
  {
   "cell_type": "markdown",
   "metadata": {},
   "source": [
    "**8. (2 pt) Complete the following tasks.**\n",
    "- Create a scatter plot of age vs fare.  <br>\n",
    "- Are they corelated? Calculate the Pearson correlation coefficient of these two variables.<br>\n",
    "\n",
    "https://pandas.pydata.org/docs/reference/api/pandas.DataFrame.corr.html <br>\n",
    "\n"
   ]
  },
  {
   "cell_type": "markdown",
   "metadata": {},
   "source": [
    "**9.1 The following example code illustrates applying a function into a column.** "
   ]
  },
  {
   "cell_type": "code",
   "execution_count": 38,
   "metadata": {
    "scrolled": true
   },
   "outputs": [
    {
     "data": {
      "text/html": [
       "<div>\n",
       "<style scoped>\n",
       "    .dataframe tbody tr th:only-of-type {\n",
       "        vertical-align: middle;\n",
       "    }\n",
       "\n",
       "    .dataframe tbody tr th {\n",
       "        vertical-align: top;\n",
       "    }\n",
       "\n",
       "    .dataframe thead th {\n",
       "        text-align: right;\n",
       "    }\n",
       "</style>\n",
       "<table border=\"1\" class=\"dataframe\">\n",
       "  <thead>\n",
       "    <tr style=\"text-align: right;\">\n",
       "      <th></th>\n",
       "      <th>PassengerId</th>\n",
       "      <th>Survived</th>\n",
       "      <th>Pclass</th>\n",
       "      <th>Name</th>\n",
       "      <th>Sex</th>\n",
       "      <th>Age</th>\n",
       "      <th>SibSp</th>\n",
       "      <th>Parch</th>\n",
       "      <th>Ticket</th>\n",
       "      <th>Fare</th>\n",
       "      <th>Cabin</th>\n",
       "      <th>Embarked</th>\n",
       "      <th>GenderAbb</th>\n",
       "    </tr>\n",
       "  </thead>\n",
       "  <tbody>\n",
       "    <tr>\n",
       "      <th>0</th>\n",
       "      <td>1</td>\n",
       "      <td>0</td>\n",
       "      <td>3</td>\n",
       "      <td>Braund, Mr. Owen Harris</td>\n",
       "      <td>male</td>\n",
       "      <td>22.0</td>\n",
       "      <td>1</td>\n",
       "      <td>0</td>\n",
       "      <td>A/5 21171</td>\n",
       "      <td>7.2500</td>\n",
       "      <td>NaN</td>\n",
       "      <td>S</td>\n",
       "      <td>M</td>\n",
       "    </tr>\n",
       "    <tr>\n",
       "      <th>1</th>\n",
       "      <td>2</td>\n",
       "      <td>1</td>\n",
       "      <td>1</td>\n",
       "      <td>Cumings, Mrs. John Bradley (Florence Briggs Th...</td>\n",
       "      <td>female</td>\n",
       "      <td>38.0</td>\n",
       "      <td>1</td>\n",
       "      <td>0</td>\n",
       "      <td>PC 17599</td>\n",
       "      <td>71.2833</td>\n",
       "      <td>C85</td>\n",
       "      <td>C</td>\n",
       "      <td>F</td>\n",
       "    </tr>\n",
       "    <tr>\n",
       "      <th>2</th>\n",
       "      <td>3</td>\n",
       "      <td>1</td>\n",
       "      <td>3</td>\n",
       "      <td>Heikkinen, Miss. Laina</td>\n",
       "      <td>female</td>\n",
       "      <td>26.0</td>\n",
       "      <td>0</td>\n",
       "      <td>0</td>\n",
       "      <td>STON/O2. 3101282</td>\n",
       "      <td>7.9250</td>\n",
       "      <td>NaN</td>\n",
       "      <td>S</td>\n",
       "      <td>F</td>\n",
       "    </tr>\n",
       "    <tr>\n",
       "      <th>3</th>\n",
       "      <td>4</td>\n",
       "      <td>1</td>\n",
       "      <td>1</td>\n",
       "      <td>Futrelle, Mrs. Jacques Heath (Lily May Peel)</td>\n",
       "      <td>female</td>\n",
       "      <td>35.0</td>\n",
       "      <td>1</td>\n",
       "      <td>0</td>\n",
       "      <td>113803</td>\n",
       "      <td>53.1000</td>\n",
       "      <td>C123</td>\n",
       "      <td>S</td>\n",
       "      <td>F</td>\n",
       "    </tr>\n",
       "    <tr>\n",
       "      <th>4</th>\n",
       "      <td>5</td>\n",
       "      <td>0</td>\n",
       "      <td>3</td>\n",
       "      <td>Allen, Mr. William Henry</td>\n",
       "      <td>male</td>\n",
       "      <td>35.0</td>\n",
       "      <td>0</td>\n",
       "      <td>0</td>\n",
       "      <td>373450</td>\n",
       "      <td>8.0500</td>\n",
       "      <td>NaN</td>\n",
       "      <td>S</td>\n",
       "      <td>M</td>\n",
       "    </tr>\n",
       "  </tbody>\n",
       "</table>\n",
       "</div>"
      ],
      "text/plain": [
       "   PassengerId  Survived  Pclass  \\\n",
       "0            1         0       3   \n",
       "1            2         1       1   \n",
       "2            3         1       3   \n",
       "3            4         1       1   \n",
       "4            5         0       3   \n",
       "\n",
       "                                                Name     Sex   Age  SibSp  \\\n",
       "0                            Braund, Mr. Owen Harris    male  22.0      1   \n",
       "1  Cumings, Mrs. John Bradley (Florence Briggs Th...  female  38.0      1   \n",
       "2                             Heikkinen, Miss. Laina  female  26.0      0   \n",
       "3       Futrelle, Mrs. Jacques Heath (Lily May Peel)  female  35.0      1   \n",
       "4                           Allen, Mr. William Henry    male  35.0      0   \n",
       "\n",
       "   Parch            Ticket     Fare Cabin Embarked GenderAbb  \n",
       "0      0         A/5 21171   7.2500   NaN        S         M  \n",
       "1      0          PC 17599  71.2833   C85        C         F  \n",
       "2      0  STON/O2. 3101282   7.9250   NaN        S         F  \n",
       "3      0            113803  53.1000  C123        S         F  \n",
       "4      0            373450   8.0500   NaN        S         M  "
      ]
     },
     "execution_count": 38,
     "metadata": {},
     "output_type": "execute_result"
    }
   ],
   "source": [
    "#Example code showing applying a function into a column.\n",
    "\n",
    "import numpy as np\n",
    "\n",
    "def GenderAbbrev(sex):\n",
    "    if sex == 'female':\n",
    "        #print(int(age))\n",
    "        return 'F'\n",
    "    else:\n",
    "        return 'M'\n",
    "  \n",
    "#create a new column 'GenderAbb' representing gender abbreviations\n",
    "titanicDF['GenderAbb'] = titanicDF['Sex'].apply(GenderAbbrev )\n",
    "titanicDF.head()\n"
   ]
  },
  {
   "cell_type": "markdown",
   "metadata": {},
   "source": [
    "**9.2 (2 pts) Complete the following tasks:**\n",
    "1. Define a function that returns a string based on the parameter *age*. Specifically, \n",
    "    - return 'Seniors' if age is 50 or higher <br>\n",
    "    - return 'Children' if age is lower than 18 <br>\n",
    "    - return 'Adults' if age is between 18 and 49, inclusive on both ends.<br>\n",
    "    \n",
    "2.Use the **Pandas.Series.apply()** functionto apply the above function to the column 'Age' of dataframe <span style='color:red'>**df_validAges**</span>, which you created in Problem 3 above. Save the results in a new column named 'AgeGroup'. \n",
    "\n"
   ]
  },
  {
   "cell_type": "markdown",
   "metadata": {},
   "source": [
    "**10 (1 pt) use seaborn to plot a grouped bar chart to show number of adults, seniors and children for each Pclass in the <span style='color:red'>*df_validAge*</span> data frame. The following is an example graph.** \n",
    "<img src = \"AgeGroups_Class.png\">"
   ]
  }
 ],
 "metadata": {
  "kernelspec": {
   "display_name": "Python [conda env:base] *",
   "language": "python",
   "name": "conda-base-py"
  },
  "language_info": {
   "codemirror_mode": {
    "name": "ipython",
    "version": 3
   },
   "file_extension": ".py",
   "mimetype": "text/x-python",
   "name": "python",
   "nbconvert_exporter": "python",
   "pygments_lexer": "ipython3",
   "version": "3.12.4"
  }
 },
 "nbformat": 4,
 "nbformat_minor": 4
}
